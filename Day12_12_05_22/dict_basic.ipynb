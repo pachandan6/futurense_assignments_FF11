{
 "cells": [
  {
   "cell_type": "code",
   "execution_count": 1,
   "id": "3bd06ec2",
   "metadata": {},
   "outputs": [
    {
     "name": "stdout",
     "output_type": "stream",
     "text": [
      "<class 'list'>\n"
     ]
    }
   ],
   "source": [
    "var=[]\n",
    "print(type(var))"
   ]
  },
  {
   "cell_type": "code",
   "execution_count": 2,
   "id": "f82fac14",
   "metadata": {},
   "outputs": [
    {
     "name": "stdout",
     "output_type": "stream",
     "text": [
      "['dhoni', 'virar']\n"
     ]
    }
   ],
   "source": [
    "var=['dhoni','virar']\n",
    "print(var)"
   ]
  },
  {
   "cell_type": "code",
   "execution_count": 3,
   "id": "58d55656",
   "metadata": {},
   "outputs": [
    {
     "name": "stdout",
     "output_type": "stream",
     "text": [
      "['dhoni', 'virar']\n"
     ]
    }
   ],
   "source": [
    "var=['dhoni']\n",
    "var1=['virat']\n",
    "print(var+var1)"
   ]
  },
  {
   "cell_type": "code",
   "execution_count": 4,
   "id": "a5c89845",
   "metadata": {},
   "outputs": [
    {
     "ename": "IndexError",
     "evalue": "list assignment index out of range",
     "output_type": "error",
     "traceback": [
      "\u001b[0;31m---------------------------------------------------------------------------\u001b[0m",
      "\u001b[0;31mIndexError\u001b[0m                                Traceback (most recent call last)",
      "\u001b[0;32m<ipython-input-4-aa2f3a63792e>\u001b[0m in \u001b[0;36m<module>\u001b[0;34m\u001b[0m\n\u001b[0;32m----> 1\u001b[0;31m \u001b[0mvar\u001b[0m\u001b[0;34m[\u001b[0m\u001b[0;36m1\u001b[0m\u001b[0;34m]\u001b[0m\u001b[0;34m=\u001b[0m\u001b[0;34m'hello'\u001b[0m\u001b[0;34m\u001b[0m\u001b[0;34m\u001b[0m\u001b[0m\n\u001b[0m\u001b[1;32m      2\u001b[0m \u001b[0mprint\u001b[0m\u001b[0;34m(\u001b[0m\u001b[0mvar\u001b[0m\u001b[0;34m)\u001b[0m\u001b[0;34m\u001b[0m\u001b[0;34m\u001b[0m\u001b[0m\n",
      "\u001b[0;31mIndexError\u001b[0m: list assignment index out of range"
     ]
    }
   ],
   "source": [
    "var[1]='hello'\n",
    "print(var)"
   ]
  },
  {
   "cell_type": "code",
   "execution_count": 6,
   "id": "c4061abf",
   "metadata": {},
   "outputs": [
    {
     "name": "stdout",
     "output_type": "stream",
     "text": [
      "['dhoni', 'gambhir', 'gambhir']\n"
     ]
    }
   ],
   "source": [
    "var.insert(1,'gambhir')\n",
    "print(var)"
   ]
  },
  {
   "cell_type": "code",
   "execution_count": 7,
   "id": "693dec5d",
   "metadata": {},
   "outputs": [
    {
     "name": "stdout",
     "output_type": "stream",
     "text": [
      "['dhoni', 'virat', 'gambhir', 'gambhir']\n"
     ]
    }
   ],
   "source": [
    "var.insert(1,'virat')\n",
    "print(var)"
   ]
  },
  {
   "cell_type": "code",
   "execution_count": 8,
   "id": "2a6c3b88",
   "metadata": {},
   "outputs": [
    {
     "name": "stdout",
     "output_type": "stream",
     "text": [
      "['dhoni', 'virat', 'gambhir', 'gambhir', 'virat']\n"
     ]
    }
   ],
   "source": [
    "var.insert(7,'virat')\n",
    "#if the position is greater than the index,element will be inserted at the last\n",
    "print(var)"
   ]
  },
  {
   "cell_type": "code",
   "execution_count": 9,
   "id": "d3636f02",
   "metadata": {},
   "outputs": [
    {
     "name": "stdout",
     "output_type": "stream",
     "text": [
      "['dhoni', 'virat', 'gambhir', 'gambhir', 'virat', 'shreyas']\n"
     ]
    }
   ],
   "source": [
    "var.append(\"shreyas\")\n",
    "print(var)"
   ]
  },
  {
   "cell_type": "code",
   "execution_count": 10,
   "id": "36277e63",
   "metadata": {},
   "outputs": [
    {
     "ename": "TypeError",
     "evalue": "append() takes exactly one argument (2 given)",
     "output_type": "error",
     "traceback": [
      "\u001b[0;31m---------------------------------------------------------------------------\u001b[0m",
      "\u001b[0;31mTypeError\u001b[0m                                 Traceback (most recent call last)",
      "\u001b[0;32m<ipython-input-10-f779c6b6f134>\u001b[0m in \u001b[0;36m<module>\u001b[0;34m\u001b[0m\n\u001b[0;32m----> 1\u001b[0;31m \u001b[0mvar\u001b[0m\u001b[0;34m.\u001b[0m\u001b[0mappend\u001b[0m\u001b[0;34m(\u001b[0m\u001b[0;34m\"pant\"\u001b[0m\u001b[0;34m,\u001b[0m\u001b[0;34m\"gayle\"\u001b[0m\u001b[0;34m)\u001b[0m\u001b[0;34m\u001b[0m\u001b[0;34m\u001b[0m\u001b[0m\n\u001b[0m\u001b[1;32m      2\u001b[0m \u001b[0mprint\u001b[0m\u001b[0;34m(\u001b[0m\u001b[0mvar\u001b[0m\u001b[0;34m)\u001b[0m\u001b[0;34m\u001b[0m\u001b[0;34m\u001b[0m\u001b[0m\n",
      "\u001b[0;31mTypeError\u001b[0m: append() takes exactly one argument (2 given)"
     ]
    }
   ],
   "source": [
    "var.append(\"pant\",\"gayle\")\n",
    "print(var)"
   ]
  },
  {
   "cell_type": "code",
   "execution_count": 11,
   "id": "24b3191c",
   "metadata": {},
   "outputs": [
    {
     "name": "stdout",
     "output_type": "stream",
     "text": [
      "['dhoni', 'virat', 'gambhir', 'gambhir', 'virat', 'shreyas', ['hey', 'hello']]\n"
     ]
    }
   ],
   "source": [
    "var.append([\"hey\",\"hello\"])\n",
    "print(var)"
   ]
  },
  {
   "cell_type": "code",
   "execution_count": 12,
   "id": "15b25f84",
   "metadata": {},
   "outputs": [
    {
     "name": "stdout",
     "output_type": "stream",
     "text": [
      "['dhoni', 'virat', 'gambhir', 'gambhir', 'virat', 'shreyas', ['hey', 'hello'], ('pan', 'gle')]\n"
     ]
    }
   ],
   "source": [
    "var.append((\"pan\",\"gle\"))\n",
    "print(var)"
   ]
  },
  {
   "cell_type": "code",
   "execution_count": 16,
   "id": "1db59ccd",
   "metadata": {},
   "outputs": [
    {
     "name": "stdout",
     "output_type": "stream",
     "text": [
      "deque(['hi', 'dhoni', 'virat', 'gambhir', 'gambhir', 'virat', 'shreyas', ['hey', 'hello'], ('pan', 'gle')])\n"
     ]
    }
   ],
   "source": [
    "import collections\n",
    "de =collections.deque(var)\n",
    "de.appendleft(\"hi\")\n",
    "print(de)"
   ]
  },
  {
   "cell_type": "code",
   "execution_count": 18,
   "id": "a34e3fb5",
   "metadata": {},
   "outputs": [
    {
     "name": "stdout",
     "output_type": "stream",
     "text": [
      "This is a Dict:\n",
      "\n",
      "a 1\n",
      "e 3\n",
      "b 2\n",
      "c 3\n",
      "d 4\n",
      "\n",
      "This is an Ordered Dict:\n",
      "\n",
      "a 1\n",
      "b 2\n",
      "c 3\n",
      "d 4\n"
     ]
    }
   ],
   "source": [
    "# A Python program to demonstrate working of OrderedDict\n",
    "from collections import OrderedDict\n",
    "\n",
    "print(\"This is a Dict:\\n\")\n",
    "d = {}\n",
    "d['a'] = 1\n",
    "d['e']=3\n",
    "d['b'] = 2\n",
    "d['c'] = 3\n",
    "d['d'] = 4\n",
    "\n",
    "\n",
    "for key, value in d.items():\n",
    "\tprint(key, value)\n",
    "\n",
    "print(\"\\nThis is an Ordered Dict:\\n\")\n",
    "od = OrderedDict()\n",
    "od['a'] = 1\n",
    "od['b'] = 2\n",
    "od['c'] = 3\n",
    "od['d'] = 4\n",
    "\n",
    "for key, value in od.items():\n",
    "\tprint(key, value)\n"
   ]
  },
  {
   "cell_type": "code",
   "execution_count": 22,
   "id": "1da4a183",
   "metadata": {},
   "outputs": [
    {
     "name": "stdout",
     "output_type": "stream",
     "text": [
      "['dhoni', 'virat', 'gambhir', 'gambhir', 'virat', 'shreyas', ['hey', 'hello'], ('pan', 'gle'), 's', 'u', 'm', 'a', 'n', 't', 'h', 's', 'u', 'm', 'a', 'n', 't', 'h', 'sumanth', 'hello']\n"
     ]
    }
   ],
   "source": [
    "var.extend((\"sumanth\",\"hello\"))\n",
    "print(var)"
   ]
  },
  {
   "cell_type": "code",
   "execution_count": 24,
   "id": "cee3a140",
   "metadata": {},
   "outputs": [
    {
     "name": "stdout",
     "output_type": "stream",
     "text": [
      "['2', '4', '8', 'hello', 'wdf', 'wqdfqw']\n"
     ]
    }
   ],
   "source": [
    "var=[\"hello\",\"wdf\",\"wqdfqw\",\"4\",\"8\",\"2\"]\n",
    "var.sort()\n",
    "print(var)"
   ]
  },
  {
   "cell_type": "code",
   "execution_count": 25,
   "id": "b7498386",
   "metadata": {},
   "outputs": [
    {
     "name": "stdout",
     "output_type": "stream",
     "text": [
      "['wqdfqw', 'wdf', 'hello', '8', '4', '2']\n"
     ]
    }
   ],
   "source": [
    "var.sort(reverse=True)\n",
    "print(var)"
   ]
  },
  {
   "cell_type": "code",
   "execution_count": 26,
   "id": "ea407363",
   "metadata": {},
   "outputs": [
    {
     "name": "stdout",
     "output_type": "stream",
     "text": [
      "['wqdfqw', 'wdf', 'hello', '8', '4', '2']\n"
     ]
    }
   ],
   "source": [
    "op=sorted(var,reverse=True)\n",
    "print(op)"
   ]
  },
  {
   "cell_type": "code",
   "execution_count": 27,
   "id": "2072923b",
   "metadata": {},
   "outputs": [
    {
     "name": "stdout",
     "output_type": "stream",
     "text": [
      "['wqdfqw', 'hello', 'wdf', '8', '4', '2']\n"
     ]
    }
   ],
   "source": [
    "op=sorted(var,reverse=True,key=len)\n",
    "print(op)"
   ]
  },
  {
   "cell_type": "code",
   "execution_count": 29,
   "id": "41aa9149",
   "metadata": {},
   "outputs": [
    {
     "name": "stdout",
     "output_type": "stream",
     "text": [
      "['wqdfqw', 'wdf', 'hello', '8', '4', '2', 'A', 'F', 'Z', 'z', 'q', 'o']\n"
     ]
    }
   ],
   "source": [
    "var.extend((\"A\",\"F\",\"Z\",\"z\",\"q\",\"o\"))\n",
    "print(var)"
   ]
  },
  {
   "cell_type": "code",
   "execution_count": 31,
   "id": "091f7e56",
   "metadata": {},
   "outputs": [
    {
     "name": "stdout",
     "output_type": "stream",
     "text": [
      "['8', '4', '2', 'A', 'F', 'Z', 'z', 'q', 'o', 'wdf', 'hello', 'wqdfqw']\n"
     ]
    }
   ],
   "source": [
    "op=sorted(var,reverse=False,key=len)\n",
    "print(op)"
   ]
  },
  {
   "cell_type": "code",
   "execution_count": 55,
   "id": "a83a1d4a",
   "metadata": {},
   "outputs": [
    {
     "name": "stdout",
     "output_type": "stream",
     "text": [
      "[2, 5, 7, 8, 'niwhsa', 'tac', 'teksab', 'elsia']\n"
     ]
    }
   ],
   "source": [
    "v=[\"ashwin\",\"cat\",\"basket\",\"aisle\",5,2,7,8,(\"a\",\"b\")]\n",
    "#output 2,5,7,8,\"nishwa\",\"tac\",\"teksab\",\"elsia\"\n",
    "word=[]\n",
    "num=[]\n",
    "for ele in v:\n",
    "    if isinstance(ele, str)==True:\n",
    "        ele=ele[::-1]\n",
    "        word.append(ele) \n",
    "    elif isinstance(ele, int)==True:\n",
    "        num.append(ele)\n",
    "\n",
    "num.sort()\n",
    "srtlst=num+word\n",
    "print(srtlst)\n"
   ]
  },
  {
   "cell_type": "code",
   "execution_count": 94,
   "id": "759dc504",
   "metadata": {},
   "outputs": [
    {
     "name": "stdout",
     "output_type": "stream",
     "text": [
      "[5, 2, 7, 8, 'niwhsa', 'tac', 'teksab', 'elsia']\n"
     ]
    }
   ],
   "source": [
    "v=[\"ashwin\",\"cat\",\"basket\",\"aisle\",5,2,7,8,(\"a\",\"b\")]\n",
    "v=[ele for ele in v if type(ele)==int]+[ele[::-1] for ele in v if type(ele)==str]\n",
    "print(v)"
   ]
  },
  {
   "cell_type": "code",
   "execution_count": 74,
   "id": "e33d92c7",
   "metadata": {},
   "outputs": [
    {
     "name": "stdout",
     "output_type": "stream",
     "text": [
      "<class 'tuple'>\n",
      "<class 'str'>\n"
     ]
    }
   ],
   "source": [
    "var=()\n",
    "print(type(var))\n",
    "var=(\"dhoni\")\n",
    "print(type(var))\n"
   ]
  },
  {
   "cell_type": "code",
   "execution_count": 84,
   "id": "353cb4f6",
   "metadata": {},
   "outputs": [
    {
     "name": "stdout",
     "output_type": "stream",
     "text": [
      "('dhoni', 'kohli')\n",
      "<class 'tuple'>\n",
      "56\n"
     ]
    }
   ],
   "source": [
    "import sys\n",
    "var=(\"dhoni\",\"kohli\")\n",
    "print(var)\n",
    "print(type(var))\n",
    "print(sys.getsizeof(var))"
   ]
  },
  {
   "cell_type": "code",
   "execution_count": 85,
   "id": "eee69c59",
   "metadata": {},
   "outputs": [
    {
     "name": "stdout",
     "output_type": "stream",
     "text": [
      "['dhoni', 'kohli']\n",
      "<class 'list'>\n",
      "72\n"
     ]
    }
   ],
   "source": [
    "var=[\"dhoni\",\"kohli\"]\n",
    "print(var)\n",
    "print(type(var))\n",
    "print(sys.getsizeof(var))"
   ]
  },
  {
   "cell_type": "code",
   "execution_count": 86,
   "id": "e179f1e9",
   "metadata": {},
   "outputs": [
    {
     "name": "stdout",
     "output_type": "stream",
     "text": [
      "<class 'dict'>\n"
     ]
    }
   ],
   "source": [
    "var={}  #dictionary\n",
    "print(type(var))"
   ]
  },
  {
   "cell_type": "code",
   "execution_count": 88,
   "id": "fac2cfd4",
   "metadata": {},
   "outputs": [
    {
     "name": "stdout",
     "output_type": "stream",
     "text": [
      "{'name': 'dhoni', 'age': 34}\n",
      "<class 'dict'>\n"
     ]
    }
   ],
   "source": [
    "var={\"name\":\"dhoni\",\"age\":34}\n",
    "print(var)\n",
    "print(type(var))\n",
    "# key should be unique and immutable"
   ]
  },
  {
   "cell_type": "code",
   "execution_count": 91,
   "id": "52b96094",
   "metadata": {},
   "outputs": [
    {
     "name": "stdout",
     "output_type": "stream",
     "text": [
      "{'name': 'dhoni', 'age': 44}\n"
     ]
    }
   ],
   "source": [
    "var={\"name\":\"dhoni\",\"age\":34,\"age\":44}\n",
    "print(var)"
   ]
  },
  {
   "cell_type": "code",
   "execution_count": 92,
   "id": "62c545a9",
   "metadata": {},
   "outputs": [
    {
     "ename": "TypeError",
     "evalue": "unhashable type: 'list'",
     "output_type": "error",
     "traceback": [
      "\u001b[0;31m---------------------------------------------------------------------------\u001b[0m",
      "\u001b[0;31mTypeError\u001b[0m                                 Traceback (most recent call last)",
      "\u001b[0;32m<ipython-input-92-699619ed32e9>\u001b[0m in \u001b[0;36m<module>\u001b[0;34m\u001b[0m\n\u001b[0;32m----> 1\u001b[0;31m \u001b[0mvar\u001b[0m\u001b[0;34m=\u001b[0m\u001b[0;34m{\u001b[0m\u001b[0;34m\"name\"\u001b[0m\u001b[0;34m:\u001b[0m\u001b[0;34m\"dhoni\"\u001b[0m\u001b[0;34m,\u001b[0m\u001b[0;34m\"age\"\u001b[0m\u001b[0;34m:\u001b[0m\u001b[0;36m34\u001b[0m\u001b[0;34m,\u001b[0m\u001b[0;34m\"age\"\u001b[0m\u001b[0;34m:\u001b[0m\u001b[0;36m44\u001b[0m\u001b[0;34m,\u001b[0m\u001b[0;34m[\u001b[0m\u001b[0;34m\"a\"\u001b[0m\u001b[0;34m,\u001b[0m\u001b[0;34m\"b\"\u001b[0m\u001b[0;34m]\u001b[0m\u001b[0;34m:\u001b[0m\u001b[0;34m\"kohli\"\u001b[0m\u001b[0;34m}\u001b[0m\u001b[0;34m\u001b[0m\u001b[0;34m\u001b[0m\u001b[0m\n\u001b[0m\u001b[1;32m      2\u001b[0m \u001b[0mprint\u001b[0m\u001b[0;34m(\u001b[0m\u001b[0mvar\u001b[0m\u001b[0;34m)\u001b[0m\u001b[0;34m\u001b[0m\u001b[0;34m\u001b[0m\u001b[0m\n",
      "\u001b[0;31mTypeError\u001b[0m: unhashable type: 'list'"
     ]
    }
   ],
   "source": [
    "var={\"name\":\"dhoni\",\"age\":34,\"age\":44,[\"a\",\"b\"]:\"kohli\"}\n",
    "print(var)"
   ]
  },
  {
   "cell_type": "code",
   "execution_count": 103,
   "id": "09243bac",
   "metadata": {},
   "outputs": [
    {
     "name": "stdout",
     "output_type": "stream",
     "text": [
      "{'name': 'dhoni', 'age': [44, 32]}\n",
      "{'name': 'dhoni', 'age': [44, 10]}\n"
     ]
    }
   ],
   "source": [
    "var={\"name\":\"dhoni\",\"age\":34,\"age\":[44,32]}\n",
    "print(var)\n",
    "var[\"age\"][1]=10\n",
    "print(var)"
   ]
  },
  {
   "cell_type": "code",
   "execution_count": null,
   "id": "1603c5d8",
   "metadata": {},
   "outputs": [],
   "source": [
    "#task\n",
    "#pprint\n",
    "#coloroma"
   ]
  },
  {
   "cell_type": "code",
   "execution_count": 98,
   "id": "78b581a5",
   "metadata": {},
   "outputs": [
    {
     "name": "stdout",
     "output_type": "stream",
     "text": [
      "{'age': [44, 10], 'name': 'dhoni'}\n"
     ]
    }
   ],
   "source": [
    "from pprint import pprint\n",
    "pprint(var)"
   ]
  },
  {
   "cell_type": "code",
   "execution_count": 101,
   "id": "9f529718",
   "metadata": {},
   "outputs": [
    {
     "name": "stdout",
     "output_type": "stream",
     "text": [
      "\u001b[42m{'name': 'dhoni', 'age': [44, 10]}\n"
     ]
    }
   ],
   "source": [
    "from colorama import Fore, Back, Style\n",
    "print(Back.GREEN+str(var))"
   ]
  },
  {
   "cell_type": "code",
   "execution_count": 104,
   "id": "262705e7",
   "metadata": {},
   "outputs": [
    {
     "name": "stdout",
     "output_type": "stream",
     "text": [
      "['__class__', '__contains__', '__delattr__', '__delitem__', '__dir__', '__doc__', '__eq__', '__format__', '__ge__', '__getattribute__', '__getitem__', '__gt__', '__hash__', '__init__', '__init_subclass__', '__iter__', '__le__', '__len__', '__lt__', '__ne__', '__new__', '__reduce__', '__reduce_ex__', '__repr__', '__reversed__', '__setattr__', '__setitem__', '__sizeof__', '__str__', '__subclasshook__', 'clear', 'copy', 'fromkeys', 'get', 'items', 'keys', 'pop', 'popitem', 'setdefault', 'update', 'values']\n"
     ]
    }
   ],
   "source": [
    "print(dir(var))"
   ]
  },
  {
   "cell_type": "code",
   "execution_count": 108,
   "id": "2799fcec",
   "metadata": {},
   "outputs": [
    {
     "name": "stdout",
     "output_type": "stream",
     "text": [
      "<list_iterator object at 0x7ff7213abdc0>\n"
     ]
    }
   ],
   "source": [
    "dic={\n",
    "    \"brand\": \"Ford\",\n",
    "  \"model\": \"Mustang\",\n",
    "  \"year\": 1964,\n",
    "  \"year\": 2020\n",
    "    }\n",
    "d=d.__iter__()\n",
    "print(d)"
   ]
  },
  {
   "cell_type": "code",
   "execution_count": 112,
   "id": "3c6e29c5",
   "metadata": {},
   "outputs": [
    {
     "name": "stdout",
     "output_type": "stream",
     "text": [
      "3\n"
     ]
    }
   ],
   "source": [
    "d=dic.__len__()\n",
    "print(d)"
   ]
  },
  {
   "cell_type": "code",
   "execution_count": 116,
   "id": "5ddfe704",
   "metadata": {},
   "outputs": [
    {
     "name": "stdout",
     "output_type": "stream",
     "text": [
      "dict_keys(['brand', 'model', 'year'])\n"
     ]
    }
   ],
   "source": [
    "print(dic.keys())"
   ]
  },
  {
   "cell_type": "code",
   "execution_count": 117,
   "id": "2080a5ac",
   "metadata": {},
   "outputs": [
    {
     "name": "stdout",
     "output_type": "stream",
     "text": [
      "dict_items([('brand', 'Ford'), ('model', 'Mustang'), ('year', 2020)])\n"
     ]
    }
   ],
   "source": [
    "print(dic.items())"
   ]
  },
  {
   "cell_type": "code",
   "execution_count": 118,
   "id": "911e4766",
   "metadata": {},
   "outputs": [
    {
     "name": "stdout",
     "output_type": "stream",
     "text": [
      "Mustang\n"
     ]
    }
   ],
   "source": [
    "op=dic.get('model')\n",
    "print(op)"
   ]
  },
  {
   "cell_type": "code",
   "execution_count": 119,
   "id": "f0ff9375",
   "metadata": {},
   "outputs": [
    {
     "name": "stdout",
     "output_type": "stream",
     "text": [
      "{'brand': 'Ford', 'model': 'Mustang'}\n"
     ]
    }
   ],
   "source": [
    "dic.popitem()\n",
    "print(dic)"
   ]
  },
  {
   "cell_type": "code",
   "execution_count": 126,
   "id": "b2b74e61",
   "metadata": {},
   "outputs": [
    {
     "name": "stdout",
     "output_type": "stream",
     "text": [
      "{1: 'a', 2: 'b', 3: 'c'}\n"
     ]
    }
   ],
   "source": [
    "var=[1,\"a\",2,\"b\",3,\"c\"]\n",
    "#output={1:\"a\",2:\"b\",3:\"c\"}\n",
    "var_iter=iter(var)\n",
    "var_zip=dict(zip(var_iter,var_iter))\n",
    "print(var_zip)"
   ]
  },
  {
   "cell_type": "code",
   "execution_count": 127,
   "id": "0456bf73",
   "metadata": {},
   "outputs": [
    {
     "name": "stdout",
     "output_type": "stream",
     "text": [
      "56\n"
     ]
    }
   ],
   "source": [
    "var=[4,5,6].pop()\n",
    "var+=50\n",
    "print(var)"
   ]
  },
  {
   "cell_type": "code",
   "execution_count": 130,
   "id": "ca0e2e69",
   "metadata": {},
   "outputs": [],
   "source": [
    "import mysql.connector"
   ]
  },
  {
   "cell_type": "code",
   "execution_count": 135,
   "id": "8afdb6f7",
   "metadata": {},
   "outputs": [
    {
     "name": "stdout",
     "output_type": "stream",
     "text": [
      "('classicmodels',)\n",
      "('frs_db',)\n",
      "('futureDB',)\n",
      "('futurense',)\n",
      "('information_schema',)\n",
      "('mydatabase',)\n",
      "('mysql',)\n",
      "('performance_schema',)\n",
      "('sys',)\n",
      "('task',)\n"
     ]
    }
   ],
   "source": [
    "#fun without argument\n",
    "def showmyDB():\n",
    "    \n",
    "    mydb = mysql.connector.connect(host=\"localhost\",user=\"root\",password=\"CHANDra@123\")\n",
    "    mycursor = mydb.cursor()\n",
    "    mycursor.execute('SHOW DATABASES;')\n",
    "    for x in mycursor:\n",
    "        print(x)\n",
    "    \n",
    "showmyDB()"
   ]
  },
  {
   "cell_type": "code",
   "execution_count": 140,
   "id": "bf6c9583",
   "metadata": {},
   "outputs": [],
   "source": [
    "#fun with default argument\n",
    "def showmyDB(pwd=\"CHANDra@123\"):\n",
    "    \n",
    "    mydb = mysql.connector.connect(host=\"localhost\",user=\"root\",password=pwd)\n",
    "    mycursor = mydb.cursor()\n",
    "    mycursor.execute('SHOW DATABASES;')\n",
    "    for x in mycursor:\n",
    "        print(x)\n",
    "    \n",
    "showmyDB()"
   ]
  },
  {
   "cell_type": "code",
   "execution_count": 150,
   "id": "ddb8de62",
   "metadata": {},
   "outputs": [
    {
     "name": "stdout",
     "output_type": "stream",
     "text": [
      "('chandan',)\n",
      "('frs_booking',)\n",
      "('frs_cancellation',)\n",
      "('frs_carts',)\n",
      "('frs_city',)\n",
      "('frs_log',)\n",
      "('frs_refund',)\n",
      "('frs_registation',)\n",
      "('frs_seat_spec',)\n",
      "('frs_seating',)\n",
      "('frs_station',)\n",
      "('frs_train',)\n",
      "('frs_train_cart_map',)\n",
      "('frs_train_schedule',)\n",
      "('frs_train_specifications',)\n",
      "('frs_transaction',)\n"
     ]
    }
   ],
   "source": [
    "#fun with argumenst\n",
    "def showmyDB(table_name,pwd=\"CHANDra@123\"):\n",
    "    \n",
    "    mydb = mysql.connector.connect(host=\"localhost\",user=\"root\",password=pwd)\n",
    "    mycursor = mydb.cursor()\n",
    "    mycursor.execute('use frs_db;')\n",
    "    mycursor.execute(f'create table {table_name}(name varchar(10))')\n",
    "    for x in mycursor:\n",
    "        print(x)\n",
    "    \n",
    "showmyDB()"
   ]
  },
  {
   "cell_type": "code",
   "execution_count": 154,
   "id": "0e0d184b",
   "metadata": {},
   "outputs": [
    {
     "name": "stdout",
     "output_type": "stream",
     "text": [
      "('chandan',)\n",
      "('frs_booking',)\n",
      "('frs_cancellation',)\n",
      "('frs_carts',)\n",
      "('frs_city',)\n",
      "('frs_log',)\n",
      "('frs_refund',)\n",
      "('frs_registation',)\n",
      "('frs_seat_spec',)\n",
      "('frs_seating',)\n",
      "('frs_station',)\n",
      "('frs_train',)\n",
      "('frs_train_cart_map',)\n",
      "('frs_train_schedule',)\n",
      "('frs_train_specifications',)\n",
      "('frs_transaction',)\n",
      "('hello',)\n"
     ]
    }
   ],
   "source": [
    "#fun with keyword argumenst\n",
    "def showmyDB(table_name,pwd):\n",
    "    \n",
    "    mydb = mysql.connector.connect(host=\"localhost\",user=\"root\",password=pwd)\n",
    "    mycursor = mydb.cursor()\n",
    "    mycursor.execute('use frs_db;')\n",
    "    mycursor.execute(f'create table {table_name}(name varchar(10))')\n",
    "    mycursor.execute('show tables;')\n",
    "    for x in mycursor:\n",
    "        print(x)\n",
    "    \n",
    "showmyDB(pwd=\"CHANDra@123\",table_name=\"hello\")"
   ]
  },
  {
   "cell_type": "code",
   "execution_count": 159,
   "id": "63881a43",
   "metadata": {},
   "outputs": [
    {
     "name": "stdout",
     "output_type": "stream",
     "text": [
      "['team', 'country']\n"
     ]
    }
   ],
   "source": [
    "def showmyDB(*column_names,table_name=\"bye\",pwd=\"CHANDra@123\"):\n",
    "    col=list(column_names)\n",
    "    col\n",
    "    mydb = mysql.connector.connect(host=\"localhost\",user=\"root\",password=pwd)\n",
    "    mycursor = mydb.cursor()\n",
    "    mycursor.execute('use frs_db;')\n",
    "    mycursor.execute(f'create table {table_name}(name varchar(10))')\n",
    "    mycursor.execute('show tables;')\n",
    "    #for x in mycursor:\n",
    "        #print(x)\n",
    "    print(col)\n",
    "    \n",
    "showmyDB(\"team\",\"country\")"
   ]
  },
  {
   "cell_type": "code",
   "execution_count": null,
   "id": "75d3f0a2",
   "metadata": {},
   "outputs": [],
   "source": []
  }
 ],
 "metadata": {
  "kernelspec": {
   "display_name": "Python 3",
   "language": "python",
   "name": "python3"
  },
  "language_info": {
   "codemirror_mode": {
    "name": "ipython",
    "version": 3
   },
   "file_extension": ".py",
   "mimetype": "text/x-python",
   "name": "python",
   "nbconvert_exporter": "python",
   "pygments_lexer": "ipython3",
   "version": "3.8.8"
  }
 },
 "nbformat": 4,
 "nbformat_minor": 5
}
