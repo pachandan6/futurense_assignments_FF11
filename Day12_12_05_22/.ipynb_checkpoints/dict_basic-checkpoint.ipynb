{
 "cells": [
  {
   "cell_type": "code",
   "execution_count": 1,
   "id": "d97b721e",
   "metadata": {},
   "outputs": [
    {
     "name": "stdout",
     "output_type": "stream",
     "text": [
      "<class 'list'>\n"
     ]
    }
   ],
   "source": [
    "var=[]\n",
    "print(type(var))"
   ]
  },
  {
   "cell_type": "code",
   "execution_count": 2,
   "id": "c83cd96e",
   "metadata": {},
   "outputs": [
    {
     "name": "stdout",
     "output_type": "stream",
     "text": [
      "['dhoni', 'virar']\n"
     ]
    }
   ],
   "source": [
    "var=['dhoni','virar']\n",
    "print(var)"
   ]
  },
  {
   "cell_type": "code",
   "execution_count": 3,
   "id": "f75fe844",
   "metadata": {},
   "outputs": [
    {
     "name": "stdout",
     "output_type": "stream",
     "text": [
      "['dhoni', 'virar']\n"
     ]
    }
   ],
   "source": [
    "var=['dhoni']\n",
    "var1=['virat']\n",
    "print(var+var1)"
   ]
  },
  {
   "cell_type": "code",
   "execution_count": 4,
   "id": "ad12c9de",
   "metadata": {},
   "outputs": [
    {
     "ename": "IndexError",
     "evalue": "list assignment index out of range",
     "output_type": "error",
     "traceback": [
      "\u001b[0;31m---------------------------------------------------------------------------\u001b[0m",
      "\u001b[0;31mIndexError\u001b[0m                                Traceback (most recent call last)",
      "\u001b[0;32m<ipython-input-4-aa2f3a63792e>\u001b[0m in \u001b[0;36m<module>\u001b[0;34m\u001b[0m\n\u001b[0;32m----> 1\u001b[0;31m \u001b[0mvar\u001b[0m\u001b[0;34m[\u001b[0m\u001b[0;36m1\u001b[0m\u001b[0;34m]\u001b[0m\u001b[0;34m=\u001b[0m\u001b[0;34m'hello'\u001b[0m\u001b[0;34m\u001b[0m\u001b[0;34m\u001b[0m\u001b[0m\n\u001b[0m\u001b[1;32m      2\u001b[0m \u001b[0mprint\u001b[0m\u001b[0;34m(\u001b[0m\u001b[0mvar\u001b[0m\u001b[0;34m)\u001b[0m\u001b[0;34m\u001b[0m\u001b[0;34m\u001b[0m\u001b[0m\n",
      "\u001b[0;31mIndexError\u001b[0m: list assignment index out of range"
     ]
    }
   ],
   "source": [
    "var[1]='hello'\n",
    "print(var)"
   ]
  },
  {
   "cell_type": "code",
   "execution_count": 6,
   "id": "a4e16b39",
   "metadata": {},
   "outputs": [
    {
     "name": "stdout",
     "output_type": "stream",
     "text": [
      "['dhoni', 'gambhir', 'gambhir']\n"
     ]
    }
   ],
   "source": [
    "var.insert(1,'gambhir')\n",
    "print(var)"
   ]
  },
  {
   "cell_type": "code",
   "execution_count": 7,
   "id": "b7d2efbd",
   "metadata": {},
   "outputs": [
    {
     "name": "stdout",
     "output_type": "stream",
     "text": [
      "['dhoni', 'virat', 'gambhir', 'gambhir']\n"
     ]
    }
   ],
   "source": [
    "var.insert(1,'virat')\n",
    "print(var)"
   ]
  },
  {
   "cell_type": "code",
   "execution_count": 8,
   "id": "31a9ee67",
   "metadata": {},
   "outputs": [
    {
     "name": "stdout",
     "output_type": "stream",
     "text": [
      "['dhoni', 'virat', 'gambhir', 'gambhir', 'virat']\n"
     ]
    }
   ],
   "source": [
    "var.insert(7,'virat')\n",
    "#if the position is greater than the index,element will be inserted at the last\n",
    "print(var)"
   ]
  },
  {
   "cell_type": "code",
   "execution_count": 9,
   "id": "a093beec",
   "metadata": {},
   "outputs": [
    {
     "name": "stdout",
     "output_type": "stream",
     "text": [
      "['dhoni', 'virat', 'gambhir', 'gambhir', 'virat', 'shreyas']\n"
     ]
    }
   ],
   "source": [
    "var.append(\"shreyas\")\n",
    "print(var)"
   ]
  },
  {
   "cell_type": "code",
   "execution_count": 10,
   "id": "1211a985",
   "metadata": {},
   "outputs": [
    {
     "ename": "TypeError",
     "evalue": "append() takes exactly one argument (2 given)",
     "output_type": "error",
     "traceback": [
      "\u001b[0;31m---------------------------------------------------------------------------\u001b[0m",
      "\u001b[0;31mTypeError\u001b[0m                                 Traceback (most recent call last)",
      "\u001b[0;32m<ipython-input-10-f779c6b6f134>\u001b[0m in \u001b[0;36m<module>\u001b[0;34m\u001b[0m\n\u001b[0;32m----> 1\u001b[0;31m \u001b[0mvar\u001b[0m\u001b[0;34m.\u001b[0m\u001b[0mappend\u001b[0m\u001b[0;34m(\u001b[0m\u001b[0;34m\"pant\"\u001b[0m\u001b[0;34m,\u001b[0m\u001b[0;34m\"gayle\"\u001b[0m\u001b[0;34m)\u001b[0m\u001b[0;34m\u001b[0m\u001b[0;34m\u001b[0m\u001b[0m\n\u001b[0m\u001b[1;32m      2\u001b[0m \u001b[0mprint\u001b[0m\u001b[0;34m(\u001b[0m\u001b[0mvar\u001b[0m\u001b[0;34m)\u001b[0m\u001b[0;34m\u001b[0m\u001b[0;34m\u001b[0m\u001b[0m\n",
      "\u001b[0;31mTypeError\u001b[0m: append() takes exactly one argument (2 given)"
     ]
    }
   ],
   "source": [
    "var.append(\"pant\",\"gayle\")\n",
    "print(var)"
   ]
  },
  {
   "cell_type": "code",
   "execution_count": 11,
   "id": "3fe93af5",
   "metadata": {},
   "outputs": [
    {
     "name": "stdout",
     "output_type": "stream",
     "text": [
      "['dhoni', 'virat', 'gambhir', 'gambhir', 'virat', 'shreyas', ['hey', 'hello']]\n"
     ]
    }
   ],
   "source": [
    "var.append([\"hey\",\"hello\"])\n",
    "print(var)"
   ]
  },
  {
   "cell_type": "code",
   "execution_count": 12,
   "id": "690c37b5",
   "metadata": {},
   "outputs": [
    {
     "name": "stdout",
     "output_type": "stream",
     "text": [
      "['dhoni', 'virat', 'gambhir', 'gambhir', 'virat', 'shreyas', ['hey', 'hello'], ('pan', 'gle')]\n"
     ]
    }
   ],
   "source": [
    "var.append((\"pan\",\"gle\"))\n",
    "print(var)"
   ]
  },
  {
   "cell_type": "code",
   "execution_count": 16,
   "id": "7d4b8b5c",
   "metadata": {},
   "outputs": [
    {
     "name": "stdout",
     "output_type": "stream",
     "text": [
      "deque(['hi', 'dhoni', 'virat', 'gambhir', 'gambhir', 'virat', 'shreyas', ['hey', 'hello'], ('pan', 'gle')])\n"
     ]
    }
   ],
   "source": [
    "import collections\n",
    "de =collections.deque(var)\n",
    "de.appendleft(\"hi\")\n",
    "print(de)"
   ]
  },
  {
   "cell_type": "code",
   "execution_count": 18,
   "id": "187f8558",
   "metadata": {},
   "outputs": [
    {
     "name": "stdout",
     "output_type": "stream",
     "text": [
      "This is a Dict:\n",
      "\n",
      "a 1\n",
      "e 3\n",
      "b 2\n",
      "c 3\n",
      "d 4\n",
      "\n",
      "This is an Ordered Dict:\n",
      "\n",
      "a 1\n",
      "b 2\n",
      "c 3\n",
      "d 4\n"
     ]
    }
   ],
   "source": [
    "# A Python program to demonstrate working of OrderedDict\n",
    "from collections import OrderedDict\n",
    "\n",
    "print(\"This is a Dict:\\n\")\n",
    "d = {}\n",
    "d['a'] = 1\n",
    "d['e']=3\n",
    "d['b'] = 2\n",
    "d['c'] = 3\n",
    "d['d'] = 4\n",
    "\n",
    "\n",
    "for key, value in d.items():\n",
    "\tprint(key, value)\n",
    "\n",
    "print(\"\\nThis is an Ordered Dict:\\n\")\n",
    "od = OrderedDict()\n",
    "od['a'] = 1\n",
    "od['b'] = 2\n",
    "od['c'] = 3\n",
    "od['d'] = 4\n",
    "\n",
    "for key, value in od.items():\n",
    "\tprint(key, value)\n"
   ]
  },
  {
   "cell_type": "code",
   "execution_count": 22,
   "id": "57d86e49",
   "metadata": {},
   "outputs": [
    {
     "name": "stdout",
     "output_type": "stream",
     "text": [
      "['dhoni', 'virat', 'gambhir', 'gambhir', 'virat', 'shreyas', ['hey', 'hello'], ('pan', 'gle'), 's', 'u', 'm', 'a', 'n', 't', 'h', 's', 'u', 'm', 'a', 'n', 't', 'h', 'sumanth', 'hello']\n"
     ]
    }
   ],
   "source": [
    "var.extend((\"sumanth\",\"hello\"))\n",
    "print(var)"
   ]
  },
  {
   "cell_type": "code",
   "execution_count": 24,
   "id": "87183f1e",
   "metadata": {},
   "outputs": [
    {
     "name": "stdout",
     "output_type": "stream",
     "text": [
      "['2', '4', '8', 'hello', 'wdf', 'wqdfqw']\n"
     ]
    }
   ],
   "source": [
    "var=[\"hello\",\"wdf\",\"wqdfqw\",\"4\",\"8\",\"2\"]\n",
    "var.sort()\n",
    "print(var)"
   ]
  },
  {
   "cell_type": "code",
   "execution_count": 25,
   "id": "c3d5f625",
   "metadata": {},
   "outputs": [
    {
     "name": "stdout",
     "output_type": "stream",
     "text": [
      "['wqdfqw', 'wdf', 'hello', '8', '4', '2']\n"
     ]
    }
   ],
   "source": [
    "var.sort(reverse=True)\n",
    "print(var)"
   ]
  },
  {
   "cell_type": "code",
   "execution_count": 26,
   "id": "5c530b49",
   "metadata": {},
   "outputs": [
    {
     "name": "stdout",
     "output_type": "stream",
     "text": [
      "['wqdfqw', 'wdf', 'hello', '8', '4', '2']\n"
     ]
    }
   ],
   "source": [
    "op=sorted(var,reverse=True)\n",
    "print(op)"
   ]
  },
  {
   "cell_type": "code",
   "execution_count": 27,
   "id": "29b7f4c9",
   "metadata": {},
   "outputs": [
    {
     "name": "stdout",
     "output_type": "stream",
     "text": [
      "['wqdfqw', 'hello', 'wdf', '8', '4', '2']\n"
     ]
    }
   ],
   "source": [
    "op=sorted(var,reverse=True,key=len)\n",
    "print(op)"
   ]
  },
  {
   "cell_type": "code",
   "execution_count": 29,
   "id": "9de26fa7",
   "metadata": {},
   "outputs": [
    {
     "name": "stdout",
     "output_type": "stream",
     "text": [
      "['wqdfqw', 'wdf', 'hello', '8', '4', '2', 'A', 'F', 'Z', 'z', 'q', 'o']\n"
     ]
    }
   ],
   "source": [
    "var.extend((\"A\",\"F\",\"Z\",\"z\",\"q\",\"o\"))\n",
    "print(var)"
   ]
  },
  {
   "cell_type": "code",
   "execution_count": 31,
   "id": "2f99b6a7",
   "metadata": {},
   "outputs": [
    {
     "name": "stdout",
     "output_type": "stream",
     "text": [
      "['8', '4', '2', 'A', 'F', 'Z', 'z', 'q', 'o', 'wdf', 'hello', 'wqdfqw']\n"
     ]
    }
   ],
   "source": [
    "op=sorted(var,reverse=False,key=len)\n",
    "print(op)"
   ]
  },
  {
   "cell_type": "code",
   "execution_count": 55,
   "id": "27b2f2e2",
   "metadata": {},
   "outputs": [
    {
     "name": "stdout",
     "output_type": "stream",
     "text": [
      "[2, 5, 7, 8, 'niwhsa', 'tac', 'teksab', 'elsia']\n"
     ]
    }
   ],
   "source": [
    "v=[\"ashwin\",\"cat\",\"basket\",\"aisle\",5,2,7,8,(\"a\",\"b\")]\n",
    "#output 2,5,7,8,\"nishwa\",\"tac\",\"teksab\",\"elsia\"\n",
    "word=[]\n",
    "num=[]\n",
    "for ele in v:\n",
    "    if isinstance(ele, str)==True:\n",
    "        ele=ele[::-1]\n",
    "        word.append(ele) \n",
    "    elif isinstance(ele, int)==True:\n",
    "        num.append(ele)\n",
    "\n",
    "num.sort()\n",
    "srtlst=num+word\n",
    "print(srtlst)\n"
   ]
  },
  {
   "cell_type": "code",
   "execution_count": 94,
   "id": "eb83970e",
   "metadata": {},
   "outputs": [
    {
     "name": "stdout",
     "output_type": "stream",
     "text": [
      "[5, 2, 7, 8, 'niwhsa', 'tac', 'teksab', 'elsia']\n"
     ]
    }
   ],
   "source": [
    "v=[\"ashwin\",\"cat\",\"basket\",\"aisle\",5,2,7,8,(\"a\",\"b\")]\n",
    "v=[ele for ele in v if type(ele)==int]+[ele[::-1] for ele in v if type(ele)==str]\n",
    "print(v)"
   ]
  },
  {
   "cell_type": "code",
   "execution_count": 74,
   "id": "f2da27d9",
   "metadata": {},
   "outputs": [
    {
     "name": "stdout",
     "output_type": "stream",
     "text": [
      "<class 'tuple'>\n",
      "<class 'str'>\n"
     ]
    }
   ],
   "source": [
    "var=()\n",
    "print(type(var))\n",
    "var=(\"dhoni\")\n",
    "print(type(var))\n"
   ]
  },
  {
   "cell_type": "code",
   "execution_count": 84,
   "id": "62847d9d",
   "metadata": {},
   "outputs": [
    {
     "name": "stdout",
     "output_type": "stream",
     "text": [
      "('dhoni', 'kohli')\n",
      "<class 'tuple'>\n",
      "56\n"
     ]
    }
   ],
   "source": [
    "import sys\n",
    "var=(\"dhoni\",\"kohli\")\n",
    "print(var)\n",
    "print(type(var))\n",
    "print(sys.getsizeof(var))"
   ]
  },
  {
   "cell_type": "code",
   "execution_count": 85,
   "id": "0bcc02fa",
   "metadata": {},
   "outputs": [
    {
     "name": "stdout",
     "output_type": "stream",
     "text": [
      "['dhoni', 'kohli']\n",
      "<class 'list'>\n",
      "72\n"
     ]
    }
   ],
   "source": [
    "var=[\"dhoni\",\"kohli\"]\n",
    "print(var)\n",
    "print(type(var))\n",
    "print(sys.getsizeof(var))"
   ]
  },
  {
   "cell_type": "code",
   "execution_count": 86,
   "id": "0bbfbaa8",
   "metadata": {},
   "outputs": [
    {
     "name": "stdout",
     "output_type": "stream",
     "text": [
      "<class 'dict'>\n"
     ]
    }
   ],
   "source": [
    "var={}  #dictionary\n",
    "print(type(var))"
   ]
  },
  {
   "cell_type": "code",
   "execution_count": 88,
   "id": "21726449",
   "metadata": {},
   "outputs": [
    {
     "name": "stdout",
     "output_type": "stream",
     "text": [
      "{'name': 'dhoni', 'age': 34}\n",
      "<class 'dict'>\n"
     ]
    }
   ],
   "source": [
    "var={\"name\":\"dhoni\",\"age\":34}\n",
    "print(var)\n",
    "print(type(var))\n",
    "# key should be unique and immutable"
   ]
  },
  {
   "cell_type": "code",
   "execution_count": 91,
   "id": "df73837e",
   "metadata": {},
   "outputs": [
    {
     "name": "stdout",
     "output_type": "stream",
     "text": [
      "{'name': 'dhoni', 'age': 44}\n"
     ]
    }
   ],
   "source": [
    "var={\"name\":\"dhoni\",\"age\":34,\"age\":44}\n",
    "print(var)"
   ]
  },
  {
   "cell_type": "code",
   "execution_count": 92,
   "id": "ef4dcfbb",
   "metadata": {},
   "outputs": [
    {
     "ename": "TypeError",
     "evalue": "unhashable type: 'list'",
     "output_type": "error",
     "traceback": [
      "\u001b[0;31m---------------------------------------------------------------------------\u001b[0m",
      "\u001b[0;31mTypeError\u001b[0m                                 Traceback (most recent call last)",
      "\u001b[0;32m<ipython-input-92-699619ed32e9>\u001b[0m in \u001b[0;36m<module>\u001b[0;34m\u001b[0m\n\u001b[0;32m----> 1\u001b[0;31m \u001b[0mvar\u001b[0m\u001b[0;34m=\u001b[0m\u001b[0;34m{\u001b[0m\u001b[0;34m\"name\"\u001b[0m\u001b[0;34m:\u001b[0m\u001b[0;34m\"dhoni\"\u001b[0m\u001b[0;34m,\u001b[0m\u001b[0;34m\"age\"\u001b[0m\u001b[0;34m:\u001b[0m\u001b[0;36m34\u001b[0m\u001b[0;34m,\u001b[0m\u001b[0;34m\"age\"\u001b[0m\u001b[0;34m:\u001b[0m\u001b[0;36m44\u001b[0m\u001b[0;34m,\u001b[0m\u001b[0;34m[\u001b[0m\u001b[0;34m\"a\"\u001b[0m\u001b[0;34m,\u001b[0m\u001b[0;34m\"b\"\u001b[0m\u001b[0;34m]\u001b[0m\u001b[0;34m:\u001b[0m\u001b[0;34m\"kohli\"\u001b[0m\u001b[0;34m}\u001b[0m\u001b[0;34m\u001b[0m\u001b[0;34m\u001b[0m\u001b[0m\n\u001b[0m\u001b[1;32m      2\u001b[0m \u001b[0mprint\u001b[0m\u001b[0;34m(\u001b[0m\u001b[0mvar\u001b[0m\u001b[0;34m)\u001b[0m\u001b[0;34m\u001b[0m\u001b[0;34m\u001b[0m\u001b[0m\n",
      "\u001b[0;31mTypeError\u001b[0m: unhashable type: 'list'"
     ]
    }
   ],
   "source": [
    "var={\"name\":\"dhoni\",\"age\":34,\"age\":44,[\"a\",\"b\"]:\"kohli\"}\n",
    "print(var)"
   ]
  },
  {
   "cell_type": "code",
   "execution_count": 103,
   "id": "159e59ff",
   "metadata": {},
   "outputs": [
    {
     "name": "stdout",
     "output_type": "stream",
     "text": [
      "{'name': 'dhoni', 'age': [44, 32]}\n",
      "{'name': 'dhoni', 'age': [44, 10]}\n"
     ]
    }
   ],
   "source": [
    "var={\"name\":\"dhoni\",\"age\":34,\"age\":[44,32]}\n",
    "print(var)\n",
    "var[\"age\"][1]=10\n",
    "print(var)"
   ]
  },
  {
   "cell_type": "code",
   "execution_count": null,
   "id": "be95ed51",
   "metadata": {},
   "outputs": [],
   "source": [
    "#task\n",
    "#pprint\n",
    "#coloroma"
   ]
  },
  {
   "cell_type": "code",
   "execution_count": 98,
   "id": "a2edf726",
   "metadata": {},
   "outputs": [
    {
     "name": "stdout",
     "output_type": "stream",
     "text": [
      "{'age': [44, 10], 'name': 'dhoni'}\n"
     ]
    }
   ],
   "source": [
    "from pprint import pprint\n",
    "pprint(var)"
   ]
  },
  {
   "cell_type": "code",
   "execution_count": 101,
   "id": "36f43158",
   "metadata": {},
   "outputs": [
    {
     "name": "stdout",
     "output_type": "stream",
     "text": [
      "\u001b[42m{'name': 'dhoni', 'age': [44, 10]}\n"
     ]
    }
   ],
   "source": [
    "from colorama import Fore, Back, Style\n",
    "print(Back.GREEN+str(var))"
   ]
  },
  {
   "cell_type": "code",
   "execution_count": 104,
   "id": "80ce6ffe",
   "metadata": {},
   "outputs": [
    {
     "name": "stdout",
     "output_type": "stream",
     "text": [
      "['__class__', '__contains__', '__delattr__', '__delitem__', '__dir__', '__doc__', '__eq__', '__format__', '__ge__', '__getattribute__', '__getitem__', '__gt__', '__hash__', '__init__', '__init_subclass__', '__iter__', '__le__', '__len__', '__lt__', '__ne__', '__new__', '__reduce__', '__reduce_ex__', '__repr__', '__reversed__', '__setattr__', '__setitem__', '__sizeof__', '__str__', '__subclasshook__', 'clear', 'copy', 'fromkeys', 'get', 'items', 'keys', 'pop', 'popitem', 'setdefault', 'update', 'values']\n"
     ]
    }
   ],
   "source": [
    "print(dir(var))"
   ]
  },
  {
   "cell_type": "code",
   "execution_count": 108,
   "id": "49bfe126",
   "metadata": {},
   "outputs": [
    {
     "name": "stdout",
     "output_type": "stream",
     "text": [
      "<list_iterator object at 0x7ff7213abdc0>\n"
     ]
    }
   ],
   "source": [
    "dic={\n",
    "    \"brand\": \"Ford\",\n",
    "  \"model\": \"Mustang\",\n",
    "  \"year\": 1964,\n",
    "  \"year\": 2020\n",
    "    }\n",
    "d=d.__iter__()\n",
    "print(d)"
   ]
  },
  {
   "cell_type": "code",
   "execution_count": 112,
   "id": "ef558adc",
   "metadata": {},
   "outputs": [
    {
     "name": "stdout",
     "output_type": "stream",
     "text": [
      "3\n"
     ]
    }
   ],
   "source": [
    "d=dic.__len__()\n",
    "print(d)"
   ]
  },
  {
   "cell_type": "code",
   "execution_count": 116,
   "id": "2fe11a6f",
   "metadata": {},
   "outputs": [
    {
     "name": "stdout",
     "output_type": "stream",
     "text": [
      "dict_keys(['brand', 'model', 'year'])\n"
     ]
    }
   ],
   "source": [
    "print(dic.keys())"
   ]
  },
  {
   "cell_type": "code",
   "execution_count": null,
   "id": "37ff533e",
   "metadata": {},
   "outputs": [],
   "source": [
    "print(dic.items())"
   ]
  }
 ],
 "metadata": {
  "kernelspec": {
   "display_name": "Python 3",
   "language": "python",
   "name": "python3"
  },
  "language_info": {
   "codemirror_mode": {
    "name": "ipython",
    "version": 3
   },
   "file_extension": ".py",
   "mimetype": "text/x-python",
   "name": "python",
   "nbconvert_exporter": "python",
   "pygments_lexer": "ipython3",
   "version": "3.8.8"
  }
 },
 "nbformat": 4,
 "nbformat_minor": 5
}
