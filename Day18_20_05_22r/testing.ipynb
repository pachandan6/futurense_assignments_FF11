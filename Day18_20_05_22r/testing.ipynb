{
 "cells": [
  {
   "cell_type": "code",
   "execution_count": 4,
   "id": "919f9dbd",
   "metadata": {},
   "outputs": [],
   "source": [
    "import math\n",
    "\n",
    "def test_sqrt():\n",
    "    num=25\n",
    "    assert math.sqrt(num)==5\n",
    "    \n",
    "def testsquare():\n",
    "    num=7\n",
    "    assert 7*7 ==40\n",
    "    \n",
    "def tesequality():\n",
    "    assert 10==11"
   ]
  },
  {
   "cell_type": "code",
   "execution_count": null,
   "id": "5f0afa0f",
   "metadata": {},
   "outputs": [],
   "source": [
    "# diff between assert and exception\n",
    "The key differences between exceptions and assertions are: \n",
    "Assertions are intended to be used solely as a means of detecting programming errors, \n",
    "aka bugs. By contrast, an exception can indicate other kinds of error or \"exceptional\" condition; \n",
    "e.g. invalid user input, missing files, heap full and so on."
   ]
  },
  {
   "cell_type": "code",
   "execution_count": null,
   "id": "995829a3",
   "metadata": {},
   "outputs": [],
   "source": []
  }
 ],
 "metadata": {
  "kernelspec": {
   "display_name": "Python 3",
   "language": "python",
   "name": "python3"
  },
  "language_info": {
   "codemirror_mode": {
    "name": "ipython",
    "version": 3
   },
   "file_extension": ".py",
   "mimetype": "text/x-python",
   "name": "python",
   "nbconvert_exporter": "python",
   "pygments_lexer": "ipython3",
   "version": "3.8.8"
  }
 },
 "nbformat": 4,
 "nbformat_minor": 5
}
