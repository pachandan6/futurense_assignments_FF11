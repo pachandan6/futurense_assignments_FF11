{
 "cells": [
  {
   "cell_type": "code",
   "execution_count": 3,
   "id": "9f91a8f8",
   "metadata": {},
   "outputs": [
    {
     "name": "stdout",
     "output_type": "stream",
     "text": [
      "{'name': 'dhoni'}\n",
      "<class 'dict'>\n"
     ]
    }
   ],
   "source": [
    "#Dictionary\n",
    "\n",
    "var={\"name\":\"dhoni\"}\n",
    "print(var)\n",
    "print(type(var))\n",
    "\n"
   ]
  },
  {
   "cell_type": "code",
   "execution_count": 4,
   "id": "e64f744a",
   "metadata": {},
   "outputs": [
    {
     "name": "stdout",
     "output_type": "stream",
     "text": [
      "{'name': 'kohli'}\n",
      "<class 'dict'>\n"
     ]
    }
   ],
   "source": [
    "var1={\"name\":\"dhoni\",\"name\":\"kohli\"}\n",
    "print(var1)\n",
    "print(type(var1))\n",
    "#if the key is same, it takes the latest value"
   ]
  },
  {
   "cell_type": "code",
   "execution_count": 5,
   "id": "59b14f29",
   "metadata": {},
   "outputs": [
    {
     "ename": "NameError",
     "evalue": "name 'output' is not defined",
     "output_type": "error",
     "traceback": [
      "\u001b[0;31m---------------------------------------------------------------------------\u001b[0m",
      "\u001b[0;31mNameError\u001b[0m                                 Traceback (most recent call last)",
      "\u001b[0;32m<ipython-input-5-b4a9347e2302>\u001b[0m in \u001b[0;36m<module>\u001b[0;34m\u001b[0m\n\u001b[1;32m      2\u001b[0m \u001b[0mvar\u001b[0m\u001b[0;34m=\u001b[0m\u001b[0;34m{\u001b[0m\u001b[0;34m\"name\"\u001b[0m\u001b[0;34m:\u001b[0m\u001b[0;34m\"dhoni\"\u001b[0m\u001b[0;34m}\u001b[0m\u001b[0;34m\u001b[0m\u001b[0;34m\u001b[0m\u001b[0m\n\u001b[1;32m      3\u001b[0m \u001b[0mvar1\u001b[0m\u001b[0;34m=\u001b[0m\u001b[0;34m{\u001b[0m\u001b[0;34m\"age\"\u001b[0m\u001b[0;34m:\u001b[0m\u001b[0;36m33\u001b[0m\u001b[0;34m}\u001b[0m\u001b[0;34m\u001b[0m\u001b[0;34m\u001b[0m\u001b[0m\n\u001b[0;32m----> 4\u001b[0;31m \u001b[0moutput\u001b[0m\u001b[0;34m(\u001b[0m\u001b[0mvar\u001b[0m\u001b[0;34m+\u001b[0m\u001b[0mvar1\u001b[0m\u001b[0;34m)\u001b[0m\u001b[0;34m\u001b[0m\u001b[0;34m\u001b[0m\u001b[0m\n\u001b[0m",
      "\u001b[0;31mNameError\u001b[0m: name 'output' is not defined"
     ]
    }
   ],
   "source": [
    "#dict concatenation\n",
    "var={\"name\":\"dhoni\"}\n",
    "var1={\"age\":33}\n",
    "output(var+var1)\n",
    "#we cannot concat using +\n"
   ]
  },
  {
   "cell_type": "code",
   "execution_count": 7,
   "id": "404e11b4",
   "metadata": {},
   "outputs": [
    {
     "name": "stdout",
     "output_type": "stream",
     "text": [
      "{'name': 'dhoni', 'age': 33}\n"
     ]
    }
   ],
   "source": [
    "#first way to concat\n",
    "var={\"name\":\"dhoni\"}\n",
    "var1={\"age\":33}\n",
    "output={**var,**var1}\n",
    "print(output)"
   ]
  },
  {
   "cell_type": "code",
   "execution_count": 8,
   "id": "1ab4457a",
   "metadata": {},
   "outputs": [
    {
     "name": "stdout",
     "output_type": "stream",
     "text": [
      "{'name': 'dhoni', 'age': 33}\n"
     ]
    }
   ],
   "source": [
    "#second way to concat\n",
    "var={\"name\":\"dhoni\"}\n",
    "var1={\"age\":33}\n",
    "var.update(var1)\n",
    "print(var)"
   ]
  },
  {
   "cell_type": "code",
   "execution_count": 15,
   "id": "0b46956f",
   "metadata": {},
   "outputs": [
    {
     "name": "stdout",
     "output_type": "stream",
     "text": [
      "{'name': 'dhoni', True: 'kohli', 3: 'raina', 5.9: 'ashwin', ('a', 'b'): 'kat'}\n",
      "raina\n"
     ]
    }
   ],
   "source": [
    "var={\"name\":\"dhoni\",True:\"kohli\",3:\"raina\",5.9:\"ashwin\",(\"a\",\"b\"):\"karthik\"}\n",
    "var[\"a\",\"b\"]=\"kat\"\n",
    "print(var)\n",
    "print(var[3])\n",
    "#any immutable category can be a key of a dictionary"
   ]
  },
  {
   "cell_type": "code",
   "execution_count": 13,
   "id": "743362b2",
   "metadata": {},
   "outputs": [
    {
     "name": "stdout",
     "output_type": "stream",
     "text": [
      "{'country': 'india', 'name': 'chandan'}\n",
      "['__class__', '__contains__', '__delattr__', '__delitem__', '__dir__', '__doc__', '__eq__', '__format__', '__ge__', '__getattribute__', '__getitem__', '__gt__', '__hash__', '__init__', '__init_subclass__', '__iter__', '__le__', '__len__', '__lt__', '__ne__', '__new__', '__reduce__', '__reduce_ex__', '__repr__', '__reversed__', '__setattr__', '__setitem__', '__sizeof__', '__str__', '__subclasshook__', 'clear', 'copy', 'fromkeys', 'get', 'items', 'keys', 'pop', 'popitem', 'setdefault', 'update', 'values']\n"
     ]
    }
   ],
   "source": [
    "#dict functions\n",
    "var={\"country\":\"india\"}\n",
    "var[\"name\"]=\"chandan\" #inserting new key value pair \n",
    "print(var)\n",
    "print(dir(var))\n"
   ]
  },
  {
   "cell_type": "code",
   "execution_count": 19,
   "id": "9d37a543",
   "metadata": {},
   "outputs": [
    {
     "name": "stdout",
     "output_type": "stream",
     "text": [
      "{'age': 33, 'born_year': 1988, 'name': 'dhoni', 'team': 'rcb'}\n"
     ]
    }
   ],
   "source": [
    "#1st way of sorting the dictionary wrt keys\n",
    "var={\"name\":\"dhoni\",\"age\":33,\"team\":\"rcb\",\"born_year\":1988}\n",
    "output=dict(sorted(var.items()))\n",
    "print(output)"
   ]
  },
  {
   "cell_type": "code",
   "execution_count": 23,
   "id": "6e2a0d0c",
   "metadata": {},
   "outputs": [
    {
     "name": "stdout",
     "output_type": "stream",
     "text": [
      "{'age': 33, 'born_year': 1988, 'name': 'dhoni', 'team': 'rcb'}\n"
     ]
    }
   ],
   "source": [
    "#2nd way of sorting the dictionary wrt keys\n",
    "var={\"name\":\"dhoni\",\"age\":33,\"team\":\"rcb\",\"born_year\":1988}\n",
    "keys=[]\n",
    "for x in var.keys():\n",
    "    keys.append(x)\n",
    "sorted_keys=sorted(keys)\n",
    "\n",
    "sorted_dict={}\n",
    "for x in sorted_keys:\n",
    "    sorted_dict[x]=var[x]\n",
    "print(sorted_dict)"
   ]
  },
  {
   "cell_type": "code",
   "execution_count": 27,
   "id": "75eed844",
   "metadata": {},
   "outputs": [
    {
     "name": "stdout",
     "output_type": "stream",
     "text": [
      "{'age': 33, 'born_year': 1988, 'name': 'dhoni', 'team': 'rcb'}\n"
     ]
    }
   ],
   "source": [
    "#optimised way \n",
    "var={\"name\":\"dhoni\",\"age\":33,\"team\":\"rcb\",\"born_year\":1988}\n",
    "sorted_dict={x:var[x] for x in sorted([x for x in var.keys()])}\n",
    "\n",
    "print(sorted_dict)"
   ]
  },
  {
   "cell_type": "code",
   "execution_count": 34,
   "id": "3887f4f7",
   "metadata": {},
   "outputs": [
    {
     "name": "stdout",
     "output_type": "stream",
     "text": [
      "['abc', 'dhoni', 'kohli']\n"
     ]
    }
   ],
   "source": [
    "#sort doesnt return any\n",
    "lis=[\"dhoni\",\"abc\",\"kohli\"]\n",
    "lis.sort()\n",
    "print(lis)\n",
    "\n",
    "\n"
   ]
  },
  {
   "cell_type": "code",
   "execution_count": 36,
   "id": "a5a8e2a0",
   "metadata": {},
   "outputs": [
    {
     "name": "stdout",
     "output_type": "stream",
     "text": [
      "['kohli', 'dhoni', 'abc']\n"
     ]
    }
   ],
   "source": [
    "lis1=[\"dhoni\",\"abc\",\"kohli\"]\n",
    "op=sorted(lis1)\n",
    "print(op)"
   ]
  },
  {
   "cell_type": "code",
   "execution_count": 37,
   "id": "69ee5bc8",
   "metadata": {},
   "outputs": [
    {
     "name": "stdout",
     "output_type": "stream",
     "text": [
      "['kohli', 'dhoni', 'abc']\n"
     ]
    }
   ],
   "source": [
    "lis1=[\"dhoni\",\"abc\",\"kohli\"]\n",
    "op=sorted(lis1,reverse=True)\n",
    "print(op)"
   ]
  },
  {
   "cell_type": "code",
   "execution_count": 38,
   "id": "995f3f09",
   "metadata": {},
   "outputs": [
    {
     "name": "stdout",
     "output_type": "stream",
     "text": [
      "['dhoni', 'kohli', 'abc']\n"
     ]
    }
   ],
   "source": [
    "lis1=[\"dhoni\",\"abc\",\"kohli\"]\n",
    "op=sorted(lis1,reverse=True,key=len)\n",
    "print(op)"
   ]
  },
  {
   "cell_type": "code",
   "execution_count": 48,
   "id": "0140fe24",
   "metadata": {},
   "outputs": [
    {
     "name": "stdout",
     "output_type": "stream",
     "text": [
      "{'name': 'dhoni', 'age': 'ashwin'} <class 'dict'>\n",
      "{\"name\": \"dhoni\", \"age\": \"ashwin\"} <class 'str'>\n"
     ]
    }
   ],
   "source": [
    "import json\n",
    "var3=\"{'name':'dhoni','age':'ashwin'}\"\n",
    "json_acceptable_string = var3.replace(\"'\", \"\\\"\")\n",
    "d = json.loads(json_acceptable_string)\n",
    "c=json.dumps(d)\n",
    "#var1=dict(var)\n",
    "print(d,type(d))\n",
    "print(c,type(c))"
   ]
  },
  {
   "cell_type": "code",
   "execution_count": 50,
   "id": "109c535f",
   "metadata": {},
   "outputs": [
    {
     "name": "stdout",
     "output_type": "stream",
     "text": [
      "{'age': 33, 'team': 'rcb'}\n"
     ]
    }
   ],
   "source": [
    "var={\"name\":\"dhoni\",\"age\":33,\"team\":\"rcb\",\"born_year\":1988}\n",
    "var.popitem()   #removes last pair\n",
    "var.pop(\"name\") #removes specified pair\n",
    "print(var)"
   ]
  },
  {
   "cell_type": "code",
   "execution_count": null,
   "id": "1785db44",
   "metadata": {},
   "outputs": [],
   "source": []
  }
 ],
 "metadata": {
  "kernelspec": {
   "display_name": "Python 3",
   "language": "python",
   "name": "python3"
  },
  "language_info": {
   "codemirror_mode": {
    "name": "ipython",
    "version": 3
   },
   "file_extension": ".py",
   "mimetype": "text/x-python",
   "name": "python",
   "nbconvert_exporter": "python",
   "pygments_lexer": "ipython3",
   "version": "3.8.8"
  }
 },
 "nbformat": 4,
 "nbformat_minor": 5
}
