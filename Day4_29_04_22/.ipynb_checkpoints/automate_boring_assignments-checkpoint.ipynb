{
 "cells": [
  {
   "cell_type": "code",
   "execution_count": 1,
   "id": "06169498",
   "metadata": {},
   "outputs": [
    {
     "name": "stdout",
     "output_type": "stream",
     "text": [
      "guess a number between 0 and 10: 5\n",
      "Number is too low, try again: 7\n",
      "Number is too low, try again: 9\n",
      "Number is too high, try again: 8\n",
      "Congratulation! You managed to guess the number 8\n"
     ]
    }
   ],
   "source": [
    "#Sample python projects\n",
    "#game1\n",
    "from random import randint\n",
    "\n",
    "def computer_number(min_num,max_num):\n",
    "    '''\n",
    "    function that generates a random number based on the range passed as args.\n",
    "    returns random int\n",
    "    '''\n",
    "    return randint(min_num,max_num)\n",
    "\n",
    "def player_guess(min_num,max_num):\n",
    "    '''\n",
    "    function that asks the player for a number.\n",
    "    returns random int\n",
    "    '''\n",
    "    user_input = int(input(f'guess a number between {min_num} and {max_num}: '))\n",
    "    return user_input\n",
    "\n",
    "def play():\n",
    "    #define high and low guessing range\n",
    "    low = 0\n",
    "    high = 10\n",
    "\n",
    "    #get input from computer and player\n",
    "    computer_choice = computer_number(low,high)\n",
    "    player_choice = player_guess(low,high)\n",
    "\n",
    "    #loop until player guesses the number\n",
    "    while player_choice != computer_choice:\n",
    "        if player_choice>computer_choice:\n",
    "            player_choice = int(input('Number is too high, try again: '))\n",
    "        elif player_choice<computer_choice:\n",
    "            player_choice = int(input('Number is too low, try again: '))\n",
    "\n",
    "    print (f'Congratulation! You managed to guess the number {computer_choice}')\n",
    "\n",
    "play()"
   ]
  },
  {
   "cell_type": "code",
   "execution_count": 4,
   "id": "48148bb1",
   "metadata": {},
   "outputs": [
    {
     "name": "stdout",
     "output_type": "stream",
     "text": [
      "Game Rules:\n",
      " When I say:    That means:\n",
      "    Pico         One digit is correct but in the wrong position.\n",
      "    Fermi        One digit is correct and in the right position.\n",
      "    Bagels       No digit is correct.\n",
      "I have decided the secret number you have 10 guess.\n",
      "Enter 3 digit number: 451\n",
      "['Pico']\n",
      "Enter 3 digit number: 478\n",
      "['Pico']\n",
      "Enter 3 digit number: 246\n",
      "['Fermi']\n",
      "Enter 3 digit number: 745\n",
      "['Fermi']\n",
      "Enter 3 digit number: 149\n",
      "['Fermi', 'Fermi']\n",
      "Enter 3 digit number: 147\n",
      "['Fermi']\n",
      "Enter 3 digit number: 349\n",
      "You guessed it right\n"
     ]
    }
   ],
   "source": [
    "#game 2\n",
    "def string_compare(secret_string, guess_string):\n",
    "    exclude = []\n",
    "    output = []\n",
    "    if secret_string == guess_string:\n",
    "        return 'You guessed it right'\n",
    "    for i in range(len(secret_string)):\n",
    "        if secret_string[i] == guess_string[i]:\n",
    "            output.append('Fermi')\n",
    "            exclude.append(i)\n",
    "    for i in range(len(secret_string)):\n",
    "        if i not in exclude:\n",
    "            for char in secret_string:\n",
    "                if guess_string[i] == char:\n",
    "                    output.append('Pico')\n",
    "                    exclude.append(i)\n",
    "                    break\n",
    "    if len(output) == 0:\n",
    "        output.append('bagels')\n",
    "    return output    \n",
    "\n",
    "import random\n",
    "# def \n",
    "\n",
    "def start_bagels():\n",
    "    #x = int(input('Enter number of digits of secret number: ')) # len of secret number\n",
    "    print(\"\"\"Game Rules:\n",
    " When I say:    That means:\n",
    "    Pico         One digit is correct but in the wrong position.\n",
    "    Fermi        One digit is correct and in the right position.\n",
    "    Bagels       No digit is correct.\"\"\")\n",
    "    x = 3\n",
    "    secret_number = random.randrange(10**(x-1), 10**(x), x)\n",
    "    print('I have decided the secret number you have 10 guess.')\n",
    "    num_guess = 1\n",
    "    while num_guess<= 10:\n",
    "        guess_number = input('Enter 3 digit number: ')\n",
    "        sc = string_compare(str(secret_number), guess_number)\n",
    "        if sc == 'You guessed it right':\n",
    "            print(sc)\n",
    "            break\n",
    "        else:\n",
    "            print(sc)\n",
    "            num_guess +=1\n",
    "    else:\n",
    "        print('You turn is up, I won and the secret number is: ', secret_number)\n",
    "        \n",
    "    \n",
    "start_bagels()    "
   ]
  },
  {
   "cell_type": "code",
   "execution_count": null,
   "id": "b754ac98",
   "metadata": {},
   "outputs": [],
   "source": []
  }
 ],
 "metadata": {
  "kernelspec": {
   "display_name": "Python 3",
   "language": "python",
   "name": "python3"
  },
  "language_info": {
   "codemirror_mode": {
    "name": "ipython",
    "version": 3
   },
   "file_extension": ".py",
   "mimetype": "text/x-python",
   "name": "python",
   "nbconvert_exporter": "python",
   "pygments_lexer": "ipython3",
   "version": "3.8.8"
  }
 },
 "nbformat": 4,
 "nbformat_minor": 5
}
