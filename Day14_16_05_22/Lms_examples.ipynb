{
 "cells": [
  {
   "cell_type": "code",
   "execution_count": 2,
   "id": "02ea1c2a",
   "metadata": {},
   "outputs": [
    {
     "data": {
      "text/plain": [
       "[-13, -10, 2, 6, 7, 8]"
      ]
     },
     "execution_count": 2,
     "metadata": {},
     "output_type": "execute_result"
    }
   ],
   "source": [
    "lis=[-10,6,7,-13,8,2]\n",
    "lis.sort()\n",
    "lis"
   ]
  },
  {
   "cell_type": "code",
   "execution_count": 3,
   "id": "5e1abca9",
   "metadata": {},
   "outputs": [
    {
     "name": "stdout",
     "output_type": "stream",
     "text": [
      "-13 6 7\n",
      "-10 2 8\n"
     ]
    }
   ],
   "source": [
    "for i in range(len(lis)):\n",
    "    l=i+1\n",
    "    r=len(lis)-1\n",
    "    while(l<r):\n",
    "        if lis[i]+lis[l]+lis[r]==0:\n",
    "            print(lis[i],lis[l],lis[r])\n",
    "            break\n",
    "        elif lis[i]+lis[l]+lis[r]<0:\n",
    "            l+=1\n",
    "        else:\n",
    "            r-=1\n",
    "            "
   ]
  },
  {
   "cell_type": "code",
   "execution_count": 8,
   "id": "c28aaa17",
   "metadata": {},
   "outputs": [
    {
     "name": "stdout",
     "output_type": "stream",
     "text": [
      "[[], [1], [2], [1, 2], [3], [1, 3], [2, 3], [1, 2, 3]]\n"
     ]
    }
   ],
   "source": [
    "lis=[1,2,3]\n",
    "output=[[]]\n",
    "for i in lis:\n",
    "    output+=[l+[i] for l in output]\n",
    "print(output)"
   ]
  },
  {
   "cell_type": "code",
   "execution_count": null,
   "id": "6982ee98",
   "metadata": {},
   "outputs": [],
   "source": []
  }
 ],
 "metadata": {
  "kernelspec": {
   "display_name": "Python 3",
   "language": "python",
   "name": "python3"
  },
  "language_info": {
   "codemirror_mode": {
    "name": "ipython",
    "version": 3
   },
   "file_extension": ".py",
   "mimetype": "text/x-python",
   "name": "python",
   "nbconvert_exporter": "python",
   "pygments_lexer": "ipython3",
   "version": "3.8.8"
  }
 },
 "nbformat": 4,
 "nbformat_minor": 5
}
