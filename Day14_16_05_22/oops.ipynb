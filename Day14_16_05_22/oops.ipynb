{
 "cells": [
  {
   "cell_type": "code",
   "execution_count": 11,
   "id": "be425f6c",
   "metadata": {},
   "outputs": [],
   "source": [
    "class Employee:\n",
    "    def __init__(self,ids,name,age):\n",
    "        self.ids=ids\n",
    "        self.name=name\n",
    "        self.age=age\n",
    "    def show(self):\n",
    "        print('Employee: ',self.ids,self.name,self.age)       "
   ]
  },
  {
   "cell_type": "code",
   "execution_count": 12,
   "id": "e9de329f",
   "metadata": {},
   "outputs": [],
   "source": [
    "#inheritance\n",
    "class Salary(Employee):\n",
    "    def __init__(self, ids, name, age,salary):\n",
    "        super().__init__(ids,name, age)\n",
    "        self.salary=salary\n",
    "        \n",
    "    def showSalary(self):\n",
    "        print(self.name,self.salary)"
   ]
  },
  {
   "cell_type": "code",
   "execution_count": 13,
   "id": "37327fb7",
   "metadata": {},
   "outputs": [
    {
     "name": "stdout",
     "output_type": "stream",
     "text": [
      "chandan 21500\n"
     ]
    }
   ],
   "source": [
    "obj=Salary(101,'chandan',21,21500)\n",
    "obj.showSalary()\n"
   ]
  },
  {
   "cell_type": "code",
   "execution_count": 55,
   "id": "bd106306",
   "metadata": {},
   "outputs": [],
   "source": [
    "#encapsulation\n",
    "class Salary1(Employee):\n",
    "    def __init__(self, ids, name, age,salary):\n",
    "        super().__init__()\n",
    "        self.__salary=salary\n",
    "        \n",
    "    def showSalary(self):\n",
    "        print(self.name,self.salary)\n"
   ]
  },
  {
   "cell_type": "code",
   "execution_count": 27,
   "id": "0bdba30e",
   "metadata": {},
   "outputs": [
    {
     "ename": "AttributeError",
     "evalue": "'Salary1' object has no attribute 'salary'",
     "output_type": "error",
     "traceback": [
      "\u001b[0;31m---------------------------------------------------------------------------\u001b[0m",
      "\u001b[0;31mAttributeError\u001b[0m                            Traceback (most recent call last)",
      "\u001b[0;32m<ipython-input-27-b02392b3a850>\u001b[0m in \u001b[0;36m<module>\u001b[0;34m\u001b[0m\n\u001b[1;32m      1\u001b[0m \u001b[0mobj\u001b[0m\u001b[0;34m=\u001b[0m\u001b[0mSalary1\u001b[0m\u001b[0;34m(\u001b[0m\u001b[0;36m101\u001b[0m\u001b[0;34m,\u001b[0m\u001b[0;34m'chandan'\u001b[0m\u001b[0;34m,\u001b[0m\u001b[0;36m21\u001b[0m\u001b[0;34m,\u001b[0m\u001b[0;36m21500\u001b[0m\u001b[0;34m)\u001b[0m\u001b[0;34m\u001b[0m\u001b[0;34m\u001b[0m\u001b[0m\n\u001b[0;32m----> 2\u001b[0;31m \u001b[0mobj\u001b[0m\u001b[0;34m.\u001b[0m\u001b[0mshowSalary\u001b[0m\u001b[0;34m(\u001b[0m\u001b[0;34m)\u001b[0m\u001b[0;34m\u001b[0m\u001b[0;34m\u001b[0m\u001b[0m\n\u001b[0m\u001b[1;32m      3\u001b[0m \u001b[0mprint\u001b[0m\u001b[0;34m(\u001b[0m\u001b[0mobj\u001b[0m\u001b[0;34m.\u001b[0m\u001b[0m__salary\u001b[0m\u001b[0;34m)\u001b[0m\u001b[0;34m\u001b[0m\u001b[0;34m\u001b[0m\u001b[0m\n\u001b[1;32m      4\u001b[0m \u001b[0;31m#salary cannot be accessed outside the class\u001b[0m\u001b[0;34m\u001b[0m\u001b[0;34m\u001b[0m\u001b[0;34m\u001b[0m\u001b[0m\n",
      "\u001b[0;32m<ipython-input-25-b84dff4ec878>\u001b[0m in \u001b[0;36mshowSalary\u001b[0;34m(self)\u001b[0m\n\u001b[1;32m      6\u001b[0m \u001b[0;34m\u001b[0m\u001b[0m\n\u001b[1;32m      7\u001b[0m     \u001b[0;32mdef\u001b[0m \u001b[0mshowSalary\u001b[0m\u001b[0;34m(\u001b[0m\u001b[0mself\u001b[0m\u001b[0;34m)\u001b[0m\u001b[0;34m:\u001b[0m\u001b[0;34m\u001b[0m\u001b[0;34m\u001b[0m\u001b[0m\n\u001b[0;32m----> 8\u001b[0;31m         \u001b[0mprint\u001b[0m\u001b[0;34m(\u001b[0m\u001b[0mself\u001b[0m\u001b[0;34m.\u001b[0m\u001b[0mname\u001b[0m\u001b[0;34m,\u001b[0m\u001b[0mself\u001b[0m\u001b[0;34m.\u001b[0m\u001b[0msalary\u001b[0m\u001b[0;34m)\u001b[0m\u001b[0;34m\u001b[0m\u001b[0;34m\u001b[0m\u001b[0m\n\u001b[0m",
      "\u001b[0;31mAttributeError\u001b[0m: 'Salary1' object has no attribute 'salary'"
     ]
    }
   ],
   "source": [
    "obj=Salary1(101,'chandan',21,21500)\n",
    "print(obj.__salary)\n",
    "#salary cannot be accessed outside the class"
   ]
  },
  {
   "cell_type": "code",
   "execution_count": 28,
   "id": "5302dce1",
   "metadata": {
    "scrolled": true
   },
   "outputs": [
    {
     "name": "stdout",
     "output_type": "stream",
     "text": [
      "Area of circle : 78.5\n",
      "Area of Rectangle : 50\n"
     ]
    }
   ],
   "source": [
    "#PolyMorphism\n",
    "\n",
    "class Circle:\n",
    "    pi = 3.14\n",
    "    def __init__(self, redius):\n",
    "        self.radius = redius\n",
    "\n",
    "    def calculate_area(self):\n",
    "        print(\"Area of circle :\", self.pi * self.radius * self.radius)\n",
    "\n",
    "class Rectangle:\n",
    "    def __init__(self, length, width):\n",
    "        self.length = length\n",
    "        self.width = width\n",
    "    def calculate_area(self):\n",
    "        print(\"Area of Rectangle :\", self.length * self.width)\n",
    "\n",
    "# function\n",
    "def area(shape):\n",
    "    shape.calculate_area()\n",
    "\n",
    "\n",
    "cir = Circle(5)\n",
    "rect = Rectangle(10, 5)\n",
    "\n",
    "# call common function\n",
    "area(cir)\n",
    "area(rect)\n"
   ]
  },
  {
   "cell_type": "code",
   "execution_count": 44,
   "id": "78fbb57e",
   "metadata": {},
   "outputs": [
    {
     "name": "stdout",
     "output_type": "stream",
     "text": [
      "3\n"
     ]
    }
   ],
   "source": [
    "import numpy as np\n",
    "#1D-Array\n",
    "arr = np.array([1, 2, 3, 4])\n",
    "print(arr[2])"
   ]
  },
  {
   "cell_type": "code",
   "execution_count": 49,
   "id": "8ea3544f",
   "metadata": {},
   "outputs": [
    {
     "name": "stdout",
     "output_type": "stream",
     "text": [
      "9\n",
      "5\n"
     ]
    }
   ],
   "source": [
    "#2D-Array\n",
    "arr2 = np.array([[1,2,3,4,5], [6,7,8,9,10]])\n",
    "print(arr2[1,3])\n",
    "#negative indexing\n",
    "print(arr2[-2,-1])"
   ]
  },
  {
   "cell_type": "code",
   "execution_count": 46,
   "id": "4265d039",
   "metadata": {},
   "outputs": [
    {
     "name": "stdout",
     "output_type": "stream",
     "text": [
      "6\n"
     ]
    }
   ],
   "source": [
    "#3D-Array\n",
    "arr3= np.array([[[1, 2, 3], [4, 5, 6]], [[7, 8, 9], [10, 11, 12]]])\n",
    "print(arr3[0, 1, 2])"
   ]
  },
  {
   "cell_type": "code",
   "execution_count": 53,
   "id": "8029df1a",
   "metadata": {},
   "outputs": [
    {
     "name": "stdout",
     "output_type": "stream",
     "text": [
      "[5 6 7]\n",
      "[4 5]\n",
      "[2 3 4]\n",
      "[1 2 3 4 5 6]\n",
      "[2 4]\n"
     ]
    }
   ],
   "source": [
    "#Slicing 1D Array\n",
    "arr = np.array([1, 2, 3, 4, 5, 6, 7])\n",
    "print(arr[4:])\n",
    "print(arr[3:-2])\n",
    "print(arr[1:-3])\n",
    "print(arr[:-1])\n",
    "print(arr[1:5:2])"
   ]
  },
  {
   "cell_type": "code",
   "execution_count": 54,
   "id": "621caa1f",
   "metadata": {},
   "outputs": [
    {
     "name": "stdout",
     "output_type": "stream",
     "text": [
      "[7 8 9]\n"
     ]
    }
   ],
   "source": [
    "#Slicing 2D Array\n",
    "arr = np.array([[1, 2, 3, 4, 5], [6, 7, 8, 9, 10]])\n",
    "print(arr[1, 1:4])\n"
   ]
  },
  {
   "cell_type": "code",
   "execution_count": null,
   "id": "a1489163",
   "metadata": {},
   "outputs": [],
   "source": []
  },
  {
   "cell_type": "code",
   "execution_count": null,
   "id": "62045bd9",
   "metadata": {},
   "outputs": [],
   "source": []
  },
  {
   "cell_type": "code",
   "execution_count": 15,
   "id": "892b1e1f",
   "metadata": {},
   "outputs": [
    {
     "name": "stdout",
     "output_type": "stream",
     "text": [
      "chandan\n",
      "22\n"
     ]
    }
   ],
   "source": [
    "#Composistion\n",
    "class one:\n",
    "    def __init__(self,name):\n",
    "        self.name=name\n",
    "    def onefun(self):\n",
    "        print(self.name)\n",
    "class two:\n",
    "    def __init__(self,age):\n",
    "        self.age=age\n",
    "        self.test=one(\"chandan\")\n",
    "        self.test.onefun()\n",
    "    def twofun(self):\n",
    "        print(self.age)\n",
    "\n",
    "t=two(22)\n",
    "t.twofun()\n",
    "        "
   ]
  },
  {
   "cell_type": "code",
   "execution_count": 21,
   "id": "6f0be4e3",
   "metadata": {},
   "outputs": [
    {
     "name": "stdout",
     "output_type": "stream",
     "text": [
      "hello\n",
      "22\n"
     ]
    }
   ],
   "source": [
    "#Aggregation\n",
    "class one:\n",
    "    def __init__(self,name):\n",
    "        self.name=name\n",
    "    def onefun(self):\n",
    "        print(self.name)\n",
    "class two:\n",
    "    def __init__(self,age,fobj):\n",
    "        self.age=age\n",
    "        self.test=fobj\n",
    "        self.test.onefun()\n",
    "    def twofun(self):\n",
    "        print(self.age)\n",
    "\n",
    "fobj=one(\"hello\")\n",
    "t=two(22,fobj)\n",
    "t.twofun()"
   ]
  },
  {
   "cell_type": "code",
   "execution_count": 29,
   "id": "0f5a7021",
   "metadata": {},
   "outputs": [
    {
     "name": "stdout",
     "output_type": "stream",
     "text": [
      "hello D\n"
     ]
    }
   ],
   "source": [
    "class A:\n",
    "    def fun(self):\n",
    "        print(\"hello A\")\n",
    "        \n",
    "class B(A):\n",
    "    def fun(self):\n",
    "        print(\"hello B\")\n",
    "        \n",
    "class C(A):\n",
    "    def fun(self):\n",
    "        print(\"hello C\")\n",
    "\n",
    "class D(B,C):\n",
    "    def fun(self):\n",
    "        print(\"hello D\")\n",
    "        \n",
    "obj=D()\n",
    "obj.fun()\n",
    "        "
   ]
  },
  {
   "cell_type": "code",
   "execution_count": 38,
   "id": "7773bf6d",
   "metadata": {},
   "outputs": [
    {
     "name": "stdout",
     "output_type": "stream",
     "text": [
      "hello B\n"
     ]
    }
   ],
   "source": [
    "class A:\n",
    "    def fun(self):\n",
    "        print(\"hello A\")\n",
    "        \n",
    "class B(A):\n",
    "    def fun(self):\n",
    "        print(\"hello B\")\n",
    "        \n",
    "class C(A):\n",
    "    def fun(self):\n",
    "        print(\"hello C\")\n",
    "\n",
    "class D(B,C):\n",
    "    pass\n",
    "#     def fun(self):\n",
    "        \n",
    "        \n",
    "obj=D()\n",
    "obj.fun()    "
   ]
  },
  {
   "cell_type": "code",
   "execution_count": 66,
   "id": "54416ff4",
   "metadata": {},
   "outputs": [
    {
     "ename": "SyntaxError",
     "evalue": "invalid syntax (<ipython-input-66-184ac77a6c27>, line 12)",
     "output_type": "error",
     "traceback": [
      "\u001b[0;36m  File \u001b[0;32m\"<ipython-input-66-184ac77a6c27>\"\u001b[0;36m, line \u001b[0;32m12\u001b[0m\n\u001b[0;31m    df[\"formatted_col\"]=df[\"timestamp_col].map(lambda ts:ts.strftime(\"%d-%m-%Y\"))\u001b[0m\n\u001b[0m                                                                         ^\u001b[0m\n\u001b[0;31mSyntaxError\u001b[0m\u001b[0;31m:\u001b[0m invalid syntax\n"
     ]
    }
   ],
   "source": [
    "import pandas as pd\n",
    "df=pd.DataFrame({\n",
    "    'name':['alice','bob','charlie'],\n",
    "    'date_of_birth':['10/25/2005','10/29/2002','01/01/2001']\n",
    "})\n",
    "print(df)\n",
    "df['date_of_birth']=pd.to_datetime(df['date_of_birth'])\n",
    "print(df)\n",
    "df['date_of_birth']=pd.to_datetime(df['date_of_birth'],format='%D/%m/%Y')\n",
    "print(df)\n"
   ]
  },
  {
   "cell_type": "code",
   "execution_count": 123,
   "id": "1c704f19",
   "metadata": {},
   "outputs": [
    {
     "name": "stdout",
     "output_type": "stream",
     "text": [
      "      name  age              timestamp_col formatted_col\n",
      "0    alice   12 2022-05-16 12:03:32.523056    16-05-2022\n",
      "1      bob   34 2022-05-16 12:03:32.523056    16-05-2022\n",
      "2  charlie   53 2022-05-16 12:03:32.523056    16-05-2022\n"
     ]
    }
   ],
   "source": [
    "import datetime\n",
    "df=pd.DataFrame({\n",
    "    'name':['alice','bob','charlie'],\n",
    "    'age':[12,34,53]\n",
    "})\n",
    "\n",
    "df[\"timestamp_col\"]=pd.Timestamp(datetime.datetime.now())\n",
    "df[\"formatted_col\"]=df[\"timestamp_col\"].map(lambda ts:ts.strftime(\"%d-%m-%Y\"))\n",
    "print(df)"
   ]
  },
  {
   "cell_type": "code",
   "execution_count": 124,
   "id": "6fe2734a",
   "metadata": {},
   "outputs": [
    {
     "data": {
      "text/html": [
       "<div>\n",
       "<style scoped>\n",
       "    .dataframe tbody tr th:only-of-type {\n",
       "        vertical-align: middle;\n",
       "    }\n",
       "\n",
       "    .dataframe tbody tr th {\n",
       "        vertical-align: top;\n",
       "    }\n",
       "\n",
       "    .dataframe thead th {\n",
       "        text-align: right;\n",
       "    }\n",
       "</style>\n",
       "<table border=\"1\" class=\"dataframe\">\n",
       "  <thead>\n",
       "    <tr style=\"text-align: right;\">\n",
       "      <th></th>\n",
       "      <th>name</th>\n",
       "      <th>age</th>\n",
       "      <th>timestamp_col</th>\n",
       "      <th>formatted_col</th>\n",
       "    </tr>\n",
       "  </thead>\n",
       "  <tbody>\n",
       "    <tr>\n",
       "      <th>0</th>\n",
       "      <td>alice</td>\n",
       "      <td>12</td>\n",
       "      <td>2022-05-16 12:03:32.523056</td>\n",
       "      <td>16-05-2022</td>\n",
       "    </tr>\n",
       "    <tr>\n",
       "      <th>1</th>\n",
       "      <td>bob</td>\n",
       "      <td>34</td>\n",
       "      <td>2022-05-16 12:03:32.523056</td>\n",
       "      <td>16-05-2022</td>\n",
       "    </tr>\n",
       "    <tr>\n",
       "      <th>2</th>\n",
       "      <td>charlie</td>\n",
       "      <td>53</td>\n",
       "      <td>2022-05-16 12:03:32.523056</td>\n",
       "      <td>16-05-2022</td>\n",
       "    </tr>\n",
       "  </tbody>\n",
       "</table>\n",
       "</div>"
      ],
      "text/plain": [
       "      name  age              timestamp_col formatted_col\n",
       "0    alice   12 2022-05-16 12:03:32.523056    16-05-2022\n",
       "1      bob   34 2022-05-16 12:03:32.523056    16-05-2022\n",
       "2  charlie   53 2022-05-16 12:03:32.523056    16-05-2022"
      ]
     },
     "execution_count": 124,
     "metadata": {},
     "output_type": "execute_result"
    }
   ],
   "source": [
    "df[df['timestamp_col']<pd.Timestamp(datetime.datetime(2022,5,17))]\n"
   ]
  },
  {
   "cell_type": "code",
   "execution_count": 128,
   "id": "ffe0fc02",
   "metadata": {},
   "outputs": [
    {
     "name": "stdout",
     "output_type": "stream",
     "text": [
      "<class 'pandas.core.series.Series'>\n"
     ]
    },
    {
     "data": {
      "text/html": [
       "<div>\n",
       "<style scoped>\n",
       "    .dataframe tbody tr th:only-of-type {\n",
       "        vertical-align: middle;\n",
       "    }\n",
       "\n",
       "    .dataframe tbody tr th {\n",
       "        vertical-align: top;\n",
       "    }\n",
       "\n",
       "    .dataframe thead th {\n",
       "        text-align: right;\n",
       "    }\n",
       "</style>\n",
       "<table border=\"1\" class=\"dataframe\">\n",
       "  <thead>\n",
       "    <tr style=\"text-align: right;\">\n",
       "      <th></th>\n",
       "      <th>name</th>\n",
       "      <th>date_of_birth</th>\n",
       "    </tr>\n",
       "  </thead>\n",
       "  <tbody>\n",
       "    <tr>\n",
       "      <th>0</th>\n",
       "      <td>alice</td>\n",
       "      <td>2005-10-25</td>\n",
       "    </tr>\n",
       "    <tr>\n",
       "      <th>1</th>\n",
       "      <td>bob</td>\n",
       "      <td>2002-10-29</td>\n",
       "    </tr>\n",
       "    <tr>\n",
       "      <th>2</th>\n",
       "      <td>charlie</td>\n",
       "      <td>2001-01-01</td>\n",
       "    </tr>\n",
       "  </tbody>\n",
       "</table>\n",
       "</div>"
      ],
      "text/plain": [
       "      name date_of_birth\n",
       "0    alice    2005-10-25\n",
       "1      bob    2002-10-29\n",
       "2  charlie    2001-01-01"
      ]
     },
     "execution_count": 128,
     "metadata": {},
     "output_type": "execute_result"
    }
   ],
   "source": [
    "df=pd.DataFrame({\n",
    "    'name':['alice','bob','charlie'],\n",
    "    'date_of_birth':['10/25/2005','10/29/2002','01/01/2001']\n",
    "})\n",
    "print(type(df['date_of_birth']))\n",
    "df['date_of_birth']=pd.to_datetime(df['date_of_birth'])\n",
    "op=df[df['date_of_birth']<pd.Timestamp(datetime.datetime(2022,5,17))]\n",
    "o7p"
   ]
  },
  {
   "cell_type": "code",
   "execution_count": null,
   "id": "51440a45",
   "metadata": {},
   "outputs": [],
   "source": []
  },
  {
   "cell_type": "code",
   "execution_count": 112,
   "id": "1a7bf66d",
   "metadata": {},
   "outputs": [
    {
     "name": "stdout",
     "output_type": "stream",
     "text": [
      "Name:  chandan Salary:  21500\n"
     ]
    }
   ],
   "source": [
    "class Employee:\n",
    "    def __init__(self,ids,name,age):\n",
    "        self.ids=ids\n",
    "        self.name=name\n",
    "        self.age=age\n",
    "    def show(self):\n",
    "        print('Employee: ',self.ids,self.name,self.age)   \n",
    "class Salary(Employee):\n",
    "    def __init__(self, ids, name, age,salary):\n",
    "        super().__init__( ids, name, age)\n",
    "        self.salary=salary\n",
    "        \n",
    "    def showSalary(self):\n",
    "        print('Name: ',self.name,'Salary: ',self.salary)\n",
    "obj=Salary(101,'chandan',21,21500)\n",
    "obj.showSalary()"
   ]
  },
  {
   "cell_type": "code",
   "execution_count": 106,
   "id": "b903c5e8",
   "metadata": {},
   "outputs": [
    {
     "name": "stdout",
     "output_type": "stream",
     "text": [
      "Name:  chandan Salary:  23666 Rank:  1\n"
     ]
    }
   ],
   "source": [
    "class Employee:\n",
    "    def __init__(self,ids,name,age):\n",
    "        self.ids=ids\n",
    "        self.name=name\n",
    "        self.age=age\n",
    "    def show(self):\n",
    "        print('Employee: ',self.ids,self.name,self.age)   \n",
    "        \n",
    "class Salary(Employee): #Single-Level Inheritance\n",
    "    def __init__(self, ids, name, age,salary):\n",
    "        super().__init__( ids, name, age)\n",
    "        self.salary=salary\n",
    "        \n",
    "    def showSalary(self):\n",
    "        print('Name: ',self.name,'Salary: ',self.salary)\n",
    "        \n",
    "class ERank(Salary):  #Multi-Level Inheritance\n",
    "    def __init__(self,rank):\n",
    "        \n",
    "        super().__init__(101,\"chandan\",34,23666)\n",
    "        self.rank=rank\n",
    "        \n",
    "    def showRank(self):\n",
    "        print('Name: ',self.name,'Salary: ',self.salary,'Rank: ',self.rank)\n",
    "        \n",
    "obj=ERank(1)\n",
    "obj.showRank()"
   ]
  },
  {
   "cell_type": "code",
   "execution_count": 130,
   "id": "ed9dba87",
   "metadata": {},
   "outputs": [
    {
     "data": {
      "text/html": [
       "<div>\n",
       "<style scoped>\n",
       "    .dataframe tbody tr th:only-of-type {\n",
       "        vertical-align: middle;\n",
       "    }\n",
       "\n",
       "    .dataframe tbody tr th {\n",
       "        vertical-align: top;\n",
       "    }\n",
       "\n",
       "    .dataframe thead th {\n",
       "        text-align: right;\n",
       "    }\n",
       "</style>\n",
       "<table border=\"1\" class=\"dataframe\">\n",
       "  <thead>\n",
       "    <tr style=\"text-align: right;\">\n",
       "      <th></th>\n",
       "      <th>key</th>\n",
       "      <th>A</th>\n",
       "    </tr>\n",
       "  </thead>\n",
       "  <tbody>\n",
       "    <tr>\n",
       "      <th>0</th>\n",
       "      <td>K0</td>\n",
       "      <td>A0</td>\n",
       "    </tr>\n",
       "    <tr>\n",
       "      <th>1</th>\n",
       "      <td>K1</td>\n",
       "      <td>A1</td>\n",
       "    </tr>\n",
       "    <tr>\n",
       "      <th>2</th>\n",
       "      <td>K2</td>\n",
       "      <td>A2</td>\n",
       "    </tr>\n",
       "    <tr>\n",
       "      <th>3</th>\n",
       "      <td>K3</td>\n",
       "      <td>A3</td>\n",
       "    </tr>\n",
       "    <tr>\n",
       "      <th>4</th>\n",
       "      <td>K4</td>\n",
       "      <td>A4</td>\n",
       "    </tr>\n",
       "    <tr>\n",
       "      <th>5</th>\n",
       "      <td>K5</td>\n",
       "      <td>A5</td>\n",
       "    </tr>\n",
       "  </tbody>\n",
       "</table>\n",
       "</div>"
      ],
      "text/plain": [
       "  key   A\n",
       "0  K0  A0\n",
       "1  K1  A1\n",
       "2  K2  A2\n",
       "3  K3  A3\n",
       "4  K4  A4\n",
       "5  K5  A5"
      ]
     },
     "execution_count": 130,
     "metadata": {},
     "output_type": "execute_result"
    }
   ],
   "source": [
    "df = pd.DataFrame({'key': ['K0', 'K1', 'K2', 'K3', 'K4', 'K5'],\n",
    "                   'A': ['A0', 'A1', 'A2', 'A3', 'A4', 'A5']})\n",
    "df"
   ]
  },
  {
   "cell_type": "code",
   "execution_count": 131,
   "id": "aaba20fe",
   "metadata": {},
   "outputs": [
    {
     "data": {
      "text/html": [
       "<div>\n",
       "<style scoped>\n",
       "    .dataframe tbody tr th:only-of-type {\n",
       "        vertical-align: middle;\n",
       "    }\n",
       "\n",
       "    .dataframe tbody tr th {\n",
       "        vertical-align: top;\n",
       "    }\n",
       "\n",
       "    .dataframe thead th {\n",
       "        text-align: right;\n",
       "    }\n",
       "</style>\n",
       "<table border=\"1\" class=\"dataframe\">\n",
       "  <thead>\n",
       "    <tr style=\"text-align: right;\">\n",
       "      <th></th>\n",
       "      <th>key</th>\n",
       "      <th>B</th>\n",
       "    </tr>\n",
       "  </thead>\n",
       "  <tbody>\n",
       "    <tr>\n",
       "      <th>0</th>\n",
       "      <td>K0</td>\n",
       "      <td>B0</td>\n",
       "    </tr>\n",
       "    <tr>\n",
       "      <th>1</th>\n",
       "      <td>K1</td>\n",
       "      <td>B1</td>\n",
       "    </tr>\n",
       "    <tr>\n",
       "      <th>2</th>\n",
       "      <td>K2</td>\n",
       "      <td>B2</td>\n",
       "    </tr>\n",
       "  </tbody>\n",
       "</table>\n",
       "</div>"
      ],
      "text/plain": [
       "  key   B\n",
       "0  K0  B0\n",
       "1  K1  B1\n",
       "2  K2  B2"
      ]
     },
     "execution_count": 131,
     "metadata": {},
     "output_type": "execute_result"
    }
   ],
   "source": [
    "other = pd.DataFrame({'key': ['K0', 'K1', 'K2'],\n",
    "                      'B': ['B0', 'B1', 'B2']})\n",
    "other"
   ]
  },
  {
   "cell_type": "code",
   "execution_count": 137,
   "id": "42f3b43a",
   "metadata": {},
   "outputs": [
    {
     "data": {
      "text/html": [
       "<div>\n",
       "<style scoped>\n",
       "    .dataframe tbody tr th:only-of-type {\n",
       "        vertical-align: middle;\n",
       "    }\n",
       "\n",
       "    .dataframe tbody tr th {\n",
       "        vertical-align: top;\n",
       "    }\n",
       "\n",
       "    .dataframe thead th {\n",
       "        text-align: right;\n",
       "    }\n",
       "</style>\n",
       "<table border=\"1\" class=\"dataframe\">\n",
       "  <thead>\n",
       "    <tr style=\"text-align: right;\">\n",
       "      <th></th>\n",
       "      <th>key_caller</th>\n",
       "      <th>A</th>\n",
       "      <th>key_other</th>\n",
       "      <th>B</th>\n",
       "    </tr>\n",
       "  </thead>\n",
       "  <tbody>\n",
       "    <tr>\n",
       "      <th>0</th>\n",
       "      <td>K0</td>\n",
       "      <td>A0</td>\n",
       "      <td>K0</td>\n",
       "      <td>B0</td>\n",
       "    </tr>\n",
       "    <tr>\n",
       "      <th>1</th>\n",
       "      <td>K1</td>\n",
       "      <td>A1</td>\n",
       "      <td>K1</td>\n",
       "      <td>B1</td>\n",
       "    </tr>\n",
       "    <tr>\n",
       "      <th>2</th>\n",
       "      <td>K2</td>\n",
       "      <td>A2</td>\n",
       "      <td>K2</td>\n",
       "      <td>B2</td>\n",
       "    </tr>\n",
       "    <tr>\n",
       "      <th>3</th>\n",
       "      <td>K3</td>\n",
       "      <td>A3</td>\n",
       "      <td>NaN</td>\n",
       "      <td>NaN</td>\n",
       "    </tr>\n",
       "    <tr>\n",
       "      <th>4</th>\n",
       "      <td>K4</td>\n",
       "      <td>A4</td>\n",
       "      <td>NaN</td>\n",
       "      <td>NaN</td>\n",
       "    </tr>\n",
       "    <tr>\n",
       "      <th>5</th>\n",
       "      <td>K5</td>\n",
       "      <td>A5</td>\n",
       "      <td>NaN</td>\n",
       "      <td>NaN</td>\n",
       "    </tr>\n",
       "  </tbody>\n",
       "</table>\n",
       "</div>"
      ],
      "text/plain": [
       "  key_caller   A key_other    B\n",
       "0         K0  A0        K0   B0\n",
       "1         K1  A1        K1   B1\n",
       "2         K2  A2        K2   B2\n",
       "3         K3  A3       NaN  NaN\n",
       "4         K4  A4       NaN  NaN\n",
       "5         K5  A5       NaN  NaN"
      ]
     },
     "execution_count": 137,
     "metadata": {},
     "output_type": "execute_result"
    }
   ],
   "source": [
    "df.join(other, lsuffix='_caller', rsuffix='_other')"
   ]
  },
  {
   "cell_type": "code",
   "execution_count": 138,
   "id": "adccec4e",
   "metadata": {},
   "outputs": [
    {
     "data": {
      "text/html": [
       "<div>\n",
       "<style scoped>\n",
       "    .dataframe tbody tr th:only-of-type {\n",
       "        vertical-align: middle;\n",
       "    }\n",
       "\n",
       "    .dataframe tbody tr th {\n",
       "        vertical-align: top;\n",
       "    }\n",
       "\n",
       "    .dataframe thead th {\n",
       "        text-align: right;\n",
       "    }\n",
       "</style>\n",
       "<table border=\"1\" class=\"dataframe\">\n",
       "  <thead>\n",
       "    <tr style=\"text-align: right;\">\n",
       "      <th></th>\n",
       "      <th>key_caller</th>\n",
       "      <th>A</th>\n",
       "      <th>key_other</th>\n",
       "      <th>B</th>\n",
       "    </tr>\n",
       "  </thead>\n",
       "  <tbody>\n",
       "    <tr>\n",
       "      <th>0</th>\n",
       "      <td>K0</td>\n",
       "      <td>A0</td>\n",
       "      <td>K0</td>\n",
       "      <td>B0</td>\n",
       "    </tr>\n",
       "    <tr>\n",
       "      <th>1</th>\n",
       "      <td>K1</td>\n",
       "      <td>A1</td>\n",
       "      <td>K1</td>\n",
       "      <td>B1</td>\n",
       "    </tr>\n",
       "    <tr>\n",
       "      <th>2</th>\n",
       "      <td>K2</td>\n",
       "      <td>A2</td>\n",
       "      <td>K2</td>\n",
       "      <td>B2</td>\n",
       "    </tr>\n",
       "  </tbody>\n",
       "</table>\n",
       "</div>"
      ],
      "text/plain": [
       "  key_caller   A key_other   B\n",
       "0         K0  A0        K0  B0\n",
       "1         K1  A1        K1  B1\n",
       "2         K2  A2        K2  B2"
      ]
     },
     "execution_count": 138,
     "metadata": {},
     "output_type": "execute_result"
    }
   ],
   "source": [
    "df.join(other, how='right', lsuffix='_caller', rsuffix='_other')"
   ]
  },
  {
   "cell_type": "code",
   "execution_count": 140,
   "id": "37b0b7bf",
   "metadata": {},
   "outputs": [
    {
     "data": {
      "text/html": [
       "<div>\n",
       "<style scoped>\n",
       "    .dataframe tbody tr th:only-of-type {\n",
       "        vertical-align: middle;\n",
       "    }\n",
       "\n",
       "    .dataframe tbody tr th {\n",
       "        vertical-align: top;\n",
       "    }\n",
       "\n",
       "    .dataframe thead th {\n",
       "        text-align: right;\n",
       "    }\n",
       "</style>\n",
       "<table border=\"1\" class=\"dataframe\">\n",
       "  <thead>\n",
       "    <tr style=\"text-align: right;\">\n",
       "      <th></th>\n",
       "      <th>key_caller</th>\n",
       "      <th>A</th>\n",
       "      <th>key_other</th>\n",
       "      <th>B</th>\n",
       "    </tr>\n",
       "  </thead>\n",
       "  <tbody>\n",
       "    <tr>\n",
       "      <th>0</th>\n",
       "      <td>K0</td>\n",
       "      <td>A0</td>\n",
       "      <td>K0</td>\n",
       "      <td>B0</td>\n",
       "    </tr>\n",
       "    <tr>\n",
       "      <th>1</th>\n",
       "      <td>K1</td>\n",
       "      <td>A1</td>\n",
       "      <td>K1</td>\n",
       "      <td>B1</td>\n",
       "    </tr>\n",
       "    <tr>\n",
       "      <th>2</th>\n",
       "      <td>K2</td>\n",
       "      <td>A2</td>\n",
       "      <td>K2</td>\n",
       "      <td>B2</td>\n",
       "    </tr>\n",
       "  </tbody>\n",
       "</table>\n",
       "</div>"
      ],
      "text/plain": [
       "  key_caller   A key_other   B\n",
       "0         K0  A0        K0  B0\n",
       "1         K1  A1        K1  B1\n",
       "2         K2  A2        K2  B2"
      ]
     },
     "execution_count": 140,
     "metadata": {},
     "output_type": "execute_result"
    }
   ],
   "source": [
    "df.join(other, how='inner', lsuffix='_caller', rsuffix='_other')"
   ]
  },
  {
   "cell_type": "code",
   "execution_count": null,
   "id": "614e0efa",
   "metadata": {},
   "outputs": [],
   "source": []
  }
 ],
 "metadata": {
  "kernelspec": {
   "display_name": "Python 3",
   "language": "python",
   "name": "python3"
  },
  "language_info": {
   "codemirror_mode": {
    "name": "ipython",
    "version": 3
   },
   "file_extension": ".py",
   "mimetype": "text/x-python",
   "name": "python",
   "nbconvert_exporter": "python",
   "pygments_lexer": "ipython3",
   "version": "3.8.8"
  }
 },
 "nbformat": 4,
 "nbformat_minor": 5
}
