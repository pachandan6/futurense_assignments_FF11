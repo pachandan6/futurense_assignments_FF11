{
 "cells": [
  {
   "cell_type": "code",
   "execution_count": 9,
   "id": "897253d3",
   "metadata": {},
   "outputs": [
    {
     "name": "stdout",
     "output_type": "stream",
     "text": [
      "[2, 3, 4, 5]\n"
     ]
    }
   ],
   "source": [
    "import pandas\n",
    "\n",
    "my_input=[2,3,4,5]\n",
    "\n",
    "print(my_input)"
   ]
  },
  {
   "cell_type": "code",
   "execution_count": 12,
   "id": "186fe827",
   "metadata": {},
   "outputs": [
    {
     "name": "stdout",
     "output_type": "stream",
     "text": [
      "   0\n",
      "0  2\n",
      "1  3\n",
      "2  4\n",
      "3  5\n",
      "<class 'pandas.core.frame.DataFrame'>\n"
     ]
    }
   ],
   "source": [
    "my_dimension=pandas.DataFrame(my_input) \n",
    "\n",
    "#A Pandas DataFrame is a 2 dimensional data structure, like a 2 dimensional array, or a table with rows and columns.\n",
    "#dataframe is used to convert 1 Dimension list to 2Dimension list\n",
    "\n",
    "print(my_dimension)\n",
    "print(type(my_dimension))"
   ]
  },
  {
   "cell_type": "code",
   "execution_count": 26,
   "id": "25accf7f",
   "metadata": {},
   "outputs": [
    {
     "name": "stdout",
     "output_type": "stream",
     "text": [
      "   0  1  2\n",
      "0  2  5  7\n",
      "1  9  8  6\n",
      "2  4  1  2\n"
     ]
    }
   ],
   "source": [
    "list1=[[2,5,7],[9,8,6],[4,1,2]]\n",
    "dimen=pandas.DataFrame(list1)\n",
    "print(dimen)"
   ]
  },
  {
   "cell_type": "code",
   "execution_count": 21,
   "id": "071dae76",
   "metadata": {},
   "outputs": [
    {
     "name": "stdout",
     "output_type": "stream",
     "text": [
      "   0    1    2\n",
      "0  1  dog    4\n",
      "1  8  cat  rat\n",
      "2  7    9    2\n"
     ]
    }
   ],
   "source": [
    "list2=[[1,'dog',4],[8,'cat','rat'],[7,9,2]]\n",
    "dimension=pandas.DataFrame(list2)\n",
    "print(dimension)\n"
   ]
  },
  {
   "cell_type": "code",
   "execution_count": 23,
   "id": "4c8a75ad",
   "metadata": {},
   "outputs": [
    {
     "name": "stdout",
     "output_type": "stream",
     "text": [
      "0      8\n",
      "1    cat\n",
      "2    rat\n",
      "Name: 1, dtype: object\n"
     ]
    }
   ],
   "source": [
    "print(dimension.loc[1]) #to get specified rows"
   ]
  },
  {
   "cell_type": "code",
   "execution_count": 25,
   "id": "e19c65c0",
   "metadata": {},
   "outputs": [
    {
     "name": "stdout",
     "output_type": "stream",
     "text": [
      "   0  1  2\n",
      "0  1  2  3\n",
      "1  4  7  5\n"
     ]
    }
   ],
   "source": [
    "tup=((1,2,3),(4,7,5))\n",
    "dimension=pandas.DataFrame(tup)\n",
    "print(dimension)"
   ]
  },
  {
   "cell_type": "code",
   "execution_count": 31,
   "id": "44da5840",
   "metadata": {},
   "outputs": [
    {
     "name": "stdout",
     "output_type": "stream",
     "text": [
      "   0  1  2\n",
      "0  2  5  7\n",
      "1  9  8  6\n",
      "2  4  1  2\n",
      " \n",
      "0    15\n",
      "1    14\n",
      "2    15\n",
      "dtype: int64\n",
      " \n",
      "0    14\n",
      "1    23\n",
      "2     7\n",
      "dtype: int64\n"
     ]
    }
   ],
   "source": [
    "print(dimen)\n",
    "print(\" \")\n",
    "\n",
    "#column wise addition\n",
    "sum_of_list=dimen.sum()\n",
    "print(sum_of_list)\n",
    "\n",
    "print(\" \")\n",
    "\n",
    "#row wise addition\n",
    "sum_of_list1=dimen.sum(axis=1)\n",
    "print(sum_of_list1)"
   ]
  },
  {
   "cell_type": "code",
   "execution_count": 32,
   "id": "8944b799",
   "metadata": {},
   "outputs": [
    {
     "name": "stdout",
     "output_type": "stream",
     "text": [
      "   dog  cat  rat\n",
      "a    2    5    7\n",
      "b    9    8    6\n",
      "c    4    1    2\n"
     ]
    }
   ],
   "source": [
    "#to give names to index\n",
    "dimen_Index=pandas.DataFrame(list1,index=[\"a\",\"b\",\"c\"],columns=[\"dog\",\"cat\",\"rat\"])\n",
    "print(dimen_Index)"
   ]
  },
  {
   "cell_type": "code",
   "execution_count": 34,
   "id": "0eaeb3a3",
   "metadata": {},
   "outputs": [
    {
     "name": "stdout",
     "output_type": "stream",
     "text": [
      "   calories  duration\n",
      "1       420        50\n",
      "2       380        40\n",
      "3       390        45\n"
     ]
    }
   ],
   "source": [
    "data = {\n",
    "  \"calories\": [420, 380, 390],\n",
    "  \"duration\": [50, 40, 45]\n",
    "}\n",
    "\n",
    "#load data into a DataFrame object:\n",
    "df = pandas.DataFrame(data,index=[1,2,3])\n",
    "print(df)\n"
   ]
  },
  {
   "cell_type": "code",
   "execution_count": 48,
   "id": "0a43f899",
   "metadata": {},
   "outputs": [
    {
     "name": "stdout",
     "output_type": "stream",
     "text": [
      "         Names Team\n",
      "player1  Dhoni  csk\n",
      "player2  kohli  rcb\n",
      "player3    ABD  rcb\n",
      " \n",
      "Names    Dhoni\n",
      "Team       csk\n",
      "Name: player1, dtype: object\n",
      " \n",
      "Dhoni\n"
     ]
    }
   ],
   "source": [
    "data1={\"Names\":[\"Dhoni\",\"kohli\",\"ABD\"],\"Team\":[\"csk\",\"rcb\",\"rcb\"]}\n",
    "df1=pandas.DataFrame(data1,index=[\"player1\",\"player2\",\"player3\"])\n",
    "print(df1)\n",
    "print(\" \")\n",
    "print(df1.loc[\"player1\"]) #to get row using index value\n",
    "print(\" \")\n",
    "print(df1.iloc[0,0]) #to get the value using position"
   ]
  },
  {
   "cell_type": "code",
   "execution_count": 49,
   "id": "5f1a4fea",
   "metadata": {},
   "outputs": [],
   "source": [
    "#to create a csv file\n",
    "df1.to_csv(\"pandas_day1.csv\")\n"
   ]
  },
  {
   "cell_type": "code",
   "execution_count": 56,
   "id": "347bd74d",
   "metadata": {},
   "outputs": [
    {
     "name": "stdout",
     "output_type": "stream",
     "text": [
      "      Team  Rank  Year  Points\n",
      "0   Riders     1  2014     876\n",
      "1   Riders     2  2015     789\n",
      "2   Devils     2  2014     863\n",
      "3   Devils     3  2015     673\n",
      "4    Kings     3  2014     741\n",
      "5    kings     4  2015     812\n",
      "6    Kings     1  2016     756\n",
      "7    Kings     1  2017     788\n",
      "8   Riders     2  2016     694\n",
      "9   Royals     4  2014     701\n",
      "10  Royals     1  2015     804\n",
      "11  Riders     2  2017     690\n"
     ]
    }
   ],
   "source": [
    "#group by function\n",
    "ipl_data = {'Team': ['Riders', 'Riders', 'Devils', 'Devils', 'Kings',\n",
    "   'kings', 'Kings', 'Kings', 'Riders', 'Royals', 'Royals', 'Riders'],\n",
    "   'Rank': [1, 2, 2, 3, 3,4 ,1 ,1,2 , 4,1,2],\n",
    "   'Year': [2014,2015,2014,2015,2014,2015,2016,2017,2016,2014,2015,2017],\n",
    "   'Points':[876,789,863,673,741,812,756,788,694,701,804,690]}\n",
    "dfa = pandas.DataFrame(ipl_data)\n",
    "print(dfa)"
   ]
  },
  {
   "cell_type": "code",
   "execution_count": 59,
   "id": "51c8ddfa",
   "metadata": {},
   "outputs": [
    {
     "name": "stdout",
     "output_type": "stream",
     "text": [
      "{'Devils': [2, 3], 'Kings': [4, 6, 7], 'Riders': [0, 1, 8, 11], 'Royals': [9, 10], 'kings': [5]}\n"
     ]
    }
   ],
   "source": [
    "#To group by single column\n",
    "print(dfa.groupby('Team',).groups)"
   ]
  },
  {
   "cell_type": "code",
   "execution_count": 62,
   "id": "630771e5",
   "metadata": {},
   "outputs": [
    {
     "name": "stdout",
     "output_type": "stream",
     "text": [
      "{('Devils', 2014): [2], ('Devils', 2015): [3], ('Kings', 2014): [4], ('Kings', 2016): [6], ('Kings', 2017): [7], ('Riders', 2014): [0], ('Riders', 2015): [1], ('Riders', 2016): [8], ('Riders', 2017): [11], ('Royals', 2014): [9], ('Royals', 2015): [10], ('kings', 2015): [5]}\n"
     ]
    }
   ],
   "source": [
    "#To group by multiple columns\n",
    "print(dfa.groupby(['Team','Year']).groups)"
   ]
  },
  {
   "cell_type": "code",
   "execution_count": 4,
   "id": "277766be",
   "metadata": {},
   "outputs": [
    {
     "name": "stdout",
     "output_type": "stream",
     "text": [
      "              Name            Team  Number Position   Age Height  Weight  \\\n",
      "0    Avery Bradley  Boston Celtics     0.0       PG  25.0    6-2   180.0   \n",
      "1      Jae Crowder  Boston Celtics    99.0       SF  25.0    6-6   235.0   \n",
      "2     John Holland  Boston Celtics    30.0       SG  27.0    6-5   205.0   \n",
      "3      R.J. Hunter  Boston Celtics    28.0       SG  22.0    6-5   185.0   \n",
      "4    Jonas Jerebko  Boston Celtics     8.0       PF  29.0   6-10   231.0   \n",
      "..             ...             ...     ...      ...   ...    ...     ...   \n",
      "453   Shelvin Mack       Utah Jazz     8.0       PG  26.0    6-3   203.0   \n",
      "454      Raul Neto       Utah Jazz    25.0       PG  24.0    6-1   179.0   \n",
      "455   Tibor Pleiss       Utah Jazz    21.0        C  26.0    7-3   256.0   \n",
      "456    Jeff Withey       Utah Jazz    24.0        C  26.0    7-0   231.0   \n",
      "457            NaN             NaN     NaN      NaN   NaN    NaN     NaN   \n",
      "\n",
      "               College     Salary  \n",
      "0                Texas  7730337.0  \n",
      "1            Marquette  6796117.0  \n",
      "2    Boston University        NaN  \n",
      "3        Georgia State  1148640.0  \n",
      "4                  NaN  5000000.0  \n",
      "..                 ...        ...  \n",
      "453             Butler  2433333.0  \n",
      "454                NaN   900000.0  \n",
      "455                NaN  2900000.0  \n",
      "456             Kansas   947276.0  \n",
      "457                NaN        NaN  \n",
      "\n",
      "[458 rows x 9 columns]\n"
     ]
    }
   ],
   "source": [
    "import pandas as pd\n",
    "\n",
    "file=pd.read_csv('nba.csv')\n",
    "print(file)"
   ]
  },
  {
   "cell_type": "code",
   "execution_count": 69,
   "id": "0cfed810",
   "metadata": {},
   "outputs": [
    {
     "name": "stdout",
     "output_type": "stream",
     "text": [
      "                                        Number Position   Age Height  Weight  \\\n",
      "Name            Team                                                           \n",
      "Aaron Brooks    Chicago Bulls              0.0       PG  31.0    6-0   161.0   \n",
      "Aaron Gordon    Orlando Magic              0.0       PF  20.0    6-9   220.0   \n",
      "Aaron Harrison  Charlotte Hornets          9.0       SG  21.0    6-6   210.0   \n",
      "Adreian Payne   Minnesota Timberwolves    33.0       PF  25.0   6-10   237.0   \n",
      "Al Horford      Atlanta Hawks             15.0        C  30.0   6-10   245.0   \n",
      "...                                        ...      ...   ...    ...     ...   \n",
      "Wilson Chandler Denver Nuggets            21.0       SF  29.0    6-8   225.0   \n",
      "Xavier Munford  Memphis Grizzlies         14.0       PG  24.0    6-3   180.0   \n",
      "Zach LaVine     Minnesota Timberwolves     8.0       PG  21.0    6-5   189.0   \n",
      "Zach Randolph   Memphis Grizzlies         50.0       PF  34.0    6-9   260.0   \n",
      "Zaza Pachulia   Dallas Mavericks          27.0        C  32.0   6-11   275.0   \n",
      "\n",
      "                                               College      Salary  \n",
      "Name            Team                                                \n",
      "Aaron Brooks    Chicago Bulls                   Oregon   2250000.0  \n",
      "Aaron Gordon    Orlando Magic                  Arizona   4171680.0  \n",
      "Aaron Harrison  Charlotte Hornets             Kentucky    525093.0  \n",
      "Adreian Payne   Minnesota Timberwolves  Michigan State   1938840.0  \n",
      "Al Horford      Atlanta Hawks                  Florida  12000000.0  \n",
      "...                                                ...         ...  \n",
      "Wilson Chandler Denver Nuggets                  DePaul  10449438.0  \n",
      "Xavier Munford  Memphis Grizzlies         Rhode Island         NaN  \n",
      "Zach LaVine     Minnesota Timberwolves            UCLA   2148360.0  \n",
      "Zach Randolph   Memphis Grizzlies       Michigan State   9638555.0  \n",
      "Zaza Pachulia   Dallas Mavericks                  None   5200000.0  \n",
      "\n",
      "[457 rows x 7 columns]\n"
     ]
    }
   ],
   "source": [
    "print(file.groupby(['Name','Team'],sort=True).first())"
   ]
  },
  {
   "cell_type": "code",
   "execution_count": 97,
   "id": "30a3a4d2",
   "metadata": {},
   "outputs": [
    {
     "data": {
      "text/plain": [
       "Team\n",
       "Atlanta Hawks             28.200000\n",
       "Boston Celtics            24.733333\n",
       "Brooklyn Nets             25.600000\n",
       "Charlotte Hornets         26.133333\n",
       "Chicago Bulls             27.400000\n",
       "Cleveland Cavaliers       29.533333\n",
       "Dallas Mavericks          29.733333\n",
       "Denver Nuggets            25.733333\n",
       "Detroit Pistons           26.200000\n",
       "Golden State Warriors     27.666667\n",
       "Houston Rockets           26.866667\n",
       "Indiana Pacers            26.400000\n",
       "Los Angeles Clippers      29.466667\n",
       "Los Angeles Lakers        27.533333\n",
       "Memphis Grizzlies         28.388889\n",
       "Miami Heat                28.933333\n",
       "Milwaukee Bucks           24.562500\n",
       "Minnesota Timberwolves    26.357143\n",
       "New Orleans Pelicans      26.894737\n",
       "New York Knicks           27.000000\n",
       "Oklahoma City Thunder     27.066667\n",
       "Orlando Magic             25.071429\n",
       "Philadelphia 76ers        24.600000\n",
       "Phoenix Suns              25.866667\n",
       "Portland Trail Blazers    25.066667\n",
       "Sacramento Kings          26.800000\n",
       "San Antonio Spurs         31.600000\n",
       "Toronto Raptors           26.133333\n",
       "Utah Jazz                 24.466667\n",
       "Washington Wizards        27.866667\n",
       "Name: Age, dtype: float64"
      ]
     },
     "execution_count": 97,
     "metadata": {},
     "output_type": "execute_result"
    }
   ],
   "source": [
    "file.groupby('Team')[\"Age\"].mean()"
   ]
  },
  {
   "cell_type": "code",
   "execution_count": 73,
   "id": "666262e8",
   "metadata": {},
   "outputs": [
    {
     "name": "stdout",
     "output_type": "stream",
     "text": [
      "         Number      Weight        Salary\n",
      "Age                                      \n",
      "19.0  10.500000  204.000000  1.930440e+06\n",
      "20.0  17.210526  223.736842  2.725791e+06\n",
      "21.0  18.315789  220.894737  2.067380e+06\n",
      "22.0  14.423077  224.230769  2.357963e+06\n",
      "23.0  19.682927  214.048780  2.034746e+06\n",
      "24.0  16.468085  216.744681  3.785300e+06\n",
      "25.0  19.866667  214.333333  3.930867e+06\n",
      "26.0  17.277778  228.500000  6.866566e+06\n",
      "27.0  18.682927  220.463415  6.676741e+06\n",
      "28.0  19.741935  222.967742  5.110189e+06\n",
      "29.0  16.892857  233.321429  6.224177e+06\n",
      "30.0  12.032258  214.645161  7.061859e+06\n",
      "31.0  12.681818  229.772727  8.511397e+06\n",
      "32.0  12.846154  220.846154  7.716958e+06\n",
      "33.0  23.571429  226.357143  3.930739e+06\n",
      "34.0  23.500000  227.300000  7.606030e+06\n",
      "35.0  19.666667  229.222222  3.461740e+06\n",
      "36.0  19.700000  222.100000  2.238120e+06\n",
      "37.0  28.500000  239.000000  1.277778e+07\n",
      "38.0  24.500000  218.750000  1.840041e+06\n",
      "39.0  12.000000  202.500000  2.517872e+06\n",
      "40.0  22.000000  230.000000  4.666917e+06\n"
     ]
    }
   ],
   "source": [
    "meanAge=file.groupby('Age').mean()\n",
    "print(meanAge)"
   ]
  },
  {
   "cell_type": "code",
   "execution_count": 93,
   "id": "e1481540",
   "metadata": {},
   "outputs": [
    {
     "data": {
      "text/html": [
       "<div>\n",
       "<style scoped>\n",
       "    .dataframe tbody tr th:only-of-type {\n",
       "        vertical-align: middle;\n",
       "    }\n",
       "\n",
       "    .dataframe tbody tr th {\n",
       "        vertical-align: top;\n",
       "    }\n",
       "\n",
       "    .dataframe thead th {\n",
       "        text-align: right;\n",
       "    }\n",
       "</style>\n",
       "<table border=\"1\" class=\"dataframe\">\n",
       "  <thead>\n",
       "    <tr style=\"text-align: right;\">\n",
       "      <th></th>\n",
       "      <th>runs</th>\n",
       "      <th>score</th>\n",
       "    </tr>\n",
       "    <tr>\n",
       "      <th>player</th>\n",
       "      <th></th>\n",
       "      <th></th>\n",
       "    </tr>\n",
       "  </thead>\n",
       "  <tbody>\n",
       "    <tr>\n",
       "      <th>abd</th>\n",
       "      <td>4</td>\n",
       "      <td>33</td>\n",
       "    </tr>\n",
       "    <tr>\n",
       "      <th>dhoni</th>\n",
       "      <td>1</td>\n",
       "      <td>90</td>\n",
       "    </tr>\n",
       "    <tr>\n",
       "      <th>gayle</th>\n",
       "      <td>4</td>\n",
       "      <td>65</td>\n",
       "    </tr>\n",
       "    <tr>\n",
       "      <th>kohli</th>\n",
       "      <td>4</td>\n",
       "      <td>47</td>\n",
       "    </tr>\n",
       "  </tbody>\n",
       "</table>\n",
       "</div>"
      ],
      "text/plain": [
       "        runs  score\n",
       "player             \n",
       "abd        4     33\n",
       "dhoni      1     90\n",
       "gayle      4     65\n",
       "kohli      4     47"
      ]
     },
     "execution_count": 93,
     "metadata": {},
     "output_type": "execute_result"
    }
   ],
   "source": [
    "data5={\"runs\":[1,2,3,4,5,6],\"score\":[90,43,23,65,43,51],\"player\":[\"dhoni\",\"kohli\",\"abd\",\"gayle\",\"abd\",\"kohli\"]}\n",
    "df1=pd.DataFrame(data5)\n",
    "df1.groupby([\"player\"]).mean() #this will give the mean of all the column values\n"
   ]
  },
  {
   "cell_type": "code",
   "execution_count": 94,
   "id": "3042b268",
   "metadata": {},
   "outputs": [
    {
     "data": {
      "text/plain": [
       "player\n",
       "abd      33\n",
       "dhoni    90\n",
       "gayle    65\n",
       "kohli    47\n",
       "Name: score, dtype: int64"
      ]
     },
     "execution_count": 94,
     "metadata": {},
     "output_type": "execute_result"
    }
   ],
   "source": [
    "df1.groupby([\"player\"])[\"score\"].mean() #this will give the mean of only the specified column"
   ]
  },
  {
   "cell_type": "code",
   "execution_count": 89,
   "id": "da40b486",
   "metadata": {},
   "outputs": [
    {
     "data": {
      "text/html": [
       "<div>\n",
       "<style scoped>\n",
       "    .dataframe tbody tr th:only-of-type {\n",
       "        vertical-align: middle;\n",
       "    }\n",
       "\n",
       "    .dataframe tbody tr th {\n",
       "        vertical-align: top;\n",
       "    }\n",
       "\n",
       "    .dataframe thead th {\n",
       "        text-align: right;\n",
       "    }\n",
       "</style>\n",
       "<table border=\"1\" class=\"dataframe\">\n",
       "  <thead>\n",
       "    <tr style=\"text-align: right;\">\n",
       "      <th></th>\n",
       "      <th>runs</th>\n",
       "      <th>score</th>\n",
       "      <th>player</th>\n",
       "    </tr>\n",
       "  </thead>\n",
       "  <tbody>\n",
       "    <tr>\n",
       "      <th>2</th>\n",
       "      <td>3</td>\n",
       "      <td>23</td>\n",
       "      <td>abd</td>\n",
       "    </tr>\n",
       "    <tr>\n",
       "      <th>1</th>\n",
       "      <td>2</td>\n",
       "      <td>43</td>\n",
       "      <td>kohli</td>\n",
       "    </tr>\n",
       "    <tr>\n",
       "      <th>4</th>\n",
       "      <td>5</td>\n",
       "      <td>43</td>\n",
       "      <td>abd</td>\n",
       "    </tr>\n",
       "    <tr>\n",
       "      <th>5</th>\n",
       "      <td>6</td>\n",
       "      <td>51</td>\n",
       "      <td>kohli</td>\n",
       "    </tr>\n",
       "    <tr>\n",
       "      <th>3</th>\n",
       "      <td>4</td>\n",
       "      <td>65</td>\n",
       "      <td>gayle</td>\n",
       "    </tr>\n",
       "    <tr>\n",
       "      <th>0</th>\n",
       "      <td>1</td>\n",
       "      <td>90</td>\n",
       "      <td>dhoni</td>\n",
       "    </tr>\n",
       "  </tbody>\n",
       "</table>\n",
       "</div>"
      ],
      "text/plain": [
       "   runs  score player\n",
       "2     3     23    abd\n",
       "1     2     43  kohli\n",
       "4     5     43    abd\n",
       "5     6     51  kohli\n",
       "3     4     65  gayle\n",
       "0     1     90  dhoni"
      ]
     },
     "execution_count": 89,
     "metadata": {},
     "output_type": "execute_result"
    }
   ],
   "source": [
    "df1.sort_values(\"score\")"
   ]
  },
  {
   "cell_type": "markdown",
   "id": "14320685",
   "metadata": {},
   "source": [
    "df1.groupby([\"player\"])[\"score\"].sum()"
   ]
  },
  {
   "cell_type": "code",
   "execution_count": 96,
   "id": "8118d137",
   "metadata": {},
   "outputs": [
    {
     "data": {
      "text/plain": [
       "player\n",
       "abd      66\n",
       "dhoni    90\n",
       "gayle    65\n",
       "kohli    94\n",
       "Name: score, dtype: int64"
      ]
     },
     "execution_count": 96,
     "metadata": {},
     "output_type": "execute_result"
    }
   ],
   "source": [
    "df1.groupby([\"player\"])[\"score\"].sum()"
   ]
  },
  {
   "cell_type": "code",
   "execution_count": 99,
   "id": "ec96c182",
   "metadata": {},
   "outputs": [],
   "source": [
    "#removes empty cells\n",
    "file.dropna(inplace=True)\n"
   ]
  },
  {
   "cell_type": "code",
   "execution_count": 100,
   "id": "b8fb115a",
   "metadata": {},
   "outputs": [],
   "source": [
    "#replaces empty cells with the value specified ie 130\n",
    "file.fillna(130, inplace = True)"
   ]
  },
  {
   "cell_type": "code",
   "execution_count": 3,
   "id": "0544ee7b",
   "metadata": {},
   "outputs": [
    {
     "ename": "NameError",
     "evalue": "name 'file' is not defined",
     "output_type": "error",
     "traceback": [
      "\u001b[0;31m---------------------------------------------------------------------------\u001b[0m",
      "\u001b[0;31mNameError\u001b[0m                                 Traceback (most recent call last)",
      "\u001b[0;32m<ipython-input-3-2672415ba3d7>\u001b[0m in \u001b[0;36m<module>\u001b[0;34m\u001b[0m\n\u001b[0;32m----> 1\u001b[0;31m \u001b[0;32mfor\u001b[0m \u001b[0mx\u001b[0m \u001b[0;32min\u001b[0m \u001b[0mfile\u001b[0m\u001b[0;34m.\u001b[0m\u001b[0mindex\u001b[0m\u001b[0;34m:\u001b[0m\u001b[0;34m\u001b[0m\u001b[0;34m\u001b[0m\u001b[0m\n\u001b[0m\u001b[1;32m      2\u001b[0m   \u001b[0;32mif\u001b[0m \u001b[0mfile\u001b[0m\u001b[0;34m.\u001b[0m\u001b[0mloc\u001b[0m\u001b[0;34m[\u001b[0m\u001b[0mx\u001b[0m\u001b[0;34m,\u001b[0m \u001b[0;34m\"Age\"\u001b[0m\u001b[0;34m]\u001b[0m \u001b[0;34m>\u001b[0m \u001b[0;36m30\u001b[0m\u001b[0;34m:\u001b[0m\u001b[0;34m\u001b[0m\u001b[0;34m\u001b[0m\u001b[0m\n\u001b[1;32m      3\u001b[0m     \u001b[0mfile\u001b[0m\u001b[0;34m.\u001b[0m\u001b[0mloc\u001b[0m\u001b[0;34m[\u001b[0m\u001b[0mx\u001b[0m\u001b[0;34m,\u001b[0m \u001b[0;34m\"Age\"\u001b[0m\u001b[0;34m]\u001b[0m \u001b[0;34m=\u001b[0m \u001b[0;36m30\u001b[0m\u001b[0;34m\u001b[0m\u001b[0;34m\u001b[0m\u001b[0m\n\u001b[1;32m      4\u001b[0m \u001b[0mfile\u001b[0m\u001b[0;34m.\u001b[0m\u001b[0mgroupby\u001b[0m\u001b[0;34m(\u001b[0m\u001b[0;34m'Age'\u001b[0m\u001b[0;34m)\u001b[0m\u001b[0;34m.\u001b[0m\u001b[0mmean\u001b[0m\u001b[0;34m(\u001b[0m\u001b[0;34m)\u001b[0m\u001b[0;34m\u001b[0m\u001b[0;34m\u001b[0m\u001b[0m\n",
      "\u001b[0;31mNameError\u001b[0m: name 'file' is not defined"
     ]
    }
   ],
   "source": [
    "for x in file.index:\n",
    "  if file.loc[x, \"Age\"] > 30:\n",
    "    file.loc[x, \"Age\"] = 30\n",
    "file.groupby('Age').mean()"
   ]
  },
  {
   "cell_type": "code",
   "execution_count": 106,
   "id": "bb1353b9",
   "metadata": {},
   "outputs": [
    {
     "name": "stdout",
     "output_type": "stream",
     "text": [
      "\n",
      "This value exists in Dataframe\n"
     ]
    }
   ],
   "source": [
    "if 'Aaron Brooks' in file.values :\n",
    "    print(\"\\nThis value exists in Dataframe\")\n",
    " \n",
    "else :\n",
    "    print(\"\\nThis value does not exists in Dataframe\")"
   ]
  },
  {
   "cell_type": "code",
   "execution_count": 6,
   "id": "23789a0c",
   "metadata": {},
   "outputs": [
    {
     "data": {
      "text/html": [
       "<div>\n",
       "<style scoped>\n",
       "    .dataframe tbody tr th:only-of-type {\n",
       "        vertical-align: middle;\n",
       "    }\n",
       "\n",
       "    .dataframe tbody tr th {\n",
       "        vertical-align: top;\n",
       "    }\n",
       "\n",
       "    .dataframe thead th {\n",
       "        text-align: right;\n",
       "    }\n",
       "</style>\n",
       "<table border=\"1\" class=\"dataframe\">\n",
       "  <thead>\n",
       "    <tr style=\"text-align: right;\">\n",
       "      <th></th>\n",
       "      <th>Name</th>\n",
       "      <th>Team</th>\n",
       "      <th>Number</th>\n",
       "      <th>Position</th>\n",
       "      <th>Age</th>\n",
       "      <th>Height</th>\n",
       "      <th>Weight</th>\n",
       "      <th>College</th>\n",
       "      <th>Salary</th>\n",
       "      <th>Age(int)</th>\n",
       "    </tr>\n",
       "  </thead>\n",
       "  <tbody>\n",
       "    <tr>\n",
       "      <th>0</th>\n",
       "      <td>Avery Bradley</td>\n",
       "      <td>Boston Celtics</td>\n",
       "      <td>0.0</td>\n",
       "      <td>PG</td>\n",
       "      <td>25.0</td>\n",
       "      <td>6-2</td>\n",
       "      <td>180.0</td>\n",
       "      <td>Texas</td>\n",
       "      <td>7730337.0</td>\n",
       "      <td>25</td>\n",
       "    </tr>\n",
       "    <tr>\n",
       "      <th>1</th>\n",
       "      <td>Jae Crowder</td>\n",
       "      <td>Boston Celtics</td>\n",
       "      <td>99.0</td>\n",
       "      <td>SF</td>\n",
       "      <td>25.0</td>\n",
       "      <td>6-6</td>\n",
       "      <td>235.0</td>\n",
       "      <td>Marquette</td>\n",
       "      <td>6796117.0</td>\n",
       "      <td>25</td>\n",
       "    </tr>\n",
       "    <tr>\n",
       "      <th>2</th>\n",
       "      <td>John Holland</td>\n",
       "      <td>Boston Celtics</td>\n",
       "      <td>30.0</td>\n",
       "      <td>SG</td>\n",
       "      <td>27.0</td>\n",
       "      <td>6-5</td>\n",
       "      <td>205.0</td>\n",
       "      <td>Boston University</td>\n",
       "      <td>NaN</td>\n",
       "      <td>27</td>\n",
       "    </tr>\n",
       "    <tr>\n",
       "      <th>3</th>\n",
       "      <td>R.J. Hunter</td>\n",
       "      <td>Boston Celtics</td>\n",
       "      <td>28.0</td>\n",
       "      <td>SG</td>\n",
       "      <td>22.0</td>\n",
       "      <td>6-5</td>\n",
       "      <td>185.0</td>\n",
       "      <td>Georgia State</td>\n",
       "      <td>1148640.0</td>\n",
       "      <td>22</td>\n",
       "    </tr>\n",
       "    <tr>\n",
       "      <th>4</th>\n",
       "      <td>Jonas Jerebko</td>\n",
       "      <td>Boston Celtics</td>\n",
       "      <td>8.0</td>\n",
       "      <td>PF</td>\n",
       "      <td>29.0</td>\n",
       "      <td>6-10</td>\n",
       "      <td>231.0</td>\n",
       "      <td>NaN</td>\n",
       "      <td>5000000.0</td>\n",
       "      <td>29</td>\n",
       "    </tr>\n",
       "    <tr>\n",
       "      <th>5</th>\n",
       "      <td>Amir Johnson</td>\n",
       "      <td>Boston Celtics</td>\n",
       "      <td>90.0</td>\n",
       "      <td>PF</td>\n",
       "      <td>29.0</td>\n",
       "      <td>6-9</td>\n",
       "      <td>240.0</td>\n",
       "      <td>NaN</td>\n",
       "      <td>12000000.0</td>\n",
       "      <td>29</td>\n",
       "    </tr>\n",
       "    <tr>\n",
       "      <th>6</th>\n",
       "      <td>Jordan Mickey</td>\n",
       "      <td>Boston Celtics</td>\n",
       "      <td>55.0</td>\n",
       "      <td>PF</td>\n",
       "      <td>21.0</td>\n",
       "      <td>6-8</td>\n",
       "      <td>235.0</td>\n",
       "      <td>LSU</td>\n",
       "      <td>1170960.0</td>\n",
       "      <td>21</td>\n",
       "    </tr>\n",
       "    <tr>\n",
       "      <th>7</th>\n",
       "      <td>Kelly Olynyk</td>\n",
       "      <td>Boston Celtics</td>\n",
       "      <td>41.0</td>\n",
       "      <td>C</td>\n",
       "      <td>25.0</td>\n",
       "      <td>7-0</td>\n",
       "      <td>238.0</td>\n",
       "      <td>Gonzaga</td>\n",
       "      <td>2165160.0</td>\n",
       "      <td>25</td>\n",
       "    </tr>\n",
       "    <tr>\n",
       "      <th>8</th>\n",
       "      <td>Terry Rozier</td>\n",
       "      <td>Boston Celtics</td>\n",
       "      <td>12.0</td>\n",
       "      <td>PG</td>\n",
       "      <td>22.0</td>\n",
       "      <td>6-2</td>\n",
       "      <td>190.0</td>\n",
       "      <td>Louisville</td>\n",
       "      <td>1824360.0</td>\n",
       "      <td>22</td>\n",
       "    </tr>\n",
       "    <tr>\n",
       "      <th>9</th>\n",
       "      <td>Marcus Smart</td>\n",
       "      <td>Boston Celtics</td>\n",
       "      <td>36.0</td>\n",
       "      <td>PG</td>\n",
       "      <td>22.0</td>\n",
       "      <td>6-4</td>\n",
       "      <td>220.0</td>\n",
       "      <td>Oklahoma State</td>\n",
       "      <td>3431040.0</td>\n",
       "      <td>22</td>\n",
       "    </tr>\n",
       "  </tbody>\n",
       "</table>\n",
       "</div>"
      ],
      "text/plain": [
       "            Name            Team  Number Position   Age Height  Weight  \\\n",
       "0  Avery Bradley  Boston Celtics     0.0       PG  25.0    6-2   180.0   \n",
       "1    Jae Crowder  Boston Celtics    99.0       SF  25.0    6-6   235.0   \n",
       "2   John Holland  Boston Celtics    30.0       SG  27.0    6-5   205.0   \n",
       "3    R.J. Hunter  Boston Celtics    28.0       SG  22.0    6-5   185.0   \n",
       "4  Jonas Jerebko  Boston Celtics     8.0       PF  29.0   6-10   231.0   \n",
       "5   Amir Johnson  Boston Celtics    90.0       PF  29.0    6-9   240.0   \n",
       "6  Jordan Mickey  Boston Celtics    55.0       PF  21.0    6-8   235.0   \n",
       "7   Kelly Olynyk  Boston Celtics    41.0        C  25.0    7-0   238.0   \n",
       "8   Terry Rozier  Boston Celtics    12.0       PG  22.0    6-2   190.0   \n",
       "9   Marcus Smart  Boston Celtics    36.0       PG  22.0    6-4   220.0   \n",
       "\n",
       "             College      Salary Age(int)  \n",
       "0              Texas   7730337.0       25  \n",
       "1          Marquette   6796117.0       25  \n",
       "2  Boston University         NaN       27  \n",
       "3      Georgia State   1148640.0       22  \n",
       "4                NaN   5000000.0       29  \n",
       "5                NaN  12000000.0       29  \n",
       "6                LSU   1170960.0       21  \n",
       "7            Gonzaga   2165160.0       25  \n",
       "8         Louisville   1824360.0       22  \n",
       "9     Oklahoma State   3431040.0       22  "
      ]
     },
     "execution_count": 6,
     "metadata": {},
     "output_type": "execute_result"
    }
   ],
   "source": [
    "\n",
    "file[\"Age\"]= file[\"Age\"].astype(str)\n",
    "start, stop, step = 0, -2, 1\n",
    "file[\"Age(int)\"]= file[\"Age\"].str.slice(start, stop, step)\n",
    "  \n",
    "file.head(10)"
   ]
  },
  {
   "cell_type": "code",
   "execution_count": null,
   "id": "7b3b1f84",
   "metadata": {},
   "outputs": [],
   "source": []
  }
 ],
 "metadata": {
  "kernelspec": {
   "display_name": "Python 3",
   "language": "python",
   "name": "python3"
  },
  "language_info": {
   "codemirror_mode": {
    "name": "ipython",
    "version": 3
   },
   "file_extension": ".py",
   "mimetype": "text/x-python",
   "name": "python",
   "nbconvert_exporter": "python",
   "pygments_lexer": "ipython3",
   "version": "3.8.8"
  }
 },
 "nbformat": 4,
 "nbformat_minor": 5
}
