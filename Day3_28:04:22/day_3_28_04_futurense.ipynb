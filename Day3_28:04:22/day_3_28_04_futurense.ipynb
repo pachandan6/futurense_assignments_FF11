{
 "cells": [
  {
   "cell_type": "code",
   "execution_count": 1,
   "id": "5a22e2fd",
   "metadata": {},
   "outputs": [
    {
     "ename": "TypeError",
     "evalue": "'str' object does not support item assignment",
     "output_type": "error",
     "traceback": [
      "\u001b[0;31m---------------------------------------------------------------------------\u001b[0m",
      "\u001b[0;31mTypeError\u001b[0m                                 Traceback (most recent call last)",
      "\u001b[0;32m<ipython-input-1-3348a43a29c8>\u001b[0m in \u001b[0;36m<module>\u001b[0;34m\u001b[0m\n\u001b[1;32m      1\u001b[0m \u001b[0;31m#Day 3\u001b[0m\u001b[0;34m\u001b[0m\u001b[0;34m\u001b[0m\u001b[0;34m\u001b[0m\u001b[0m\n\u001b[1;32m      2\u001b[0m \u001b[0mvar\u001b[0m\u001b[0;34m=\u001b[0m\u001b[0;34m\"dhoni\"\u001b[0m\u001b[0;34m\u001b[0m\u001b[0;34m\u001b[0m\u001b[0m\n\u001b[0;32m----> 3\u001b[0;31m \u001b[0mvar\u001b[0m\u001b[0;34m[\u001b[0m\u001b[0;36m0\u001b[0m\u001b[0;34m]\u001b[0m\u001b[0;34m=\u001b[0m\u001b[0;34m\"D\"\u001b[0m\u001b[0;34m\u001b[0m\u001b[0;34m\u001b[0m\u001b[0m\n\u001b[0m\u001b[1;32m      4\u001b[0m \u001b[0mprint\u001b[0m\u001b[0;34m(\u001b[0m\u001b[0mvar\u001b[0m\u001b[0;34m)\u001b[0m\u001b[0;34m\u001b[0m\u001b[0;34m\u001b[0m\u001b[0m\n",
      "\u001b[0;31mTypeError\u001b[0m: 'str' object does not support item assignment"
     ]
    }
   ],
   "source": [
    "#===============Day_3===============\n",
    "var=\"dhoni\"\n",
    "var[0]=\"D\"\n",
    "print(var)\n",
    "\n",
    "#throws an error because string is immutable\n"
   ]
  },
  {
   "cell_type": "code",
   "execution_count": 2,
   "id": "6f5c5ad5",
   "metadata": {},
   "outputs": [
    {
     "name": "stdout",
     "output_type": "stream",
     "text": [
      "Dhoni\n"
     ]
    }
   ],
   "source": [
    "#we can achieve the same using replace method\n",
    "#where the copy of the string is modified and updated\n",
    "\n",
    "new_var=\"dhoni\"\n",
    "output=new_var.replace(\"d\",\"D\")\n",
    "print(output)"
   ]
  },
  {
   "cell_type": "code",
   "execution_count": 8,
   "id": "909461fe",
   "metadata": {},
   "outputs": [
    {
     "name": "stdout",
     "output_type": "stream",
     "text": [
      "helooo\n",
      "hisndl\n",
      "sdfnsnflsn\n",
      "kjdsnfjnsd\n",
      "\n",
      "after using the escape character\n",
      "\n",
      "helooo hisndl sdfnsnflsn kjdsnfjnsd\n"
     ]
    }
   ],
   "source": [
    "#forward comapatibility\n",
    "#backward comapatibility\n",
    "#Pyhton memory management and allocation\n",
    "#places where 'else' keyword is used?\n",
    "#triple quotes in python\n",
    "\n",
    "\n",
    "#using escape charcter we can obtain multline string into single line\n",
    "var=\"\"\"helooo\n",
    "hisndl\n",
    "sdfnsnflsn\n",
    "kjdsnfjnsd\"\"\"\n",
    "print(var)\n",
    "print(\"\")\n",
    "print(\"after using the escape character\")\n",
    "print(\"\")\n",
    "var1=\"\"\"helooo \\\n",
    "hisndl \\\n",
    "sdfnsnflsn \\\n",
    "kjdsnfjnsd\"\"\"\n",
    "print(var1)"
   ]
  },
  {
   "cell_type": "code",
   "execution_count": 9,
   "id": "b26ff201",
   "metadata": {},
   "outputs": [
    {
     "name": "stdout",
     "output_type": "stream",
     "text": [
      "C:\n",
      "ewfolder\testing.txt\n"
     ]
    }
   ],
   "source": [
    "ver=\"C:\\newfolder\\testing.txt\"\n",
    "print(ver)"
   ]
  },
  {
   "cell_type": "code",
   "execution_count": 11,
   "id": "7b40c7c0",
   "metadata": {},
   "outputs": [
    {
     "name": "stdout",
     "output_type": "stream",
     "text": [
      "C:\\newfolder\\testing.txt\n"
     ]
    }
   ],
   "source": [
    "ver1=r\"C:\\newfolder\\testing.txt\" # here r means raw,it reads the string as it is\n",
    "print(ver1)"
   ]
  },
  {
   "cell_type": "code",
   "execution_count": 15,
   "id": "0231cb0b",
   "metadata": {},
   "outputs": [
    {
     "name": "stdout",
     "output_type": "stream",
     "text": [
      "['virat', 'rohit', 'rahul']\n",
      "['virat', 'rohit', 'rahul']\n"
     ]
    }
   ],
   "source": [
    "var=['virat','dhoni','rahul']\n",
    "var1=var      #shallow copy ---  the changes will reflect the original as well\n",
    "var1[1]='rohit'\n",
    "print(var)\n",
    "print(var1)"
   ]
  },
  {
   "cell_type": "code",
   "execution_count": 16,
   "id": "ac0ff341",
   "metadata": {},
   "outputs": [
    {
     "name": "stdout",
     "output_type": "stream",
     "text": [
      "['virat', 'dhoni', 'rahul']\n",
      "['virat', 'rohit', 'rahul']\n"
     ]
    }
   ],
   "source": [
    "var=['virat','dhoni','rahul']\n",
    "var1=var[:]     #deepcopy---  the changes will NOT reflect the original as well\n",
    "var1[1]='rohit'\n",
    "print(var)\n",
    "print(var1)"
   ]
  },
  {
   "cell_type": "code",
   "execution_count": 21,
   "id": "3bccb6ac",
   "metadata": {},
   "outputs": [
    {
     "name": "stdout",
     "output_type": "stream",
     "text": [
      "['virat', 'Chris', 'rahul']\n",
      "['virat', 'dhoni', 'rahul']\n",
      "\n",
      "['virat', 'ABD', 'rahul']\n",
      "['virat', 'dhoni', 'rahul']\n"
     ]
    }
   ],
   "source": [
    "from copy import copy, deepcopy\n",
    "var=['virat','dhoni','rahul']\n",
    "shallow_copied_var=copy(var)\n",
    "shallow_copied_var[1]='Chris'\n",
    "print(shallow_copied_var)\n",
    "print(var)\n",
    "print(\"\")\n",
    "\n",
    "deep_copied_var=deepcopy(var)\n",
    "deep_copied_var[1]='ABD'\n",
    "print(deep_copied_var)\n",
    "print(var)\n",
    "\n"
   ]
  },
  {
   "cell_type": "code",
   "execution_count": 30,
   "id": "56afbace",
   "metadata": {},
   "outputs": [
    {
     "name": "stdout",
     "output_type": "stream",
     "text": [
      "9\n",
      "9\n",
      "-1\n",
      "\n",
      "19\n",
      "19\n",
      "-1\n",
      "\n",
      "7\n",
      "7\n",
      "7\n"
     ]
    }
   ],
   "source": [
    "#=====================String funcs============ \n",
    "\n",
    "#find method returns -1 when it doesnt find the character\n",
    "#index method returns ERROR ,when it doesnt find the character\n",
    "\n",
    "#find method\n",
    "var=\"india is rich history\"\n",
    "print(var.find(\"r\"))\n",
    "print(var.find(\"r\",2))\n",
    "print(var.find(\"r\",2,5))\n",
    "print(\"\")\n",
    "\n",
    "#rfind method\n",
    "var1=\"india is rich history\"\n",
    "print(var1.rfind(\"r\"))\n",
    "print(var1.rfind(\"r\",2))\n",
    "print(var1.rfind(\"r\",2,5))\n",
    "print(\"\")\n",
    "\n",
    "#index method\n",
    "var2=\"india is rich history\"\n",
    "print(var2.index(\"s\"))\n",
    "print(var2.index(\"s\",2))\n",
    "print(var2.index(\"s\",2,10))\n"
   ]
  },
  {
   "cell_type": "code",
   "execution_count": 31,
   "id": "18aacb90",
   "metadata": {},
   "outputs": [
    {
     "name": "stdout",
     "output_type": "stream",
     "text": [
      "['i', 'n', 'd', 'i', 'a', ' ', 'i', 's', ' ', 'r', 'i', 'c', 'h', ' ', 'h', 'i', 's', 't', 'o', 'r', 'y']\n"
     ]
    }
   ],
   "source": [
    "var=\"india is rich history\"\n",
    "output=list(var)\n",
    "print(output)"
   ]
  },
  {
   "cell_type": "code",
   "execution_count": 37,
   "id": "2cd98b87",
   "metadata": {},
   "outputs": [
    {
     "name": "stdout",
     "output_type": "stream",
     "text": [
      "['india', 'is', 'rich', 'history']\n"
     ]
    }
   ],
   "source": [
    "var=\"india is rich history\"\n",
    "out=var.split()\n",
    "print(out)"
   ]
  },
  {
   "cell_type": "code",
   "execution_count": 38,
   "id": "e9ca2aa3",
   "metadata": {},
   "outputs": [
    {
     "name": "stdout",
     "output_type": "stream",
     "text": [
      "['', 'nd', 'a ', 's r', 'ch h', 'story']\n"
     ]
    }
   ],
   "source": [
    "var=\"india is rich history\"\n",
    "out=var.split(\"i\")\n",
    "print(out)"
   ]
  },
  {
   "cell_type": "code",
   "execution_count": 39,
   "id": "917c5c29",
   "metadata": {},
   "outputs": [
    {
     "name": "stdout",
     "output_type": "stream",
     "text": [
      "['', 'nd', 'a is rich history']\n"
     ]
    }
   ],
   "source": [
    "var=\"india is rich history\"\n",
    "out=var.split(\"i\",2)  #it performs split only 2 times from the LEFT side\n",
    "print(out)"
   ]
  },
  {
   "cell_type": "code",
   "execution_count": 40,
   "id": "e03c78f7",
   "metadata": {},
   "outputs": [
    {
     "name": "stdout",
     "output_type": "stream",
     "text": [
      "['india is r', 'ch h', 'story']\n"
     ]
    }
   ],
   "source": [
    "var=\"india is rich history\"\n",
    "out=var.rsplit(\"i\",2)  #it performs split only 2 times from the RIGHT side\n",
    "print(out)"
   ]
  },
  {
   "cell_type": "code",
   "execution_count": 47,
   "id": "803b696e",
   "metadata": {},
   "outputs": [
    {
     "name": "stdout",
     "output_type": "stream",
     "text": [
      "('     ', 'i', 'ndia is rich history    ')\n"
     ]
    }
   ],
   "source": [
    "\n",
    "#=====partition() method\n",
    "\"\"\"The partition() method searches for a specified string, and splits the string into a tuple containing three elements.\n",
    "\n",
    "The first element contains the part before the specified string.\n",
    "\n",
    "The second element contains the specified string.\n",
    "\n",
    "The third element contains the part after the string.\n",
    "\"\"\"\n",
    "\n",
    "\n",
    "\n",
    "var=\"india is rich history    \"\n",
    "out=var.partition(\"i\")  \n",
    "print(out)"
   ]
  },
  {
   "cell_type": "code",
   "execution_count": 52,
   "id": "3620b0bc",
   "metadata": {},
   "outputs": [
    {
     "name": "stdout",
     "output_type": "stream",
     "text": [
      "23\n",
      "21\n"
     ]
    }
   ],
   "source": [
    "\n",
    "\n",
    "#=====Strip method=====\n",
    "\n",
    "var=\"  india is rich history\"\n",
    "print(len(var))\n",
    "out=var.strip()\n",
    "print(len(out))"
   ]
  },
  {
   "cell_type": "code",
   "execution_count": 54,
   "id": "6b7dfef8",
   "metadata": {},
   "outputs": [
    {
     "name": "stdout",
     "output_type": "stream",
     "text": [
      "21\n",
      "20\n"
     ]
    }
   ],
   "source": [
    "var=\"india is rich history\"\n",
    "print(len(var))\n",
    "out=var.strip(\"i\")\n",
    "print(len(out))"
   ]
  },
  {
   "cell_type": "code",
   "execution_count": 57,
   "id": "31fcc78d",
   "metadata": {},
   "outputs": [
    {
     "name": "stdout",
     "output_type": "stream",
     "text": [
      "25\n",
      "20\n"
     ]
    }
   ],
   "source": [
    "var=\"* !india is rich historyi\"\n",
    "print(len(var))\n",
    "out=var.strip(\"!i *\")\n",
    "print(len(out))"
   ]
  },
  {
   "cell_type": "code",
   "execution_count": 61,
   "id": "623d95a1",
   "metadata": {},
   "outputs": [
    {
     "name": "stdout",
     "output_type": "stream",
     "text": [
      "['b', 'c', 'e']\n"
     ]
    }
   ],
   "source": [
    "var=[\"a\",\"b\",\"c\",\"d\",\"e\"]\n",
    "#to remove the elements in even place\n",
    "#enumerate to get data with index\n",
    "for x,y in enumerate(var):\n",
    "    if x%2==0:\n",
    "        var.remove(y)\n",
    "print(var) \n",
    "\n",
    "#['b', 'c', 'e'] is not the desired result because the list is mutable\n",
    "#>once the first element is removed,the second element will occupy the firsts space\n"
   ]
  },
  {
   "cell_type": "code",
   "execution_count": 62,
   "id": "cd646163",
   "metadata": {},
   "outputs": [
    {
     "name": "stdout",
     "output_type": "stream",
     "text": [
      "['b', 'd']\n"
     ]
    }
   ],
   "source": [
    "#so we take copy of the list\n",
    "var=[\"a\",\"b\",\"c\",\"d\",\"e\"]\n",
    "#enumerate to get data with index\n",
    "for x,y in enumerate(var[:]):\n",
    "    if x%2==0:\n",
    "        var.remove(y)\n",
    "print(var)   "
   ]
  },
  {
   "cell_type": "code",
   "execution_count": 64,
   "id": "871e1f51",
   "metadata": {},
   "outputs": [
    {
     "ename": "KeyboardInterrupt",
     "evalue": "",
     "output_type": "error",
     "traceback": [
      "\u001b[0;31m---------------------------------------------------------------------------\u001b[0m",
      "\u001b[0;31mKeyboardInterrupt\u001b[0m                         Traceback (most recent call last)",
      "\u001b[0;32m<ipython-input-64-13e8882ac615>\u001b[0m in \u001b[0;36m<module>\u001b[0;34m\u001b[0m\n\u001b[0;32m----> 1\u001b[0;31m \u001b[0mvar\u001b[0m\u001b[0;34m=\u001b[0m\u001b[0;34m[\u001b[0m\u001b[0;34m\"a\"\u001b[0m\u001b[0;34m,\u001b[0m\u001b[0;34m\"b\"\u001b[0m\u001b[0;34m,\u001b[0m\u001b[0;34m\"c\"\u001b[0m\u001b[0;34m,\u001b[0m\u001b[0;34m\"d\"\u001b[0m\u001b[0;34m,\u001b[0m\u001b[0;34m\"e\"\u001b[0m\u001b[0;34m]\u001b[0m\u001b[0;34m\u001b[0m\u001b[0;34m\u001b[0m\u001b[0m\n\u001b[0m\u001b[1;32m      2\u001b[0m \u001b[0;32mfor\u001b[0m \u001b[0mx\u001b[0m \u001b[0;32min\u001b[0m \u001b[0mvar\u001b[0m\u001b[0;34m[\u001b[0m\u001b[0;34m:\u001b[0m\u001b[0;34m]\u001b[0m\u001b[0;34m:\u001b[0m\u001b[0;34m\u001b[0m\u001b[0;34m\u001b[0m\u001b[0m\n\u001b[1;32m      3\u001b[0m     \u001b[0mdata\u001b[0m\u001b[0;34m=\u001b[0m\u001b[0mx\u001b[0m\u001b[0;34m.\u001b[0m\u001b[0mupper\u001b[0m\u001b[0;34m(\u001b[0m\u001b[0;34m)\u001b[0m\u001b[0;34m\u001b[0m\u001b[0;34m\u001b[0m\u001b[0m\n\u001b[1;32m      4\u001b[0m     \u001b[0mvar\u001b[0m\u001b[0;34m.\u001b[0m\u001b[0mappend\u001b[0m\u001b[0;34m(\u001b[0m\u001b[0mdata\u001b[0m\u001b[0;34m)\u001b[0m\u001b[0;34m\u001b[0m\u001b[0;34m\u001b[0m\u001b[0m\n\u001b[1;32m      5\u001b[0m \u001b[0mprint\u001b[0m\u001b[0;34m(\u001b[0m\u001b[0mvar\u001b[0m\u001b[0;34m)\u001b[0m\u001b[0;34m\u001b[0m\u001b[0;34m\u001b[0m\u001b[0m\n",
      "\u001b[0;31mKeyboardInterrupt\u001b[0m: "
     ]
    }
   ],
   "source": [
    "var=[\"a\",\"b\",\"c\",\"d\",\"e\"]\n",
    "for x in var[:]:\n",
    "    data=x.upper()\n",
    "    var.append(data)\n",
    "#print(var)"
   ]
  },
  {
   "cell_type": "code",
   "execution_count": null,
   "id": "2b20959f",
   "metadata": {},
   "outputs": [],
   "source": [
    "#---------Assignment-------\n",
    "#1:- take 2 txt files ,comapre and check whether both files have same content or not \n",
    "#Note:-ignore the white space\n",
    "#if not ,Highligt the line which doesnt match and store it in another text file"
   ]
  }
 ],
 "metadata": {
  "kernelspec": {
   "display_name": "Python 3",
   "language": "python",
   "name": "python3"
  },
  "language_info": {
   "codemirror_mode": {
    "name": "ipython",
    "version": 3
   },
   "file_extension": ".py",
   "mimetype": "text/x-python",
   "name": "python",
   "nbconvert_exporter": "python",
   "pygments_lexer": "ipython3",
   "version": "3.8.8"
  }
 },
 "nbformat": 4,
 "nbformat_minor": 5
}
