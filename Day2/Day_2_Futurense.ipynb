{
 "cells": [
  {
   "cell_type": "code",
   "execution_count": 4,
   "id": "49c64d4b",
   "metadata": {},
   "outputs": [
    {
     "name": "stdout",
     "output_type": "stream",
     "text": [
      "[1, 4, 9]\n"
     ]
    }
   ],
   "source": [
    "var=[1,2,3]\n",
    "def double(arg):\n",
    "    return arg*arg\n",
    "output=list(map(double,var))\n",
    "print(output)"
   ]
  },
  {
   "cell_type": "code",
   "execution_count": 17,
   "id": "d8389b90",
   "metadata": {},
   "outputs": [
    {
     "name": "stdout",
     "output_type": "stream",
     "text": [
      "b'python is the best'\n",
      "da39a3ee5e6b4b0d3255bfef95601890afd80709\n"
     ]
    }
   ],
   "source": [
    "#encryption of data\n",
    "\n",
    "import hashlib\n",
    "hash_func=hashlib.sha1()\n",
    "string=\"python is the best\"\n",
    "encoded_string=string.encode()\n",
    "print(encoded_string)\n",
    "message=hash_func.hexdigest()\n",
    "print(message)"
   ]
  },
  {
   "cell_type": "code",
   "execution_count": 15,
   "id": "a480ef9a",
   "metadata": {},
   "outputs": [
    {
     "data": {
      "text/plain": [
       "(221,\n",
       " b'2.0.0 closing connection k14-20020aa7820e000000b004f7134a70cdsm17119553pfi.61 - gsmtp')"
      ]
     },
     "execution_count": 15,
     "metadata": {},
     "output_type": "execute_result"
    }
   ],
   "source": [
    "# Python code to illustrate Sending mail from\n",
    "# your Gmail account\n",
    "import smtplib\n",
    "\n",
    "# creates SMTP session\n",
    "s = smtplib.SMTP('smtp.gmail.com', 587)\n",
    "\n",
    "# start TLS for security\n",
    "s.starttls()\n",
    "\n",
    "# Authentication\n",
    "s.login(\"pachandan6@gmail.com\", \"chandrashekar\")\n",
    "\n",
    "# message to be sent\n",
    "message = \"hello pankajjjjj\"\n",
    "\n",
    "# sending the mail\n",
    "s.sendmail(\"pachandan6@gmail.com\", \"pankajsinghchamyal569@gmail.com\", message)\n",
    "\n",
    "# terminating the session\n",
    "s.quit()\n"
   ]
  },
  {
   "cell_type": "code",
   "execution_count": 24,
   "id": "3b639791",
   "metadata": {},
   "outputs": [
    {
     "name": "stdout",
     "output_type": "stream",
     "text": [
      "['Day_2_Futurense.ipynb', 'hello.pdf', '.ipynb_checkpoints']\n",
      "Mail Sent\n"
     ]
    }
   ],
   "source": [
    "import smtplib\n",
    "from email.mime.multipart import MIMEMultipart\n",
    "from email.mime.text import MIMEText\n",
    "from email.mime.base import MIMEBase\n",
    "from email import encoders\n",
    "\n",
    " \n",
    "body = '''here \n",
    "is your pdf\n",
    "'''\n",
    "# put your email here\n",
    "sender = 'pachandan6@gmail.com'\n",
    "# get the password in the gmail (manage your google account, click on the avatar on the right)\n",
    "# then go to security (right) and app password (center)\n",
    "# insert the password and then choose mail and this computer and then generate\n",
    "# copy the password generated here\n",
    "password = 'chandrashekar'\n",
    "# put the email of the receiver here\n",
    "receiver = 'raksha3991@gmail.com'\n",
    " \n",
    "#Setup the MIME\n",
    "message = MIMEMultipart()\n",
    "message['From'] = sender\n",
    "message['To'] = receiver\n",
    "message['Subject'] = 'This email has an attacment, a pdf file'\n",
    " \n",
    "message.attach(MIMEText(body, 'plain'))\n",
    " \n",
    "pdfname = 'hello.pdf'\n",
    " \n",
    "# open the file in bynary\n",
    "binary_pdf = open(pdfname, 'rb')\n",
    " \n",
    "payload = MIMEBase('application', 'octate-stream', Name=pdfname)\n",
    "# payload = MIMEBase('application', 'pdf', Name=pdfname)\n",
    "payload.set_payload((binary_pdf).read())\n",
    " \n",
    "# enconding the binary into base64\n",
    "encoders.encode_base64(payload)\n",
    " \n",
    "# add header with pdf name\n",
    "payload.add_header('Content-Decomposition', 'attachment', filename=pdfname)\n",
    "message.attach(payload)\n",
    " \n",
    "#use gmail with port\n",
    "session = smtplib.SMTP('smtp.gmail.com', 587)\n",
    " \n",
    "#enable security\n",
    "session.starttls()\n",
    " \n",
    "#login with mail_id and password\n",
    "session.login(sender, password)\n",
    " \n",
    "text = message.as_string()\n",
    "session.sendmail(sender, receiver, text)\n",
    "session.quit()\n",
    "print('Mail Sent')"
   ]
  },
  {
   "cell_type": "code",
   "execution_count": null,
   "id": "9eb1b0c3",
   "metadata": {},
   "outputs": [],
   "source": []
  },
  {
   "cell_type": "code",
   "execution_count": null,
   "id": "254117ff",
   "metadata": {},
   "outputs": [],
   "source": []
  }
 ],
 "metadata": {
  "kernelspec": {
   "display_name": "Python 3",
   "language": "python",
   "name": "python3"
  },
  "language_info": {
   "codemirror_mode": {
    "name": "ipython",
    "version": 3
   },
   "file_extension": ".py",
   "mimetype": "text/x-python",
   "name": "python",
   "nbconvert_exporter": "python",
   "pygments_lexer": "ipython3",
   "version": "3.8.8"
  }
 },
 "nbformat": 4,
 "nbformat_minor": 5
}
