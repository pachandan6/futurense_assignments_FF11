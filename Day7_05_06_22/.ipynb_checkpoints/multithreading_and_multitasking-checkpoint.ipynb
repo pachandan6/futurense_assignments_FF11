{
 "cells": [
  {
   "cell_type": "code",
   "execution_count": 9,
   "id": "2abd9bc7",
   "metadata": {},
   "outputs": [
    {
     "name": "stdout",
     "output_type": "stream",
     "text": [
      "Done!\n"
     ]
    }
   ],
   "source": [
    "# importing the multiprocessing module\n",
    "import multiprocessing\n",
    "\n",
    "def print_cube(num):\n",
    "    print(\"hello\")\n",
    "    print(\"Cube: {}\".format(num * num * num))\n",
    "\n",
    "\n",
    "def print_square(num):\n",
    "    print(\"Square: {}\".format(num * num))\n",
    "\n",
    "if __name__ == \"__main__\":\n",
    "\n",
    "\tp1 = multiprocessing.Process(target=print_square, args=(10,))\n",
    "\tp2 = multiprocessing.Process(target=print_cube, args=(10,))\n",
    "\n",
    "\t# starting process 1\n",
    "\tp1.start()\n",
    "\t# starting process 2\n",
    "\tp2.start()\n",
    "\n",
    "\t# wait until process 1 is finished\n",
    "\tp1.join()\n",
    "\t# wait until process 2 is finished\n",
    "\tp2.join()\n",
    "\n",
    "\t# both processes finished\n",
    "\tprint(\"Done!\")\n"
   ]
  },
  {
   "cell_type": "code",
   "execution_count": null,
   "id": "0dbd9fc4",
   "metadata": {},
   "outputs": [],
   "source": []
  }
 ],
 "metadata": {
  "kernelspec": {
   "display_name": "Python 3",
   "language": "python",
   "name": "python3"
  },
  "language_info": {
   "codemirror_mode": {
    "name": "ipython",
    "version": 3
   },
   "file_extension": ".py",
   "mimetype": "text/x-python",
   "name": "python",
   "nbconvert_exporter": "python",
   "pygments_lexer": "ipython3",
   "version": "3.8.8"
  }
 },
 "nbformat": 4,
 "nbformat_minor": 5
}
