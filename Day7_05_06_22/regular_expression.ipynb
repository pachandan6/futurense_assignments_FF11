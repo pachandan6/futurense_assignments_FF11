{
 "cells": [
  {
   "cell_type": "code",
   "execution_count": 1,
   "id": "9c0c473a",
   "metadata": {},
   "outputs": [
    {
     "name": "stdout",
     "output_type": "stream",
     "text": [
      "kohli\n",
      "kohli\n",
      "(0, 5)\n",
      "0\n",
      "5\n"
     ]
    }
   ],
   "source": [
    "import re\n",
    "var=\"kohli is better than dhoni\"\n",
    "data=re.match(\"kohli\",var) # match is used only to search the first word\n",
    "print(data.group())\n",
    "\n",
    "print(data.group())\n",
    "print(data.span())\n",
    "print(data.start())  # to get the starting position\n",
    "print(data.end())    ## to get the ending position"
   ]
  },
  {
   "cell_type": "code",
   "execution_count": 2,
   "id": "2aca308e",
   "metadata": {},
   "outputs": [
    {
     "name": "stdout",
     "output_type": "stream",
     "text": [
      "is\n",
      "6\n",
      "8\n",
      "(6, 8)\n"
     ]
    }
   ],
   "source": [
    "data1=re.search(\"is\",var,re.I) #search is used to search any word in the sentence\n",
    "print(data1.group())\n",
    "print(data1.start())  # to get the starting position\n",
    "print(data1.end())    # to get the ending position\n",
    "print(data1.span())   # to get the position of the match"
   ]
  },
  {
   "cell_type": "code",
   "execution_count": 3,
   "id": "56daecb3",
   "metadata": {},
   "outputs": [
    {
     "name": "stdout",
     "output_type": "stream",
     "text": [
      "<re.Match object; span=(28, 32), match='they'>\n"
     ]
    }
   ],
   "source": [
    "var1=\"\"\"is better than dhoni \n",
    "kohli they both play for india\n",
    "they both are kohli excellent players\"\"\"\n",
    "data2=re.search(\"they\",var1,re.M)\n",
    "print(data2)"
   ]
  },
  {
   "cell_type": "code",
   "execution_count": 4,
   "id": "7030b566",
   "metadata": {},
   "outputs": [
    {
     "name": "stdout",
     "output_type": "stream",
     "text": [
      "<html><body><head></body>\n"
     ]
    }
   ],
   "source": [
    "var3=\"<html><body><head></body>\"\n",
    "data3=re.search(\"<.*>\",var3,re.I)  # greedy search or the deepest search\n",
    "print(data3.group())"
   ]
  },
  {
   "cell_type": "code",
   "execution_count": 5,
   "id": "e3399a60",
   "metadata": {},
   "outputs": [
    {
     "name": "stdout",
     "output_type": "stream",
     "text": [
      "<html>\n"
     ]
    }
   ],
   "source": [
    "var4=\"<html><body><head></body>\"\n",
    "data4=re.search(\"<.*?>\",var4,re.I) # non greedy search\n",
    "print(data4.group())"
   ]
  },
  {
   "cell_type": "code",
   "execution_count": 6,
   "id": "b302c2cc",
   "metadata": {},
   "outputs": [
    {
     "name": "stdout",
     "output_type": "stream",
     "text": [
      "kohli is better than dhoni\n",
      "kohli\n",
      "better than\n",
      "dhoni\n"
     ]
    }
   ],
   "source": [
    "var5=\"kohli is better than dhoni\"\n",
    "data5=re.search(\"(.*) is (.*) (.*)\",var5)\n",
    "print(data5.group())\n",
    "print(data5.group(1))\n",
    "print(data5.group(2))\n",
    "print(data5.group(3))"
   ]
  },
  {
   "cell_type": "code",
   "execution_count": 9,
   "id": "fa5c457d",
   "metadata": {},
   "outputs": [
    {
     "name": "stdout",
     "output_type": "stream",
     "text": [
      "['183', '200']\n"
     ]
    }
   ],
   "source": [
    "var=\"DHONI scored 183 against Srillanka @2009 with 7.5 average per over!!! \"\n",
    "data=re.findall(\"\\d{3}\",var)\n",
    "print(data)"
   ]
  },
  {
   "cell_type": "code",
   "execution_count": 10,
   "id": "9b5968fd",
   "metadata": {},
   "outputs": [
    {
     "name": "stdout",
     "output_type": "stream",
     "text": [
      "['DHO', 'NI ', 'sco', 'red', ' ag', 'ain', 'st ', 'Sri', 'lla', 'nka', ' wi', 'th ', ' av', 'era', 'ge ', 'per', ' ov', 'er!', '!! ']\n"
     ]
    }
   ],
   "source": [
    "var=\"DHONI scored 183 against Srillanka @2009 with 7.5 average per over!!! \"\n",
    "data=re.findall(\"\\D{3}\",var)\n",
    "print(data)"
   ]
  },
  {
   "cell_type": "code",
   "execution_count": 11,
   "id": "94f094c0",
   "metadata": {},
   "outputs": [
    {
     "name": "stdout",
     "output_type": "stream",
     "text": [
      "['D', 'H', 'O', 'N', 'I', 's', 'c', 'o', 'r', 'e', 'd', '1', '8', '3', 'a', 'g', 'a', 'i', 'n', 's', 't', 'S', 'r', 'i', 'l', 'l', 'a', 'n', 'k', 'a', '2', '0', '0', '9', 'w', 'i', 't', 'h', '7', '5', 'a', 'v', 'e', 'r', 'a', 'g', 'e', 'p', 'e', 'r', 'o', 'v', 'e', 'r']\n"
     ]
    }
   ],
   "source": [
    "var=\"DHONI scored 183 against Srillanka @2009 with 7.5 average per over!!! \"\n",
    "data=re.findall(\"\\w\",var) #non speacial characters\n",
    "print(data)"
   ]
  },
  {
   "cell_type": "code",
   "execution_count": 12,
   "id": "e678161b",
   "metadata": {},
   "outputs": [
    {
     "name": "stdout",
     "output_type": "stream",
     "text": [
      "['DHONI', '', 'scored', '', '183', '', 'against', '', 'Srillanka', '', '', '2009', '', 'with', '', '7', '', '5', '', 'average', '', 'per', '', 'over', '', '', '', '', '']\n"
     ]
    }
   ],
   "source": [
    "var=\"DHONI scored 183 against Srillanka @2009 with 7.5 average per over!!! \"\n",
    "data=re.findall(\"\\w*\",var)\n",
    "print(data)"
   ]
  },
  {
   "cell_type": "code",
   "execution_count": 13,
   "id": "574c1797",
   "metadata": {},
   "outputs": [
    {
     "name": "stdout",
     "output_type": "stream",
     "text": [
      "['DHONI', 'scored', '183', 'against', 'Srillanka', '2009', 'with', '7', '5', 'average', 'per', 'over']\n"
     ]
    }
   ],
   "source": [
    "var=\"DHONI scored 183 against Srillanka @2009 with 7.5 average per over!!! \"\n",
    "data=re.findall(\"\\w+\",var)\n",
    "print(data)"
   ]
  },
  {
   "cell_type": "code",
   "execution_count": 14,
   "id": "fc2da34b",
   "metadata": {},
   "outputs": [
    {
     "name": "stdout",
     "output_type": "stream",
     "text": [
      "[' ', ' ', ' ', ' ', ' ', '@', ' ', ' ', '.', ' ', ' ', ' ', '!', '!', '!', ' ']\n"
     ]
    }
   ],
   "source": [
    "var=\"DHONI scored 183 against Srillanka @2009 with 7.5 average per over!!! \"\n",
    "data=re.findall(\"\\W\",var) #speacial characters\n",
    "print(data)"
   ]
  },
  {
   "cell_type": "code",
   "execution_count": 15,
   "id": "62b84dde",
   "metadata": {},
   "outputs": [
    {
     "name": "stdout",
     "output_type": "stream",
     "text": [
      "['', '', '', '', '', ' ', '', '', '', '', '', '', ' ', '', '', '', ' ', '', '', '', '', '', '', '', ' ', '', '', '', '', '', '', '', '', '', ' @', '', '', '', '', ' ', '', '', '', '', ' ', '', '.', '', ' ', '', '', '', '', '', '', '', ' ', '', '', '', ' ', '', '', '', '', '!!! ', '']\n"
     ]
    }
   ],
   "source": [
    "var=\"DHONI scored 183 against Srillanka @2009 with 7.5 average per over!!! \"\n",
    "data=re.findall(\"\\W*\",var)\n",
    "print(data)"
   ]
  },
  {
   "cell_type": "code",
   "execution_count": 16,
   "id": "d1eb6409",
   "metadata": {},
   "outputs": [
    {
     "name": "stdout",
     "output_type": "stream",
     "text": [
      "[' ', ' ', ' ', ' ', ' @', ' ', ' ', '.', ' ', ' ', ' ', '!!! ']\n"
     ]
    }
   ],
   "source": [
    "var=\"DHONI scored 183 against Srillanka @2009 with 7.5 average per over!!! \"\n",
    "data=re.findall(\"\\W+\",var)\n",
    "print(data)"
   ]
  },
  {
   "cell_type": "code",
   "execution_count": 17,
   "id": "cb9b6489",
   "metadata": {},
   "outputs": [
    {
     "name": "stdout",
     "output_type": "stream",
     "text": [
      "['D', 'H', 'O', 'N', 'I', 's', 'c', 'o', 'r', 'e', 'd', '1', '8', '3', 'a', 'g', 'a', 'i', 'n', 's', 't', 'S', 'r', 'i', 'l', 'l', 'a', 'n', 'k', 'a', '@', '2', '0', '0', '9', 'w', 'i', 't', 'h', '7', '.', '5', 'a', 'v', 'e', 'r', 'a', 'g', 'e', 'p', 'e', 'r', 'o', 'v', 'e', 'r', '!', '!', '!']\n"
     ]
    }
   ],
   "source": [
    "var=\"DHONI scored 183 against Srillanka @2009 with 7.5 average per over!!! \"\n",
    "data=re.findall(\"\\S\",var)\n",
    "print(data)"
   ]
  },
  {
   "cell_type": "code",
   "execution_count": 20,
   "id": "e4c6ed2e",
   "metadata": {},
   "outputs": [
    {
     "name": "stdout",
     "output_type": "stream",
     "text": [
      "[' ', ' ', ' ', ' ', ' ', ' ', ' ', ' ', ' ', ' ', ' ']\n"
     ]
    }
   ],
   "source": [
    "var=\"DHONI scored 183 against Srillanka @2009 with 7.5 average per over!!! \"\n",
    "data=re.findall(\"\\s\",var)\n",
    "print(data)"
   ]
  },
  {
   "cell_type": "code",
   "execution_count": 27,
   "id": "2c2dd73a",
   "metadata": {},
   "outputs": [
    {
     "name": "stdout",
     "output_type": "stream",
     "text": [
      "one\n",
      "Thu May  5 10:51:49 2022\n",
      "two\n",
      "Thu May  5 10:51:49 2022\n"
     ]
    }
   ],
   "source": [
    "#Multithreading\n",
    "import time\n",
    "import threading\n",
    "def fun():\n",
    "    print(\"one\")\n",
    "    print(time.ctime())\n",
    "    \n",
    "def fun1():\n",
    "    print(\"two\")\n",
    "    print(time.ctime())\n",
    "    \n",
    "fun()\n",
    "fun1()"
   ]
  },
  {
   "cell_type": "code",
   "execution_count": 37,
   "id": "18b12350",
   "metadata": {},
   "outputs": [
    {
     "name": "stdout",
     "output_type": "stream",
     "text": [
      "onetwo\n",
      "Thu May  5 10:52:38 2022\n",
      "\n",
      "Thu May  5 10:52:38 2022\n"
     ]
    }
   ],
   "source": [
    "import time\n",
    "import threading\n",
    "def fun():\n",
    "    print(\"one\")\n",
    "    print(time.ctime())\n",
    "    \n",
    "def fun1():\n",
    "    print(\"two\")\n",
    "    print(time.ctime())\n",
    "    \n",
    "t1=threading.Thread(target=fun)\n",
    "t2=threading.Thread(target=fun1)\n",
    "t1.start()\n",
    "t2.start()"
   ]
  },
  {
   "cell_type": "code",
   "execution_count": 41,
   "id": "a790ee04",
   "metadata": {},
   "outputs": [
    {
     "name": "stdout",
     "output_type": "stream",
     "text": [
      "dhonikohli\n",
      "Thu May  5 10:55:54 2022\n",
      "\n",
      "Thu May  5 10:55:54 2022\n"
     ]
    }
   ],
   "source": [
    "import time\n",
    "import threading\n",
    "def fun(name):\n",
    "    print(name)\n",
    "    print(time.ctime())\n",
    "    time.sleep(2)\n",
    "def fun1(name):\n",
    "    print(name)\n",
    "    print(time.ctime())\n",
    "    \n",
    "t1=threading.Thread(target=fun,args=(\"dhoni\",))\n",
    "t2=threading.Thread(target=fun1,args=(\"kohli\",))\n",
    "t1.start()\n",
    "t2.start()"
   ]
  },
  {
   "cell_type": "code",
   "execution_count": 45,
   "id": "e97ef8af",
   "metadata": {},
   "outputs": [
    {
     "name": "stdout",
     "output_type": "stream",
     "text": [
      "dhonikohli\n",
      "Thu May  5 11:03:34 2022\n",
      "\n",
      "Thu May  5 11:03:34 2022\n"
     ]
    }
   ],
   "source": [
    "import time\n",
    "import threading\n",
    "def fun(name):\n",
    "    print(name)\n",
    "    print(time.ctime())\n",
    "    time.sleep(2)\n",
    "def fun1(name):\n",
    "    print(name)\n",
    "    print(time.ctime())\n",
    "    \n",
    "t1=threading.Thread(target=fun,args=(\"dhoni\",))\n",
    "t2=threading.Thread(target=fun1,args=(\"kohli\",))\n",
    "t1.start()\n",
    "t2.start()\n",
    "\"\"\"\n",
    "join() method is an inbuilt method of the Thread class of the threading module in Python. \n",
    "Whenever this method is called for any Thread object, \n",
    "it blocks the calling thread till the time the thread whose join() method is called terminates, \n",
    "either normally or through an unhandled exception.\n",
    "\"\"\"\n",
    "t1.join()\n",
    "t2.join()"
   ]
  },
  {
   "cell_type": "code",
   "execution_count": 47,
   "id": "dd9d0c1d",
   "metadata": {},
   "outputs": [
    {
     "name": "stdout",
     "output_type": "stream",
     "text": [
      "dhonikohli\n",
      "Thu May  5 11:29:27 2022\n",
      "\n",
      "Thu May  5 11:29:27 2022\n",
      "dhoni\n",
      "Thu May  5 11:29:29 2022\n",
      "kohli\n",
      "Thu May  5 11:29:31 2022\n",
      "dhoni\n",
      "Thu May  5 11:29:31 2022\n",
      "dhoni\n",
      "Thu May  5 11:29:33 2022\n",
      "kohli\n",
      "Thu May  5 11:29:35 2022\n",
      "dhoni\n",
      "Thu May  5 11:29:35 2022\n",
      "kohli\n",
      "Thu May  5 11:29:39 2022\n",
      "kohli\n",
      "Thu May  5 11:29:43 2022\n"
     ]
    }
   ],
   "source": [
    "#Parallel procesing\n",
    "\n",
    "import time\n",
    "import threading\n",
    "def fun(name,delay):\n",
    "    counter=0\n",
    "    while counter <5:\n",
    "        print(name)\n",
    "        print(time.ctime())\n",
    "        time.sleep(delay)\n",
    "        counter+=1\n",
    "\n",
    "    \n",
    "t1=threading.Thread(target=fun,args=(\"dhoni\",2))\n",
    "t2=threading.Thread(target=fun,args=(\"kohli\",4))\n",
    "t1.start()\n",
    "t2.start()\n",
    "\n",
    "t1.join()\n",
    "t2.join()\n"
   ]
  },
  {
   "cell_type": "code",
   "execution_count": 50,
   "id": "e1d7dea8",
   "metadata": {},
   "outputs": [],
   "source": []
  },
  {
   "cell_type": "code",
   "execution_count": null,
   "id": "fdc01951",
   "metadata": {},
   "outputs": [],
   "source": []
  }
 ],
 "metadata": {
  "kernelspec": {
   "display_name": "Python 3",
   "language": "python",
   "name": "python3"
  },
  "language_info": {
   "codemirror_mode": {
    "name": "ipython",
    "version": 3
   },
   "file_extension": ".py",
   "mimetype": "text/x-python",
   "name": "python",
   "nbconvert_exporter": "python",
   "pygments_lexer": "ipython3",
   "version": "3.8.8"
  }
 },
 "nbformat": 4,
 "nbformat_minor": 5
}
