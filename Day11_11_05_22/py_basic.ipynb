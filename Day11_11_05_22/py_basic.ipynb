{
 "cells": [
  {
   "cell_type": "code",
   "execution_count": 2,
   "id": "ce5a6ad7",
   "metadata": {},
   "outputs": [
    {
     "ename": "TypeError",
     "evalue": "'str' object does not support item assignment",
     "output_type": "error",
     "traceback": [
      "\u001b[0;31m---------------------------------------------------------------------------\u001b[0m",
      "\u001b[0;31mTypeError\u001b[0m                                 Traceback (most recent call last)",
      "\u001b[0;32m<ipython-input-2-83d3d47a98d9>\u001b[0m in \u001b[0;36m<module>\u001b[0;34m\u001b[0m\n\u001b[1;32m     24\u001b[0m \u001b[0;34m\u001b[0m\u001b[0m\n\u001b[1;32m     25\u001b[0m \u001b[0mvar\u001b[0m\u001b[0;34m=\u001b[0m\u001b[0;34m\"dhoni\"\u001b[0m\u001b[0;34m\u001b[0m\u001b[0;34m\u001b[0m\u001b[0m\n\u001b[0;32m---> 26\u001b[0;31m \u001b[0mvar\u001b[0m\u001b[0;34m[\u001b[0m\u001b[0;36m3\u001b[0m\u001b[0;34m]\u001b[0m\u001b[0;34m=\u001b[0m\u001b[0;34m\"y\"\u001b[0m\u001b[0;34m\u001b[0m\u001b[0;34m\u001b[0m\u001b[0m\n\u001b[0m\u001b[1;32m     27\u001b[0m \u001b[0mprint\u001b[0m\u001b[0;34m(\u001b[0m\u001b[0mvar\u001b[0m\u001b[0;34m)\u001b[0m\u001b[0;34m\u001b[0m\u001b[0;34m\u001b[0m\u001b[0m\n",
      "\u001b[0;31mTypeError\u001b[0m: 'str' object does not support item assignment"
     ]
    }
   ],
   "source": [
    "#Compiler and Intrepreter\n",
    "#Compiler\n",
    "#Python is called interpreter language or scripting language or dynamic lan\n",
    "#Runtime memory allocaion is what decide python as dynamic language\n",
    "#python\n",
    "#Top Down Programming Approach\n",
    "#python runs their code in sequential way\n",
    "#GIL\n",
    "#python memory works on the basis of Virtual Memory Concept\n",
    "#Python is automated Garbage Collection\n",
    "#python open source\n",
    "#library\n",
    "#unstrucrted programming laanguage\n",
    "#It supports OOPs\n",
    "\n",
    "#Task_1:- \"version comparsion\"\n",
    "#Task_2:- \" when we have different versions of python, how pip recognmizes\"\n",
    "#Task_3:- \" creating virtual environment\"\n",
    "\n",
    "\n",
    "#datatypes: string ,list,tuple,dictionary,numbers,set,frozenset\n",
    "#mutable---list ,dixtionary\n",
    "#immutable --- string,numbers,tuples\n",
    "\n",
    "var=\"dhoni\"\n",
    "var[3]=\"y\"\n",
    "print(var)"
   ]
  },
  {
   "cell_type": "code",
   "execution_count": 3,
   "id": "05d1fe65",
   "metadata": {},
   "outputs": [
    {
     "name": "stdout",
     "output_type": "stream",
     "text": [
      "dhony\n"
     ]
    }
   ],
   "source": [
    "var=var.replace(\"i\",\"y\")\n",
    "print(var)"
   ]
  },
  {
   "cell_type": "code",
   "execution_count": 4,
   "id": "62e34e44",
   "metadata": {},
   "outputs": [
    {
     "name": "stdout",
     "output_type": "stream",
     "text": [
      "d\n"
     ]
    }
   ],
   "source": [
    "var=\"dhoni\"\n",
    "#d-0  ,-5\n",
    "#h-1  ,-4\n",
    "#0-2  ,-3\n",
    "#n-3  ,-2\n",
    "#i-4  ,-1 \n",
    "\n",
    "print(var[0])"
   ]
  },
  {
   "cell_type": "code",
   "execution_count": 5,
   "id": "3499cc61",
   "metadata": {},
   "outputs": [
    {
     "name": "stdout",
     "output_type": "stream",
     "text": [
      "dhoni\n"
     ]
    }
   ],
   "source": [
    "print(var[0:])"
   ]
  },
  {
   "cell_type": "code",
   "execution_count": 6,
   "id": "564a2903",
   "metadata": {},
   "outputs": [
    {
     "name": "stdout",
     "output_type": "stream",
     "text": [
      "dhon\n"
     ]
    }
   ],
   "source": [
    "print(var[0:4])"
   ]
  },
  {
   "cell_type": "code",
   "execution_count": 7,
   "id": "581d55ad",
   "metadata": {},
   "outputs": [
    {
     "name": "stdout",
     "output_type": "stream",
     "text": [
      "\n"
     ]
    }
   ],
   "source": [
    "print(var[2:0]) #will give empty output "
   ]
  },
  {
   "cell_type": "code",
   "execution_count": 10,
   "id": "4324f236",
   "metadata": {},
   "outputs": [
    {
     "name": "stdout",
     "output_type": "stream",
     "text": [
      "doi\n"
     ]
    }
   ],
   "source": [
    "print(var[::2]) # 2 steps"
   ]
  },
  {
   "cell_type": "code",
   "execution_count": 11,
   "id": "dd5ce046",
   "metadata": {},
   "outputs": [
    {
     "name": "stdout",
     "output_type": "stream",
     "text": [
      "iod\n"
     ]
    }
   ],
   "source": [
    "print(var[::-2]) "
   ]
  },
  {
   "cell_type": "code",
   "execution_count": 12,
   "id": "c45a8bd8",
   "metadata": {},
   "outputs": [
    {
     "name": "stdout",
     "output_type": "stream",
     "text": [
      "[61, 34, 23, 89, 42, 65, 86, 67, 1, 5, 7, 23, 56]\n"
     ]
    }
   ],
   "source": [
    "list1=[61,34,23,89,42,65,86,67,1,5,7,23,56]\n",
    "print(list1[:])"
   ]
  },
  {
   "cell_type": "code",
   "execution_count": 17,
   "id": "56f4ac0c",
   "metadata": {},
   "outputs": [
    {
     "name": "stdout",
     "output_type": "stream",
     "text": [
      "[7, 23, 56]\n"
     ]
    }
   ],
   "source": [
    "print(list1[-3:])"
   ]
  },
  {
   "cell_type": "code",
   "execution_count": 18,
   "id": "851f9433",
   "metadata": {},
   "outputs": [
    {
     "name": "stdout",
     "output_type": "stream",
     "text": [
      "[67, 1, 5, 7]\n"
     ]
    }
   ],
   "source": [
    "print(list1[-6:-2])"
   ]
  },
  {
   "cell_type": "code",
   "execution_count": 19,
   "id": "a770deda",
   "metadata": {},
   "outputs": [
    {
     "name": "stdout",
     "output_type": "stream",
     "text": [
      "[61, 23, 42, 86, 1, 7, 56]\n"
     ]
    }
   ],
   "source": [
    "print(list1[::2])"
   ]
  },
  {
   "cell_type": "code",
   "execution_count": 20,
   "id": "cc5a307b",
   "metadata": {},
   "outputs": [
    {
     "name": "stdout",
     "output_type": "stream",
     "text": [
      "[56, 7, 1, 86, 42, 23, 61]\n"
     ]
    }
   ],
   "source": [
    "print(list1[::-2])"
   ]
  },
  {
   "cell_type": "code",
   "execution_count": 21,
   "id": "be898d04",
   "metadata": {},
   "outputs": [
    {
     "name": "stdout",
     "output_type": "stream",
     "text": [
      "[56, 23, 7, 5, 1, 67, 86, 65, 42, 89, 23, 34, 61]\n"
     ]
    }
   ],
   "source": [
    "print(list1[::-1])"
   ]
  },
  {
   "cell_type": "code",
   "execution_count": 23,
   "id": "895cdaa4",
   "metadata": {},
   "outputs": [
    {
     "name": "stdout",
     "output_type": "stream",
     "text": [
      "17\n"
     ]
    }
   ],
   "source": [
    "var=\"virat is the best\"\n",
    "print(len(var)) # counts the character including spaces"
   ]
  },
  {
   "cell_type": "code",
   "execution_count": 24,
   "id": "8b097e2a",
   "metadata": {},
   "outputs": [
    {
     "name": "stdout",
     "output_type": "stream",
     "text": [
      "('dhoni', 'msd')\n"
     ]
    }
   ],
   "source": [
    "var=\"dhoni\",'msd'\n",
    "print(var)"
   ]
  },
  {
   "cell_type": "code",
   "execution_count": 28,
   "id": "58c03482",
   "metadata": {},
   "outputs": [
    {
     "name": "stdout",
     "output_type": "stream",
     "text": [
      "dhonimsdmadmsd\n"
     ]
    }
   ],
   "source": [
    "var=\"dhoni\"'msd''mad''msd'\n",
    "print(var)"
   ]
  },
  {
   "cell_type": "code",
   "execution_count": 27,
   "id": "5c71d45c",
   "metadata": {},
   "outputs": [
    {
     "name": "stdout",
     "output_type": "stream",
     "text": [
      "dhoni'msd\n"
     ]
    }
   ],
   "source": [
    "var=\"dhoni'msd\"\n",
    "print(var)"
   ]
  },
  {
   "cell_type": "code",
   "execution_count": 26,
   "id": "020d79e1",
   "metadata": {},
   "outputs": [
    {
     "ename": "SyntaxError",
     "evalue": "EOL while scanning string literal (<ipython-input-26-ea5852ddda26>, line 1)",
     "output_type": "error",
     "traceback": [
      "\u001b[0;36m  File \u001b[0;32m\"<ipython-input-26-ea5852ddda26>\"\u001b[0;36m, line \u001b[0;32m1\u001b[0m\n\u001b[0;31m    var=\"dhoni plays\u001b[0m\n\u001b[0m                     ^\u001b[0m\n\u001b[0;31mSyntaxError\u001b[0m\u001b[0;31m:\u001b[0m EOL while scanning string literal\n"
     ]
    }
   ],
   "source": [
    "var=\"dhoni plays \n",
    "csk\"\n",
    "print(var)"
   ]
  },
  {
   "cell_type": "code",
   "execution_count": 29,
   "id": "15667589",
   "metadata": {},
   "outputs": [
    {
     "name": "stdout",
     "output_type": "stream",
     "text": [
      "dhoni plays\n",
      "for csk\n"
     ]
    }
   ],
   "source": [
    "var=\"\"\"dhoni plays\n",
    "for csk\"\"\"\n",
    "print(var)"
   ]
  },
  {
   "cell_type": "code",
   "execution_count": 32,
   "id": "1570852e",
   "metadata": {},
   "outputs": [
    {
     "name": "stdout",
     "output_type": "stream",
     "text": [
      "dhoni plays for csk\n"
     ]
    }
   ],
   "source": [
    "var=\"\"\"dhoni plays \\\n",
    "for csk\"\"\"\n",
    "print(var)"
   ]
  },
  {
   "cell_type": "code",
   "execution_count": 33,
   "id": "1e8e1143",
   "metadata": {},
   "outputs": [
    {
     "name": "stdout",
     "output_type": "stream",
     "text": [
      "dhoni playsfor csk\n"
     ]
    }
   ],
   "source": [
    "var=\"dhoni plays\\\n",
    "for csk\"\n",
    "print(var)"
   ]
  },
  {
   "cell_type": "code",
   "execution_count": 35,
   "id": "6ff3beec",
   "metadata": {},
   "outputs": [
    {
     "name": "stdout",
     "output_type": "stream",
     "text": [
      "/Users/pachandan/Documents\n"
     ]
    }
   ],
   "source": [
    "path=r\"/Users/pachandan/Documents\"\n",
    "print(path)"
   ]
  },
  {
   "cell_type": "code",
   "execution_count": 36,
   "id": "616d10c7",
   "metadata": {},
   "outputs": [
    {
     "name": "stdout",
     "output_type": "stream",
     "text": [
      "enter the itemschandan sumanth\n",
      "['c', 'h', 'a', 'n', 'd', 'a', 'n', ' ', 's', 'u', 'm', 'a', 'n', 't', 'h']\n"
     ]
    }
   ],
   "source": [
    "var=list(input(\"enter the items\"))\n",
    "print(var)"
   ]
  },
  {
   "cell_type": "code",
   "execution_count": null,
   "id": "59b31175",
   "metadata": {},
   "outputs": [],
   "source": []
  },
  {
   "cell_type": "code",
   "execution_count": 37,
   "id": "6b27b87e",
   "metadata": {},
   "outputs": [
    {
     "name": "stdout",
     "output_type": "stream",
     "text": [
      "enter the itemschandan sumanth\n",
      "['chandan', 'sumanth']\n"
     ]
    }
   ],
   "source": [
    "var=list(input(\"enter the items\").split())\n",
    "print(var)"
   ]
  },
  {
   "cell_type": "code",
   "execution_count": 42,
   "id": "9b04bae4",
   "metadata": {},
   "outputs": [
    {
     "name": "stdout",
     "output_type": "stream",
     "text": [
      "my captain dhoni plays even at the age of 40\n"
     ]
    }
   ],
   "source": [
    "name=\"dhoni\"\n",
    "age=40\n",
    "output=\"my captain %s plays even at the age of %d\"%(name,age)\n",
    "print(output)"
   ]
  },
  {
   "cell_type": "code",
   "execution_count": 43,
   "id": "96634cf9",
   "metadata": {},
   "outputs": [
    {
     "name": "stdout",
     "output_type": "stream",
     "text": [
      "my captain dhoni plays even at the age of 40\n"
     ]
    }
   ],
   "source": [
    "output=\"my captain {} plays even at the age of {}\".format(name,age)\n",
    "print(output)"
   ]
  },
  {
   "cell_type": "code",
   "execution_count": 44,
   "id": "7a6b9227",
   "metadata": {},
   "outputs": [
    {
     "name": "stdout",
     "output_type": "stream",
     "text": [
      "my captain dhoni plays even at the age of 40\n"
     ]
    }
   ],
   "source": [
    "output=f\"my captain {name} plays even at the age of {age}\"\n",
    "print(output)"
   ]
  },
  {
   "cell_type": "code",
   "execution_count": 47,
   "id": "26e64b4a",
   "metadata": {},
   "outputs": [
    {
     "name": "stdout",
     "output_type": "stream",
     "text": [
      "v\n",
      "i\n",
      "r\n",
      "a\n",
      "t\n",
      " \n",
      "p\n",
      "l\n",
      "a\n",
      "y\n",
      "s\n",
      " \n",
      "f\n",
      "o\n",
      "r\n",
      " \n",
      "i\n",
      "n\n",
      "d\n",
      "i\n",
      "a\n",
      " \n"
     ]
    }
   ],
   "source": [
    "name=\"virat plays for india \"\n",
    "for i in name:\n",
    "    print(i)\n"
   ]
  },
  {
   "cell_type": "code",
   "execution_count": 48,
   "id": "4c086bcd",
   "metadata": {},
   "outputs": [
    {
     "name": "stdout",
     "output_type": "stream",
     "text": [
      "virat plays for india "
     ]
    }
   ],
   "source": [
    "name=\"virat plays for india \"\n",
    "for i in name:\n",
    "    print(i,end='')\n",
    "    "
   ]
  },
  {
   "cell_type": "code",
   "execution_count": 49,
   "id": "baff3c83",
   "metadata": {},
   "outputs": [
    {
     "name": "stdout",
     "output_type": "stream",
     "text": [
      "d v\n",
      "h i\n",
      "o r\n",
      "o a\n",
      "n t\n"
     ]
    }
   ],
   "source": [
    "name=\"dhooni\"\n",
    "name1=\"virat\"\n",
    "for x,y in zip(name,name1):\n",
    "    print(x,y)"
   ]
  },
  {
   "cell_type": "code",
   "execution_count": 53,
   "id": "ba7bd07f",
   "metadata": {},
   "outputs": [
    {
     "name": "stdout",
     "output_type": "stream",
     "text": [
      "['v', 'i', 'r', 'a', 't']\n"
     ]
    }
   ],
   "source": [
    "name=\"dhooni\"\n",
    "name1=\"virat\"\n",
    "output=list(iter(name1))\n",
    "print(output)"
   ]
  },
  {
   "cell_type": "code",
   "execution_count": 54,
   "id": "567d23e7",
   "metadata": {},
   "outputs": [
    {
     "name": "stdout",
     "output_type": "stream",
     "text": [
      "[('d', 'v'), ('h', 'i'), ('o', 'r'), ('o', 'a'), ('n', 't')]\n"
     ]
    }
   ],
   "source": [
    "output=list(iter(zip(name,name1)))\n",
    "print(output)"
   ]
  },
  {
   "cell_type": "code",
   "execution_count": 55,
   "id": "33387011",
   "metadata": {},
   "outputs": [
    {
     "name": "stdout",
     "output_type": "stream",
     "text": [
      "0 v\n",
      "1 i\n",
      "2 r\n",
      "3 a\n",
      "4 t\n",
      "5  \n",
      "6 p\n",
      "7 l\n",
      "8 a\n",
      "9 y\n",
      "10 s\n",
      "11  \n",
      "12 f\n",
      "13 o\n",
      "14 r\n",
      "15  \n",
      "16 i\n",
      "17 n\n",
      "18 d\n",
      "19 i\n",
      "20 a\n",
      "21  \n"
     ]
    }
   ],
   "source": [
    "name=\"virat plays for india \"\n",
    "for x,y in enumerate(name):  # returns both index and value\n",
    "    print(x,y)"
   ]
  },
  {
   "cell_type": "code",
   "execution_count": 56,
   "id": "631ee640",
   "metadata": {},
   "outputs": [
    {
     "name": "stdout",
     "output_type": "stream",
     "text": [
      "0\n",
      "1\n",
      "2\n",
      "3\n",
      "4\n",
      "5\n",
      "6\n",
      "7\n",
      "8\n",
      "9\n",
      "10\n",
      "11\n",
      "12\n",
      "13\n",
      "14\n",
      "15\n",
      "16\n",
      "17\n",
      "18\n",
      "19\n",
      "20\n",
      "21\n"
     ]
    }
   ],
   "source": [
    "name=\"virat plays for india \"\n",
    "for x,_ in enumerate(name):  # using '_' will not occupy any space for the value\n",
    "    print(x)"
   ]
  },
  {
   "cell_type": "code",
   "execution_count": 58,
   "id": "e420ea8c",
   "metadata": {},
   "outputs": [
    {
     "name": "stdout",
     "output_type": "stream",
     "text": [
      "0 even\n",
      "2 even\n",
      "4 even\n",
      "6 even\n",
      "8 even\n",
      "10 even\n",
      "12 even\n",
      "14 even\n",
      "16 even\n",
      "18 even\n",
      "20 even\n"
     ]
    }
   ],
   "source": [
    "name=\"virat plays for india \"\n",
    "for x,y in enumerate(name):  # returns both index and value\n",
    "    if x%2==0:\n",
    "        print(x,\"even\")"
   ]
  },
  {
   "cell_type": "code",
   "execution_count": 60,
   "id": "acd33584",
   "metadata": {},
   "outputs": [
    {
     "name": "stdout",
     "output_type": "stream",
     "text": [
      "success\n",
      "success\n",
      "success\n",
      "success\n",
      "success\n",
      "success\n"
     ]
    }
   ],
   "source": [
    "name=\"virat plays for india \"\n",
    "for x,y in enumerate(name):  # returns both index and value\n",
    "    if y==\"i\"or y==\"a\":\n",
    "        print(\"success\")"
   ]
  },
  {
   "cell_type": "code",
   "execution_count": 61,
   "id": "d2a7004f",
   "metadata": {},
   "outputs": [
    {
     "name": "stdout",
     "output_type": "stream",
     "text": [
      "0\n",
      "1\n",
      "2\n",
      "3\n",
      "4\n",
      "5\n",
      "6\n",
      "7\n",
      "8\n",
      "9\n"
     ]
    }
   ],
   "source": [
    "for x in range(10):\n",
    "    print(x)"
   ]
  },
  {
   "cell_type": "code",
   "execution_count": 64,
   "id": "c2dca053",
   "metadata": {},
   "outputs": [
    {
     "name": "stdout",
     "output_type": "stream",
     "text": [
      "3\n",
      "4\n",
      "5\n",
      "6\n",
      "7\n",
      "8\n",
      "9\n"
     ]
    }
   ],
   "source": [
    "for x in range(3,10):\n",
    "    print(x)"
   ]
  },
  {
   "cell_type": "code",
   "execution_count": 67,
   "id": "60e98382",
   "metadata": {},
   "outputs": [
    {
     "name": "stdout",
     "output_type": "stream",
     "text": [
      "3\n",
      "6\n",
      "9\n"
     ]
    }
   ],
   "source": [
    "for x in range(3,10,3):\n",
    "    print(x)"
   ]
  },
  {
   "cell_type": "code",
   "execution_count": 70,
   "id": "ec3cdd1b",
   "metadata": {},
   "outputs": [
    {
     "name": "stdout",
     "output_type": "stream",
     "text": [
      "10 -1\n",
      "9 -2\n",
      "8 -3\n",
      "7 -4\n",
      "6 -5\n",
      "5 -6\n",
      "4 -7\n",
      "3 -8\n",
      "2 -9\n"
     ]
    }
   ],
   "source": [
    "out=0\n",
    "for x in range(10,1,-1):\n",
    "    out-=1\n",
    "    print(x,out)"
   ]
  },
  {
   "cell_type": "code",
   "execution_count": 74,
   "id": "cd9404ae",
   "metadata": {},
   "outputs": [
    {
     "name": "stdout",
     "output_type": "stream",
     "text": [
      "2\n"
     ]
    }
   ],
   "source": [
    "import random\n",
    "num=random.randint(1,3)\n",
    "print(num)\n"
   ]
  },
  {
   "cell_type": "code",
   "execution_count": 79,
   "id": "e1b75c88",
   "metadata": {},
   "outputs": [
    {
     "name": "stdout",
     "output_type": "stream",
     "text": [
      "0.38807615949676777\n"
     ]
    }
   ],
   "source": [
    "num=random.rand()\n",
    "print(num)\n"
   ]
  },
  {
   "cell_type": "code",
   "execution_count": 77,
   "id": "32df4791",
   "metadata": {},
   "outputs": [
    {
     "name": "stdout",
     "output_type": "stream",
     "text": [
      "6\n"
     ]
    }
   ],
   "source": [
    "from numpy import random\n",
    "\n",
    "x = random.randint(100)\n",
    "\n",
    "print(x)\n"
   ]
  },
  {
   "cell_type": "code",
   "execution_count": 78,
   "id": "573873ff",
   "metadata": {},
   "outputs": [
    {
     "name": "stdout",
     "output_type": "stream",
     "text": [
      "0.7124516932346961\n"
     ]
    }
   ],
   "source": [
    "x = random.rand()\n",
    "\n",
    "print(x)"
   ]
  },
  {
   "cell_type": "code",
   "execution_count": 10,
   "id": "1b3d5bd8",
   "metadata": {},
   "outputs": [
    {
     "data": {
      "text/plain": [
       "'/Users/pachandan/Documents/DSA/finall.pptx'"
      ]
     },
     "execution_count": 10,
     "metadata": {},
     "output_type": "execute_result"
    }
   ],
   "source": [
    "\n",
    "import shutil\n",
    "import os\n",
    "\n",
    "# path to source directory\n",
    "src_dir = '/Users/pachandan/Documents/Project/finall.pptx'\n",
    "\n",
    "# path to destination directory\n",
    "dest_dir = '/Users/pachandan/Documents/DSA'\n",
    "\n",
    "# getting all the files in the source directory\n",
    "files = os.listdir(\"/Users/pachandan/Documents/SQL notes\")\n",
    "#print(files)\n",
    "shutil.copy(src_dir, dest_dir)\n"
   ]
  },
  {
   "cell_type": "code",
   "execution_count": 18,
   "id": "508b8f6d",
   "metadata": {},
   "outputs": [
    {
     "data": {
      "text/plain": [
       "0"
      ]
     },
     "execution_count": 18,
     "metadata": {},
     "output_type": "execute_result"
    }
   ],
   "source": [
    "os.system('ls -l')"
   ]
  },
  {
   "cell_type": "code",
   "execution_count": 20,
   "id": "f5f778e2",
   "metadata": {},
   "outputs": [
    {
     "name": "stdout",
     "output_type": "stream",
     "text": [
      "total 48\n",
      "-rw-r--r--  1 pachandan  staff  20677 May 11 14:35 py_basic.ipynb\n",
      "\n"
     ]
    }
   ],
   "source": [
    "stream = os.popen('ls -l')\n",
    "output = stream.read()\n",
    "print(output)"
   ]
  },
  {
   "cell_type": "code",
   "execution_count": 21,
   "id": "7a6d249c",
   "metadata": {},
   "outputs": [
    {
     "name": "stdout",
     "output_type": "stream",
     "text": [
      "os.stat_result(st_mode=33188, st_ino=15798633, st_dev=16777231, st_nlink=1, st_uid=501, st_gid=20, st_size=333135, st_atime=1642318746, st_mtime=1642318746, st_ctime=1643291934)\n"
     ]
    }
   ],
   "source": [
    "info = os.stat(\"/Users/pachandan/Documents/Project/finall.pptx\")\n",
    "print(info)"
   ]
  },
  {
   "cell_type": "code",
   "execution_count": 22,
   "id": "5ceb62fb",
   "metadata": {},
   "outputs": [
    {
     "ename": "SyntaxError",
     "evalue": "invalid syntax (<ipython-input-22-bd4aa43b70cd>, line 1)",
     "output_type": "error",
     "traceback": [
      "\u001b[0;36m  File \u001b[0;32m\"<ipython-input-22-bd4aa43b70cd>\"\u001b[0;36m, line \u001b[0;32m1\u001b[0m\n\u001b[0;31m    http://[::]:8000/\u001b[0m\n\u001b[0m         ^\u001b[0m\n\u001b[0;31mSyntaxError\u001b[0m\u001b[0;31m:\u001b[0m invalid syntax\n"
     ]
    }
   ],
   "source": [
    "http://[::]:8000/"
   ]
  },
  {
   "cell_type": "code",
   "execution_count": null,
   "id": "bb775cf5",
   "metadata": {},
   "outputs": [],
   "source": []
  }
 ],
 "metadata": {
  "kernelspec": {
   "display_name": "Python 3",
   "language": "python",
   "name": "python3"
  },
  "language_info": {
   "codemirror_mode": {
    "name": "ipython",
    "version": 3
   },
   "file_extension": ".py",
   "mimetype": "text/x-python",
   "name": "python",
   "nbconvert_exporter": "python",
   "pygments_lexer": "ipython3",
   "version": "3.8.8"
  }
 },
 "nbformat": 4,
 "nbformat_minor": 5
}
