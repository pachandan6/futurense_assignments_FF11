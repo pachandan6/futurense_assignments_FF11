{
 "cells": [
  {
   "cell_type": "code",
   "execution_count": 10,
   "id": "d671c063",
   "metadata": {},
   "outputs": [
    {
     "name": "stdout",
     "output_type": "stream",
     "text": [
      "\n",
      "*\n",
      "**\n",
      "***\n",
      "****\n",
      "*****\n",
      "******\n"
     ]
    }
   ],
   "source": [
    "import pyautogui\n",
    "import time\n",
    "for i in range(7):\n",
    "    for j in range(i):\n",
    "        print('*',end=\"\")\n",
    "    print('')\n",
    "time.sleep(2)\n",
    "img1=pyautogui.screenshot() # to take screenshot and the screenshot will be saved in the same folder as python file \n",
    "img1.save(\"hello56.png\")\n"
   ]
  },
  {
   "cell_type": "code",
   "execution_count": 14,
   "id": "6f8f3e2a",
   "metadata": {},
   "outputs": [
    {
     "name": "stdout",
     "output_type": "stream",
     "text": [
      "*******\n",
      "******\n",
      "*****\n",
      "****\n",
      "***\n",
      "**\n",
      "*\n"
     ]
    }
   ],
   "source": [
    "\n",
    "for i in range(7,0,-1):\n",
    "    for j in range(0,i):\n",
    "        print('*',end=\"\")\n",
    "    print('')"
   ]
  },
  {
   "cell_type": "code",
   "execution_count": 23,
   "id": "23a70e69",
   "metadata": {},
   "outputs": [],
   "source": [
    "import os\n",
    "from tkinter import filedialog \n",
    "\n"
   ]
  },
  {
   "cell_type": "code",
   "execution_count": 25,
   "id": "96e72cf1",
   "metadata": {},
   "outputs": [
    {
     "name": "stdout",
     "output_type": "stream",
     "text": [
      "        * * * * * * \n",
      "         * * * * * \n",
      "          * * * * \n",
      "           * * * \n",
      "            * * \n",
      "             * \n"
     ]
    }
   ],
   "source": [
    "rows = 5\n",
    "k = 2 * rows - 2\n",
    "for i in range(rows, -1, -1):\n",
    "    for j in range(k, 0, -1):\n",
    "        print(end=\" \")\n",
    "    k = k + 1\n",
    "    for j in range(0, i + 1):\n",
    "        print(\"*\", end=\" \")\n",
    "    print(\"\")\n",
    "time.sleep(3)\n",
    "scr=pyautogui.screenshot()\n",
    "folder=filedialog.askdirectory() #to choose the folder to save the screenshot\n",
    "files=os.path.join(folder,\"scr.png\")\n",
    "scr.save(files)"
   ]
  },
  {
   "cell_type": "code",
   "execution_count": 13,
   "id": "6a831781",
   "metadata": {},
   "outputs": [
    {
     "name": "stdout",
     "output_type": "stream",
     "text": [
      "<class 'datetime.datetime'>\n"
     ]
    }
   ],
   "source": [
    "from datetime import datetime\n",
    "img1=pyautogui.screenshot()\n",
    "curr_time=datetime.now().replace(microsecond=0)\n",
    "print(type(curr_time))\n",
    "\n",
    "#to add time to the name of the file\n",
    "format=\"%y_%b_%d_%H_%M_%S\"\n",
    "new_time=datetime.strftime(curr_time,format)\n",
    "filename=\"scr\"+new_time+\".png\"\n",
    "img1.save(filename)"
   ]
  },
  {
   "cell_type": "code",
   "execution_count": null,
   "id": "5eb5e713",
   "metadata": {},
   "outputs": [],
   "source": [
    "# to converrt python file to exe file\n",
    "#open terminal and go to the folder in which python is saved and type\n",
    "#pyinstaller file_name.py\n",
    "\n",
    "\n"
   ]
  },
  {
   "cell_type": "code",
   "execution_count": 14,
   "id": "f69a38c9",
   "metadata": {},
   "outputs": [
    {
     "name": "stdout",
     "output_type": "stream",
     "text": [
      "Collecting pyinstaller\n",
      "  Downloading pyinstaller-5.0.1-py3-none-macosx_10_13_universal2.whl (1.6 MB)\n",
      "\u001b[K     |████████████████████████████████| 1.6 MB 4.2 MB/s eta 0:00:01\n",
      "\u001b[?25hRequirement already satisfied: setuptools in /Users/pachandan/opt/anaconda3/lib/python3.8/site-packages (from pyinstaller) (52.0.0.post20210125)\n",
      "Collecting macholib>=1.8\n",
      "  Downloading macholib-1.16-py2.py3-none-any.whl (37 kB)\n",
      "Collecting altgraph\n",
      "  Downloading altgraph-0.17.2-py2.py3-none-any.whl (21 kB)\n",
      "Collecting pyinstaller-hooks-contrib>=2020.6\n",
      "  Downloading pyinstaller_hooks_contrib-2022.4-py2.py3-none-any.whl (229 kB)\n",
      "\u001b[K     |████████████████████████████████| 229 kB 29.1 MB/s eta 0:00:01\n",
      "\u001b[?25hInstalling collected packages: altgraph, pyinstaller-hooks-contrib, macholib, pyinstaller\n",
      "Successfully installed altgraph-0.17.2 macholib-1.16 pyinstaller-5.0.1 pyinstaller-hooks-contrib-2022.4\n",
      "Note: you may need to restart the kernel to use updated packages.\n"
     ]
    }
   ],
   "source": [
    "pip install pyinstaller\n"
   ]
  },
  {
   "cell_type": "code",
   "execution_count": 20,
   "id": "f7d369a1",
   "metadata": {},
   "outputs": [],
   "source": [
    "import os\n",
    "files=os.listdir(\"/Users/pachandan/futurense_dailywork/Day1/pdffiles\")"
   ]
  },
  {
   "cell_type": "code",
   "execution_count": 21,
   "id": "7d463f4c",
   "metadata": {},
   "outputs": [
    {
     "data": {
      "text/plain": [
       "['.DS_Store', 'chandan.pdf']"
      ]
     },
     "execution_count": 21,
     "metadata": {},
     "output_type": "execute_result"
    }
   ],
   "source": [
    "files"
   ]
  },
  {
   "cell_type": "code",
   "execution_count": 42,
   "id": "069810df",
   "metadata": {},
   "outputs": [],
   "source": [
    "def is_encrypted(filenames: str) -> bool:\n",
    "    with open(filenames, 'rb') as f:\n",
    "        pdf_reader = PdfFileReader(f, strict=False)\n",
    "        return pdf_reader.isEncrypted"
   ]
  },
  {
   "cell_type": "code",
   "execution_count": 52,
   "id": "9a708be3",
   "metadata": {},
   "outputs": [
    {
     "name": "stdout",
     "output_type": "stream",
     "text": [
      "['.DS_Store', 'hello.pdf', 'hello_2.pdf', 'chandan.pdf']\n",
      ".DS_Store\n",
      "<class 'str'>\n",
      "hello.pdf\n",
      "<class 'str'>\n",
      "{'/Type': '/Page', '/Contents': IndirectObject(1587, 0), '/Resources': {'/XObject': IndirectObject(1588, 0), '/Font': IndirectObject(1609, 0), '/ProcSet': ['/PDF', '/Text', '/ImageB', '/ImageC', '/ImageI']}, '/MediaBox': [0, 0, 595.276, 793.70099], '/Parent': IndirectObject(1578, 0), '/StructParents': 21, '/Annots': [IndirectObject(1629, 0), IndirectObject(1631, 0), IndirectObject(1632, 0), IndirectObject(1633, 0), IndirectObject(1634, 0), IndirectObject(1635, 0), IndirectObject(1636, 0), IndirectObject(1637, 0), IndirectObject(1638, 0), IndirectObject(1639, 0), IndirectObject(1640, 0), IndirectObject(1641, 0), IndirectObject(1642, 0), IndirectObject(1643, 0), IndirectObject(1644, 0), IndirectObject(1645, 0), IndirectObject(1647, 0), IndirectObject(1649, 0), IndirectObject(1651, 0), IndirectObject(1653, 0), IndirectObject(1655, 0), IndirectObject(1656, 0), IndirectObject(1658, 0), IndirectObject(1660, 0)], '/CropBox': [0, 0, 595.276, 793.70099], '/Tabs': '/S'}\n",
      "{'/Type': '/Page', '/Contents': [IndirectObject(715, 0), IndirectObject(2, 0)], '/Resources': IndirectObject(3, 0), '/MediaBox': [0, 0, 595.276, 793.70099], '/Parent': IndirectObject(1578, 0), '/StructParents': 40, '/Annots': [IndirectObject(7, 0), IndirectObject(8, 0), IndirectObject(9, 0), IndirectObject(10, 0), IndirectObject(11, 0), IndirectObject(12, 0), IndirectObject(13, 0), IndirectObject(14, 0), IndirectObject(15, 0), IndirectObject(16, 0), IndirectObject(17, 0), IndirectObject(18, 0), IndirectObject(19, 0), IndirectObject(20, 0), IndirectObject(21, 0), IndirectObject(22, 0), IndirectObject(23, 0), IndirectObject(24, 0)], '/CropBox': [0, 0, 595.276, 793.70099], '/Tabs': '/S'}\n",
      "{'/Type': '/Page', '/Contents': [IndirectObject(715, 0), IndirectObject(26, 0)], '/Resources': IndirectObject(27, 0), '/MediaBox': [0, 0, 595.276, 793.70099], '/Parent': IndirectObject(1578, 0), '/StructParents': 53, '/Annots': [IndirectObject(35, 0), IndirectObject(36, 0), IndirectObject(37, 0), IndirectObject(38, 0), IndirectObject(39, 0), IndirectObject(40, 0), IndirectObject(41, 0), IndirectObject(42, 0), IndirectObject(43, 0), IndirectObject(44, 0), IndirectObject(45, 0), IndirectObject(46, 0)], '/CropBox': [0, 0, 595.276, 793.70099], '/Tabs': '/S'}\n",
      "{'/Type': '/Page', '/Contents': IndirectObject(48, 0), '/Resources': {'/XObject': IndirectObject(49, 0), '/Font': IndirectObject(747, 0), '/ProcSet': ['/PDF', '/Text', '/ImageB', '/ImageC', '/ImageI']}, '/MediaBox': [0, 0, 595.276, 793.70099], '/Parent': IndirectObject(1578, 0), '/StructParents': 77, '/Annots': [IndirectObject(54, 0), IndirectObject(55, 0), IndirectObject(56, 0), IndirectObject(57, 0), IndirectObject(58, 0), IndirectObject(59, 0), IndirectObject(60, 0), IndirectObject(61, 0), IndirectObject(62, 0), IndirectObject(63, 0), IndirectObject(64, 0), IndirectObject(65, 0), IndirectObject(66, 0), IndirectObject(67, 0), IndirectObject(68, 0), IndirectObject(69, 0), IndirectObject(70, 0), IndirectObject(71, 0), IndirectObject(72, 0), IndirectObject(73, 0), IndirectObject(74, 0), IndirectObject(75, 0), IndirectObject(76, 0)], '/CropBox': [0, 0, 595.276, 793.70099], '/Tabs': '/S'}\n",
      "{'/Type': '/Page', '/Contents': IndirectObject(78, 0), '/Resources': {'/XObject': IndirectObject(79, 0), '/Font': IndirectObject(748, 0), '/ProcSet': ['/PDF', '/Text', '/ImageB', '/ImageC', '/ImageI']}, '/MediaBox': [0, 0, 595.276, 793.70099], '/Parent': IndirectObject(1578, 0), '/StructParents': 85, '/Annots': [IndirectObject(84, 0), IndirectObject(85, 0), IndirectObject(86, 0), IndirectObject(87, 0), IndirectObject(88, 0), IndirectObject(89, 0), IndirectObject(90, 0)], '/CropBox': [0, 0, 595.276, 793.70099], '/Tabs': '/S'}\n",
      "{'/Type': '/Page', '/Contents': [IndirectObject(715, 0), IndirectObject(92, 0)], '/Resources': IndirectObject(749, 0), '/MediaBox': [0, 0, 595.276, 793.70099], '/Parent': IndirectObject(1578, 0), '/StructParents': 99, '/Annots': [IndirectObject(93, 0), IndirectObject(94, 0), IndirectObject(95, 0), IndirectObject(96, 0), IndirectObject(97, 0), IndirectObject(98, 0), IndirectObject(99, 0), IndirectObject(100, 0), IndirectObject(101, 0), IndirectObject(102, 0), IndirectObject(103, 0), IndirectObject(104, 0), IndirectObject(105, 0)], '/CropBox': [0, 0, 595.276, 793.70099], '/Tabs': '/S'}\n",
      "{'/Type': '/Page', '/Contents': [IndirectObject(107, 0), IndirectObject(108, 0)], '/Resources': IndirectObject(749, 0), '/MediaBox': [0, 0, 595.276, 793.70099], '/Parent': IndirectObject(1578, 0), '/StructParents': 113, '/Annots': [IndirectObject(109, 0), IndirectObject(110, 0), IndirectObject(111, 0), IndirectObject(112, 0), IndirectObject(113, 0), IndirectObject(114, 0), IndirectObject(115, 0), IndirectObject(116, 0), IndirectObject(117, 0), IndirectObject(118, 0), IndirectObject(119, 0), IndirectObject(120, 0), IndirectObject(121, 0)], '/CropBox': [0, 0, 595.276, 793.70099], '/Tabs': '/S'}\n",
      "{'/Type': '/Page', '/Contents': [IndirectObject(715, 0), IndirectObject(123, 0)], '/Resources': IndirectObject(124, 0), '/MediaBox': [0, 0, 595.276, 793.70099], '/Parent': IndirectObject(1578, 0), '/StructParents': 125, '/Annots': [IndirectObject(128, 0), IndirectObject(129, 0), IndirectObject(130, 0), IndirectObject(131, 0), IndirectObject(132, 0), IndirectObject(133, 0), IndirectObject(134, 0), IndirectObject(135, 0), IndirectObject(136, 0), IndirectObject(137, 0), IndirectObject(138, 0)], '/CropBox': [0, 0, 595.276, 793.70099], '/Tabs': '/S'}\n",
      "{'/Type': '/Page', '/Contents': [IndirectObject(715, 0), IndirectObject(140, 0)], '/Resources': IndirectObject(141, 0), '/MediaBox': [0, 0, 595.276, 793.70099], '/Parent': IndirectObject(1578, 0), '/StructParents': 139, '/Annots': [IndirectObject(144, 0), IndirectObject(145, 0), IndirectObject(146, 0), IndirectObject(147, 0), IndirectObject(149, 0), IndirectObject(150, 0), IndirectObject(151, 0), IndirectObject(152, 0), IndirectObject(153, 0), IndirectObject(154, 0), IndirectObject(155, 0), IndirectObject(156, 0), IndirectObject(157, 0)], '/CropBox': [0, 0, 595.276, 793.70099], '/Tabs': '/S'}\n",
      "{'/Type': '/Page', '/Contents': [IndirectObject(715, 0), IndirectObject(159, 0)], '/Resources': IndirectObject(160, 0), '/MediaBox': [0, 0, 595.276, 793.70099], '/Parent': IndirectObject(1578, 0), '/StructParents': 166, '/Annots': [IndirectObject(163, 0), IndirectObject(164, 0), IndirectObject(165, 0), IndirectObject(166, 0), IndirectObject(167, 0), IndirectObject(168, 0), IndirectObject(169, 0), IndirectObject(170, 0), IndirectObject(171, 0), IndirectObject(172, 0), IndirectObject(173, 0), IndirectObject(174, 0), IndirectObject(175, 0), IndirectObject(176, 0), IndirectObject(177, 0), IndirectObject(178, 0), IndirectObject(179, 0), IndirectObject(180, 0), IndirectObject(181, 0), IndirectObject(182, 0), IndirectObject(183, 0), IndirectObject(184, 0), IndirectObject(185, 0), IndirectObject(186, 0), IndirectObject(187, 0), IndirectObject(188, 0)], '/CropBox': [0, 0, 595.276, 793.70099], '/Tabs': '/S'}\n",
      "{'/Type': '/Page', '/Contents': [IndirectObject(715, 0), IndirectObject(190, 0)], '/Resources': IndirectObject(191, 0), '/MediaBox': [0, 0, 595.276, 793.70099], '/Parent': IndirectObject(1579, 0), '/StructParents': 193, '/Annots': [IndirectObject(200, 0), IndirectObject(201, 0), IndirectObject(202, 0), IndirectObject(203, 0), IndirectObject(204, 0), IndirectObject(205, 0), IndirectObject(206, 0), IndirectObject(207, 0), IndirectObject(208, 0), IndirectObject(209, 0), IndirectObject(210, 0), IndirectObject(211, 0), IndirectObject(212, 0), IndirectObject(213, 0), IndirectObject(214, 0), IndirectObject(215, 0), IndirectObject(216, 0), IndirectObject(217, 0), IndirectObject(218, 0), IndirectObject(219, 0), IndirectObject(220, 0), IndirectObject(221, 0), IndirectObject(222, 0), IndirectObject(223, 0), IndirectObject(224, 0), IndirectObject(225, 0)], '/CropBox': [0, 0, 595.276, 793.70099], '/Tabs': '/S'}\n",
      "{'/Type': '/Page', '/Contents': [IndirectObject(715, 0), IndirectObject(227, 0)], '/Resources': IndirectObject(228, 0), '/MediaBox': [0, 0, 595.276, 793.70099], '/Parent': IndirectObject(1579, 0), '/StructParents': 219, '/Annots': [IndirectObject(231, 0), IndirectObject(232, 0), IndirectObject(233, 0), IndirectObject(234, 0), IndirectObject(235, 0), IndirectObject(236, 0), IndirectObject(237, 0), IndirectObject(238, 0), IndirectObject(239, 0), IndirectObject(240, 0), IndirectObject(241, 0), IndirectObject(242, 0), IndirectObject(243, 0), IndirectObject(244, 0), IndirectObject(245, 0), IndirectObject(246, 0), IndirectObject(247, 0), IndirectObject(248, 0), IndirectObject(249, 0), IndirectObject(250, 0), IndirectObject(251, 0), IndirectObject(252, 0), IndirectObject(253, 0), IndirectObject(254, 0), IndirectObject(255, 0)], '/CropBox': [0, 0, 595.276, 793.70099], '/Tabs': '/S'}\n",
      "{'/Type': '/Page', '/Contents': IndirectObject(257, 0), '/Resources': {'/XObject': IndirectObject(258, 0), '/Font': IndirectObject(755, 0), '/ProcSet': ['/PDF', '/Text', '/ImageB', '/ImageC', '/ImageI']}, '/MediaBox': [0, 0, 595.276, 793.70099], '/Parent': IndirectObject(1579, 0), '/StructParents': 235, '/Annots': [IndirectObject(263, 0), IndirectObject(264, 0), IndirectObject(265, 0), IndirectObject(266, 0), IndirectObject(267, 0), IndirectObject(268, 0), IndirectObject(269, 0), IndirectObject(270, 0), IndirectObject(271, 0), IndirectObject(272, 0), IndirectObject(273, 0), IndirectObject(274, 0), IndirectObject(275, 0), IndirectObject(276, 0), IndirectObject(277, 0)], '/CropBox': [0, 0, 595.276, 793.70099], '/Tabs': '/S'}\n",
      "{'/Type': '/Page', '/Contents': IndirectObject(279, 0), '/Resources': {'/XObject': IndirectObject(280, 0), '/Font': IndirectObject(288, 0), '/ProcSet': ['/PDF', '/Text', '/ImageB', '/ImageC', '/ImageI']}, '/MediaBox': [0, 0, 595.276, 793.70099], '/Parent': IndirectObject(1579, 0), '/StructParents': 236, '/CropBox': [0, 0, 595.276, 793.70099], '/Tabs': '/S'}\n",
      "{'/Type': '/Page', '/Contents': [IndirectObject(715, 0), IndirectObject(290, 0)], '/Resources': IndirectObject(291, 0), '/MediaBox': [0, 0, 595.276, 793.70099], '/Parent': IndirectObject(1579, 0), '/StructParents': 358, '/Annots': [IndirectObject(294, 0), IndirectObject(295, 0), IndirectObject(296, 0), IndirectObject(298, 0), IndirectObject(299, 0), IndirectObject(301, 0), IndirectObject(302, 0), IndirectObject(304, 0), IndirectObject(305, 0), IndirectObject(306, 0), IndirectObject(307, 0), IndirectObject(309, 0), IndirectObject(310, 0), IndirectObject(311, 0), IndirectObject(313, 0), IndirectObject(314, 0), IndirectObject(316, 0), IndirectObject(318, 0), IndirectObject(319, 0), IndirectObject(320, 0), IndirectObject(322, 0), IndirectObject(323, 0), IndirectObject(325, 0), IndirectObject(327, 0), IndirectObject(328, 0), IndirectObject(329, 0), IndirectObject(330, 0), IndirectObject(332, 0), IndirectObject(334, 0), IndirectObject(335, 0), IndirectObject(337, 0), IndirectObject(338, 0), IndirectObject(339, 0), IndirectObject(340, 0), IndirectObject(341, 0), IndirectObject(343, 0), IndirectObject(344, 0), IndirectObject(345, 0), IndirectObject(347, 0), IndirectObject(348, 0), IndirectObject(349, 0), IndirectObject(351, 0), IndirectObject(352, 0), IndirectObject(354, 0), IndirectObject(355, 0), IndirectObject(356, 0), IndirectObject(358, 0), IndirectObject(360, 0), IndirectObject(361, 0), IndirectObject(362, 0), IndirectObject(363, 0), IndirectObject(365, 0), IndirectObject(366, 0), IndirectObject(367, 0), IndirectObject(368, 0), IndirectObject(369, 0), IndirectObject(371, 0), IndirectObject(372, 0), IndirectObject(374, 0), IndirectObject(375, 0), IndirectObject(377, 0), IndirectObject(379, 0), IndirectObject(381, 0), IndirectObject(382, 0), IndirectObject(384, 0), IndirectObject(385, 0), IndirectObject(387, 0), IndirectObject(388, 0), IndirectObject(390, 0), IndirectObject(391, 0), IndirectObject(393, 0), IndirectObject(394, 0), IndirectObject(396, 0), IndirectObject(397, 0), IndirectObject(399, 0), IndirectObject(400, 0), IndirectObject(402, 0), IndirectObject(403, 0), IndirectObject(404, 0), IndirectObject(406, 0), IndirectObject(407, 0), IndirectObject(409, 0), IndirectObject(410, 0), IndirectObject(411, 0), IndirectObject(413, 0), IndirectObject(414, 0), IndirectObject(415, 0), IndirectObject(417, 0), IndirectObject(418, 0), IndirectObject(419, 0), IndirectObject(421, 0), IndirectObject(422, 0), IndirectObject(424, 0), IndirectObject(425, 0), IndirectObject(426, 0), IndirectObject(427, 0), IndirectObject(428, 0), IndirectObject(430, 0), IndirectObject(431, 0), IndirectObject(433, 0), IndirectObject(434, 0), IndirectObject(435, 0), IndirectObject(436, 0), IndirectObject(438, 0), IndirectObject(439, 0), IndirectObject(441, 0), IndirectObject(442, 0), IndirectObject(443, 0), IndirectObject(445, 0), IndirectObject(446, 0), IndirectObject(447, 0), IndirectObject(449, 0), IndirectObject(450, 0), IndirectObject(451, 0), IndirectObject(453, 0), IndirectObject(454, 0), IndirectObject(455, 0), IndirectObject(457, 0), IndirectObject(459, 0), IndirectObject(460, 0), IndirectObject(462, 0)], '/CropBox': [0, 0, 595.276, 793.70099], '/Tabs': '/S'}\n",
      "{'/Type': '/Page', '/Contents': [IndirectObject(715, 0), IndirectObject(464, 0)], '/Resources': IndirectObject(465, 0), '/MediaBox': [0, 0, 595.276, 793.70099], '/Parent': IndirectObject(1579, 0), '/StructParents': 500, '/Annots': [IndirectObject(469, 0), IndirectObject(471, 0), IndirectObject(472, 0), IndirectObject(473, 0), IndirectObject(475, 0), IndirectObject(477, 0), IndirectObject(478, 0), IndirectObject(479, 0), IndirectObject(481, 0), IndirectObject(482, 0), IndirectObject(483, 0), IndirectObject(485, 0), IndirectObject(486, 0), IndirectObject(488, 0), IndirectObject(490, 0), IndirectObject(491, 0), IndirectObject(492, 0), IndirectObject(494, 0), IndirectObject(495, 0), IndirectObject(496, 0), IndirectObject(497, 0), IndirectObject(499, 0), IndirectObject(500, 0), IndirectObject(501, 0), IndirectObject(503, 0), IndirectObject(504, 0), IndirectObject(506, 0), IndirectObject(507, 0), IndirectObject(508, 0), IndirectObject(509, 0), IndirectObject(511, 0), IndirectObject(512, 0), IndirectObject(513, 0), IndirectObject(515, 0), IndirectObject(516, 0), IndirectObject(517, 0), IndirectObject(519, 0), IndirectObject(520, 0), IndirectObject(522, 0), IndirectObject(523, 0), IndirectObject(524, 0), IndirectObject(526, 0), IndirectObject(527, 0), IndirectObject(528, 0), IndirectObject(529, 0), IndirectObject(531, 0), IndirectObject(532, 0), IndirectObject(533, 0), IndirectObject(535, 0), IndirectObject(536, 0), IndirectObject(537, 0), IndirectObject(539, 0), IndirectObject(540, 0), IndirectObject(541, 0), IndirectObject(542, 0), IndirectObject(544, 0), IndirectObject(545, 0), IndirectObject(546, 0), IndirectObject(548, 0), IndirectObject(549, 0), IndirectObject(550, 0), IndirectObject(552, 0), IndirectObject(553, 0), IndirectObject(554, 0), IndirectObject(556, 0), IndirectObject(557, 0), IndirectObject(558, 0), IndirectObject(559, 0), IndirectObject(561, 0), IndirectObject(563, 0), IndirectObject(564, 0), IndirectObject(566, 0), IndirectObject(567, 0), IndirectObject(568, 0), IndirectObject(570, 0), IndirectObject(571, 0), IndirectObject(572, 0), IndirectObject(573, 0), IndirectObject(575, 0), IndirectObject(577, 0), IndirectObject(578, 0), IndirectObject(579, 0), IndirectObject(581, 0), IndirectObject(582, 0), IndirectObject(583, 0), IndirectObject(585, 0), IndirectObject(586, 0), IndirectObject(587, 0), IndirectObject(589, 0), IndirectObject(590, 0), IndirectObject(591, 0), IndirectObject(593, 0), IndirectObject(595, 0), IndirectObject(596, 0), IndirectObject(597, 0), IndirectObject(599, 0), IndirectObject(600, 0), IndirectObject(601, 0), IndirectObject(602, 0), IndirectObject(604, 0), IndirectObject(605, 0), IndirectObject(606, 0), IndirectObject(607, 0), IndirectObject(609, 0), IndirectObject(610, 0), IndirectObject(612, 0), IndirectObject(613, 0), IndirectObject(614, 0), IndirectObject(616, 0), IndirectObject(617, 0), IndirectObject(619, 0), IndirectObject(621, 0), IndirectObject(622, 0), IndirectObject(623, 0), IndirectObject(624, 0), IndirectObject(626, 0), IndirectObject(628, 0), IndirectObject(629, 0), IndirectObject(630, 0), IndirectObject(632, 0), IndirectObject(634, 0), IndirectObject(635, 0), IndirectObject(636, 0), IndirectObject(638, 0), IndirectObject(639, 0), IndirectObject(640, 0), IndirectObject(641, 0), IndirectObject(643, 0), IndirectObject(644, 0), IndirectObject(645, 0), IndirectObject(647, 0), IndirectObject(648, 0), IndirectObject(649, 0), IndirectObject(651, 0), IndirectObject(652, 0), IndirectObject(653, 0), IndirectObject(655, 0), IndirectObject(656, 0), IndirectObject(657, 0), IndirectObject(659, 0), IndirectObject(660, 0)], '/CropBox': [0, 0, 595.276, 793.70099], '/Tabs': '/S'}\n",
      "{'/Type': '/Page', '/Contents': [IndirectObject(662, 0), IndirectObject(663, 0)], '/Resources': IndirectObject(749, 0), '/MediaBox': [0, 0, 595.276, 793.70099], '/Parent': IndirectObject(1579, 0), '/StructParents': 538, '/Annots': [IndirectObject(664, 0), IndirectObject(666, 0), IndirectObject(667, 0), IndirectObject(668, 0), IndirectObject(670, 0), IndirectObject(671, 0), IndirectObject(673, 0), IndirectObject(674, 0), IndirectObject(676, 0), IndirectObject(677, 0), IndirectObject(679, 0), IndirectObject(680, 0), IndirectObject(681, 0), IndirectObject(682, 0), IndirectObject(684, 0), IndirectObject(685, 0), IndirectObject(686, 0), IndirectObject(688, 0), IndirectObject(689, 0), IndirectObject(691, 0), IndirectObject(692, 0), IndirectObject(693, 0), IndirectObject(695, 0), IndirectObject(696, 0), IndirectObject(698, 0), IndirectObject(699, 0), IndirectObject(700, 0), IndirectObject(702, 0), IndirectObject(703, 0), IndirectObject(704, 0), IndirectObject(705, 0), IndirectObject(707, 0), IndirectObject(708, 0), IndirectObject(709, 0), IndirectObject(711, 0), IndirectObject(712, 0), IndirectObject(713, 0)], '/CropBox': [0, 0, 595.276, 793.70099], '/Tabs': '/S'}\n"
     ]
    },
    {
     "name": "stdout",
     "output_type": "stream",
     "text": [
      "hello_2.pdf\n",
      "<class 'str'>\n"
     ]
    },
    {
     "ename": "FileNotFoundError",
     "evalue": "[Errno 2] No such file or directory: 'hello_2.pdf'",
     "output_type": "error",
     "traceback": [
      "\u001b[0;31m---------------------------------------------------------------------------\u001b[0m",
      "\u001b[0;31mFileNotFoundError\u001b[0m                         Traceback (most recent call last)",
      "\u001b[0;32m<ipython-input-52-a6fd2593cd00>\u001b[0m in \u001b[0;36m<module>\u001b[0;34m\u001b[0m\n\u001b[1;32m     21\u001b[0m \u001b[0;34m\u001b[0m\u001b[0m\n\u001b[1;32m     22\u001b[0m         \u001b[0;31m# Open our PDF file with the PdfFileReader\u001b[0m\u001b[0;34m\u001b[0m\u001b[0;34m\u001b[0m\u001b[0;34m\u001b[0m\u001b[0m\n\u001b[0;32m---> 23\u001b[0;31m         \u001b[0mfile\u001b[0m \u001b[0;34m=\u001b[0m \u001b[0mPdfFileReader\u001b[0m\u001b[0;34m(\u001b[0m\u001b[0mi\u001b[0m\u001b[0;34m)\u001b[0m\u001b[0;34m\u001b[0m\u001b[0;34m\u001b[0m\u001b[0m\n\u001b[0m\u001b[1;32m     24\u001b[0m \u001b[0;34m\u001b[0m\u001b[0m\n\u001b[1;32m     25\u001b[0m         \u001b[0;31m# Get number of pages in original file\u001b[0m\u001b[0;34m\u001b[0m\u001b[0;34m\u001b[0m\u001b[0;34m\u001b[0m\u001b[0m\n",
      "\u001b[0;32m~/opt/anaconda3/lib/python3.8/site-packages/PyPDF2/pdf.py\u001b[0m in \u001b[0;36m__init__\u001b[0;34m(self, stream, strict, warndest, overwriteWarnings)\u001b[0m\n\u001b[1;32m   1215\u001b[0m             \u001b[0mwarnings\u001b[0m\u001b[0;34m.\u001b[0m\u001b[0mwarn\u001b[0m\u001b[0;34m(\u001b[0m\u001b[0;34m\"PdfFileReader stream/file object is not in binary mode. It may not be read correctly.\"\u001b[0m\u001b[0;34m,\u001b[0m \u001b[0mPdfReadWarning\u001b[0m\u001b[0;34m)\u001b[0m\u001b[0;34m\u001b[0m\u001b[0;34m\u001b[0m\u001b[0m\n\u001b[1;32m   1216\u001b[0m         \u001b[0;32mif\u001b[0m \u001b[0misString\u001b[0m\u001b[0;34m(\u001b[0m\u001b[0mstream\u001b[0m\u001b[0;34m)\u001b[0m\u001b[0;34m:\u001b[0m\u001b[0;34m\u001b[0m\u001b[0;34m\u001b[0m\u001b[0m\n\u001b[0;32m-> 1217\u001b[0;31m             \u001b[0;32mwith\u001b[0m \u001b[0mopen\u001b[0m\u001b[0;34m(\u001b[0m\u001b[0mstream\u001b[0m\u001b[0;34m,\u001b[0m \u001b[0;34m'rb'\u001b[0m\u001b[0;34m)\u001b[0m \u001b[0;32mas\u001b[0m \u001b[0mfileobj\u001b[0m\u001b[0;34m:\u001b[0m\u001b[0;34m\u001b[0m\u001b[0;34m\u001b[0m\u001b[0m\n\u001b[0m\u001b[1;32m   1218\u001b[0m                 \u001b[0mstream\u001b[0m \u001b[0;34m=\u001b[0m \u001b[0mBytesIO\u001b[0m\u001b[0;34m(\u001b[0m\u001b[0mb_\u001b[0m\u001b[0;34m(\u001b[0m\u001b[0mfileobj\u001b[0m\u001b[0;34m.\u001b[0m\u001b[0mread\u001b[0m\u001b[0;34m(\u001b[0m\u001b[0;34m)\u001b[0m\u001b[0;34m)\u001b[0m\u001b[0;34m)\u001b[0m\u001b[0;34m\u001b[0m\u001b[0;34m\u001b[0m\u001b[0m\n\u001b[1;32m   1219\u001b[0m         \u001b[0mself\u001b[0m\u001b[0;34m.\u001b[0m\u001b[0mread\u001b[0m\u001b[0;34m(\u001b[0m\u001b[0mstream\u001b[0m\u001b[0;34m)\u001b[0m\u001b[0;34m\u001b[0m\u001b[0;34m\u001b[0m\u001b[0m\n",
      "\u001b[0;31mFileNotFoundError\u001b[0m: [Errno 2] No such file or directory: 'hello_2.pdf'"
     ]
    }
   ],
   "source": [
    "# import PdfFileWriter and PdfFileReader\n",
    "# class from PyPDF2 library\n",
    "from PyPDF2 import PdfFileWriter, PdfFileReader\n",
    "from datetime import datetime\n",
    "import os\n",
    "files=os.listdir(r\"/Users/pachandan/futurense_dailywork/Day1/pdffiles\")\n",
    "print(files) \n",
    "\n",
    "for i in files:\n",
    "    print(i)\n",
    "    print(type(i))\n",
    "    if i.endswith('.pdf') :\n",
    "        #print(\"hello\")\n",
    "        curr_time=datetime.now().replace(microsecond=0)\n",
    "        format=\"%y_%b_%d_%H_%M_%S\"\n",
    "        new_time=datetime.strftime(curr_time,format)\n",
    "        filename= new_time\n",
    "\n",
    "\n",
    "        out = PdfFileWriter()\n",
    "\n",
    "        # Open our PDF file with the PdfFileReader\n",
    "        file = PdfFileReader(i)\n",
    "\n",
    "        # Get number of pages in original file\n",
    "        num = file.numPages\n",
    "\n",
    "        # Iterate through every page of the original\n",
    "        # file and add it to our new file.\n",
    "        for idx in range(num):\n",
    "\n",
    "            # Get the page at index idx\n",
    "            page = file.getPage(idx)\n",
    "            print(page)\n",
    "\n",
    "            # Add it to the output file\n",
    "            out.addPage(page)\n",
    "\n",
    "\n",
    "        # Create a variable password and store\n",
    "        # our password in it.\n",
    "        password = \"pass\"\n",
    "\n",
    "        # Encrypt the new file with the entered password\n",
    "        out.encrypt(password)\n",
    "\n",
    "        # Open a new file \"myfile_encrypted.pdf\"\n",
    "        with open(filename+\"encrypted.pdf\", \"wb\") as f:\n",
    "\n",
    "            # Write our encrypted PDF to this file\n",
    "            out.write(f)\n",
    "\n"
   ]
  },
  {
   "cell_type": "code",
   "execution_count": null,
   "id": "50e82fba",
   "metadata": {},
   "outputs": [],
   "source": []
  },
  {
   "cell_type": "code",
   "execution_count": 30,
   "id": "5da51e84",
   "metadata": {},
   "outputs": [
    {
     "name": "stdout",
     "output_type": "stream",
     "text": [
      ".DS_Store\n",
      "hello.pdf\n",
      "hello_2.pdf\n",
      "chandan.pdf\n"
     ]
    }
   ],
   "source": [
    "from PyPDF2 import PdfFileWriter, PdfFileReader\n",
    "from datetime import datetime\n",
    "\n",
    "\n",
    "namefile=\"\"\n",
    "num_of_pages=0\n",
    "\n",
    "\n",
    "#function to check whether the pdf is encrypted or not  \n",
    "import os\n",
    "files=os.listdir(\"/Users/pachandan/futurense_dailywork/Day1/pdffiles\")\n",
    "\n",
    "\n",
    "for i in files:\n",
    "    print(i)\n",
    "    if i.endswith('.pdf') and is_encrypted==False :\n",
    "        print(i)\n",
    "        out=PdfFileWriter()\n",
    "        file = PdfFileReader(i)\n",
    "        num = file.numPages\n",
    "        #num_of_pages=num\n",
    "        for idx in range(num):\n",
    "            page = file.getPage(idx)\n",
    "            out.addPage(page)\n",
    "        \n",
    "        #to add timeStamp with the name of the pdf file\n",
    "        curr_time=datetime.now().replace(microsecond=0)\n",
    "        format=\"%y_%b_%d_%H_%M_%S\"\n",
    "        new_time=datetime.strftime(curr_time,format)\n",
    "        filename= new_time\n",
    "        namefile=new_time\n",
    "        \n",
    "        password = filename\n",
    "        out.encrypt(password)\n",
    "        with open(filename+\".pdf\", \"wb\") as f:\n",
    "            out.write(f)\n",
    "        \n",
    "        #to get the size of the pdf file\n",
    "        #file_stat=os.stat(i)\n",
    "        #file_size=file_stat.st_size/(1024**2)\n",
    "    \n",
    "        #now insert the name and file sizes  in the DB\n",
    "        #sql = \"INSERT INTO namePdf (name, size) VALUES (%s,%s)\"\n",
    "        #val=(namefile,num_of_pages)\n",
    "        #mycursor.execute(sql,file_size)\n",
    "\n",
    "        #mydb.commit()\n",
    "\n",
    "        #print(mycursor.rowcount, \"record inserted.\")\n",
    "            \n"
   ]
  },
  {
   "cell_type": "code",
   "execution_count": null,
   "id": "acc9c0a1",
   "metadata": {},
   "outputs": [],
   "source": []
  },
  {
   "cell_type": "code",
   "execution_count": 55,
   "id": "1e949938",
   "metadata": {},
   "outputs": [
    {
     "name": "stdout",
     "output_type": "stream",
     "text": [
      "Requirement already satisfied: mysql-connector-python in /Users/pachandan/opt/anaconda3/lib/python3.8/site-packages (8.0.29)\n",
      "Requirement already satisfied: protobuf>=3.0.0 in /Users/pachandan/opt/anaconda3/lib/python3.8/site-packages (from mysql-connector-python) (3.20.1)\n",
      "Note: you may need to restart the kernel to use updated packages.\n"
     ]
    }
   ],
   "source": [
    "pip install mysql-connector-python"
   ]
  },
  {
   "cell_type": "code",
   "execution_count": 74,
   "id": "77ba0bba",
   "metadata": {},
   "outputs": [],
   "source": [
    "#to connect python to mysql database\n",
    "\n",
    "from sqlalchemy import create_engine\n",
    "user = 'root'\n",
    "password = 'chandan'\n",
    "host = '127.0.0.1'\n",
    "port = 3306\n",
    "database = 'futureDB'\n",
    "\n"
   ]
  },
  {
   "cell_type": "code",
   "execution_count": 75,
   "id": "cad9c71f",
   "metadata": {},
   "outputs": [],
   "source": [
    "def get_connection():\n",
    "    return create_engine(\n",
    "        url=\"mysql+pymysql://{0}:{1}@{2}:{3}/{4}\".format(\n",
    "            user, password, host, port, database\n",
    "        )\n",
    "    )"
   ]
  },
  {
   "cell_type": "code",
   "execution_count": 76,
   "id": "bdd3ecc9",
   "metadata": {},
   "outputs": [
    {
     "name": "stdout",
     "output_type": "stream",
     "text": [
      "Connection to the 127.0.0.1 for user root created successfully.\n"
     ]
    }
   ],
   "source": [
    "if __name__ == '__main__':\n",
    "  \n",
    "    try:\n",
    "        \n",
    "        # GET THE CONNECTION OBJECT (ENGINE) FOR THE DATABASE\n",
    "        engine = get_connection()\n",
    "        print(\n",
    "            f\"Connection to the {host} for user {user} created successfully.\")\n",
    "    except Exception as ex:\n",
    "        print(\"Connection could not be made due to the following error: \\n\", ex)"
   ]
  },
  {
   "cell_type": "code",
   "execution_count": 73,
   "id": "c339f7cf",
   "metadata": {},
   "outputs": [
    {
     "name": "stdout",
     "output_type": "stream",
     "text": [
      "Collecting pymysql\n",
      "  Downloading PyMySQL-1.0.2-py3-none-any.whl (43 kB)\n",
      "\u001b[K     |████████████████████████████████| 43 kB 653 kB/s eta 0:00:01\n",
      "\u001b[?25hInstalling collected packages: pymysql\n",
      "Successfully installed pymysql-1.0.2\n",
      "Note: you may need to restart the kernel to use updated packages.\n"
     ]
    }
   ],
   "source": [
    "pip install pymysql"
   ]
  },
  {
   "cell_type": "code",
   "execution_count": 80,
   "id": "8898a9be",
   "metadata": {},
   "outputs": [
    {
     "name": "stdout",
     "output_type": "stream",
     "text": [
      "[1, 2, 4, 7, 8, 9, 65]\n"
     ]
    }
   ],
   "source": [
    "#bubble sort\n",
    "\n",
    "def bubbleSort(arr):\n",
    "    n=len(arr)\n",
    "    \n",
    "    for i in range(n):\n",
    "        for j in range(n-i-1):\n",
    "            if arr[j]>arr[j+1]:\n",
    "                arr[j],arr[j+1]=arr[j+1],arr[j]\n",
    "    return arr\n",
    "\n",
    "a=[9,7,8,65,4,1,2]\n",
    "print(bubbleSort(a))\n",
    "            \n",
    "    \n",
    "\n"
   ]
  },
  {
   "cell_type": "code",
   "execution_count": 84,
   "id": "3a93e760",
   "metadata": {},
   "outputs": [
    {
     "name": "stdout",
     "output_type": "stream",
     "text": [
      "[4, 7, 8, 11, 21, 65, 99]\n"
     ]
    }
   ],
   "source": [
    "#insertion sort\n",
    "\n",
    "def insertionSort(arr):\n",
    "    n=len(arr)\n",
    "    #comparing from the 2nd element\n",
    "    for i in range(1,n):\n",
    "        temp=arr[i]\n",
    "        j=i-1\n",
    "        #Move the elements greater than temp to one position ahead from their current position\n",
    "        while j>=0 and temp<=arr[j]:\n",
    "            a[j+1]=a[j]\n",
    "        a[j+1]=temp\n",
    "        \n",
    "    return arr\n",
    "a=[99,7,8,65,4,11,21]\n",
    "print(bubbleSort(a))\n",
    "            "
   ]
  },
  {
   "cell_type": "code",
   "execution_count": 54,
   "id": "b959eddf",
   "metadata": {},
   "outputs": [
    {
     "name": "stdout",
     "output_type": "stream",
     "text": [
      "('futureDB',)\n",
      "('futurense',)\n",
      "('information_schema',)\n",
      "('mydatabase',)\n",
      "('mysql',)\n",
      "('performance_schema',)\n",
      "('sys',)\n"
     ]
    }
   ],
   "source": [
    "import mysql.connector\n",
    "mydb=mysql.connector.connect(host=\"127.0.0.1\",user=\"root\",passwd=\"CHANDra@123\",database=\"mydatabase\")\n",
    "mycursor = mydb.cursor()\n",
    "\n",
    "mycursor.execute(\"SHOW DATABASES\")\n",
    "for x in mycursor:\n",
    "    print(x)\n",
    "\n",
    "\n"
   ]
  },
  {
   "cell_type": "code",
   "execution_count": null,
   "id": "5fc6d282",
   "metadata": {},
   "outputs": [],
   "source": [
    "#to get name and size of the file\n"
   ]
  },
  {
   "cell_type": "code",
   "execution_count": 6,
   "id": "015a3979",
   "metadata": {},
   "outputs": [
    {
     "name": "stdout",
     "output_type": "stream",
     "text": [
      "('customers',)\n",
      "('namePdf',)\n"
     ]
    }
   ],
   "source": [
    "mycursor.execute(\"SHOW TABLES\")\n",
    "\n",
    "for x in mycursor:\n",
    "  print(x)\n"
   ]
  },
  {
   "cell_type": "code",
   "execution_count": 11,
   "id": "423499a5",
   "metadata": {},
   "outputs": [
    {
     "name": "stdout",
     "output_type": "stream",
     "text": [
      "1 record inserted.\n"
     ]
    }
   ],
   "source": [
    "num=25.6\n",
    "sql = \"INSERT INTO namePdf (name, size) VALUES (%s,%s)\"\n",
    "val=(\"Pankaj\",\"15.5\")\n",
    "mycursor.execute(sql,val)\n",
    "\n",
    "mydb.commit()\n",
    "\n",
    "print(mycursor.rowcount, \"record inserted.\")"
   ]
  },
  {
   "cell_type": "code",
   "execution_count": 12,
   "id": "2e4242ba",
   "metadata": {},
   "outputs": [
    {
     "name": "stdout",
     "output_type": "stream",
     "text": [
      "('chandan', Decimal('46'))\n",
      "('Pankaj', Decimal('16'))\n"
     ]
    }
   ],
   "source": [
    "mycursor.execute(\"select * from namePdf\")\n",
    "myresult=mycursor.fetchall()\n",
    "for i in myresult:\n",
    "    print(i)"
   ]
  },
  {
   "cell_type": "code",
   "execution_count": null,
   "id": "9814dcc1",
   "metadata": {},
   "outputs": [],
   "source": []
  },
  {
   "cell_type": "code",
   "execution_count": null,
   "id": "e3f4bbd2",
   "metadata": {},
   "outputs": [],
   "source": []
  }
 ],
 "metadata": {
  "kernelspec": {
   "display_name": "Python 3",
   "language": "python",
   "name": "python3"
  },
  "language_info": {
   "codemirror_mode": {
    "name": "ipython",
    "version": 3
   },
   "file_extension": ".py",
   "mimetype": "text/x-python",
   "name": "python",
   "nbconvert_exporter": "python",
   "pygments_lexer": "ipython3",
   "version": "3.8.8"
  }
 },
 "nbformat": 4,
 "nbformat_minor": 5
}
